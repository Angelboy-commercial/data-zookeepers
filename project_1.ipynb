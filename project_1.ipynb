{
 "cells": [
  {
   "cell_type": "code",
   "execution_count": 290,
   "metadata": {},
   "outputs": [],
   "source": [
    "import pandas as pd\n",
    "import hvplot.pandas\n",
    "from dotenv import load_dotenv\n",
    "import alpaca_trade_api as tradeapi\n",
    "import os\n"
   ]
  },
  {
   "cell_type": "code",
   "execution_count": null,
   "metadata": {},
   "outputs": [],
   "source": [
    "# Creating obect for the excel files\n",
    "apparel_xl = pd.read_excel('Apparel.xlsx')\n",
    "take_out_xl = pd.read_excel('Food_away_from_home.xlsx')\n",
    "housing_xl = pd.read_excel('Philadelphia_housing.xlsx')\n",
    "recreation_xl = pd.read_excel('Philly_Recreation.xlsx')"
   ]
  },
  {
   "cell_type": "code",
   "execution_count": null,
   "metadata": {},
   "outputs": [],
   "source": [
    "# Creating csv's out of the excel object\n",
    "apparel_csv = apparel_xl.to_csv('Philly_Apparel.csv')\n",
    "take_out_csv = take_out_xl.to_csv('Philly_take_out.csv')\n",
    "housing_csv = housing_xl.to_csv('Philly_housing.csv')\n",
    "recreation_csv = recreation_xl.to_csv('Philly_Recreation.csv')"
   ]
  },
  {
   "cell_type": "code",
   "execution_count": null,
   "metadata": {},
   "outputs": [],
   "source": [
    "# Creating the dataframes from the csv's\n",
    "Philly_apparel = pd.read_csv('Philly_Apparel.csv',index_col='Year')\n",
    "Philly_commercial_food = pd.read_csv('Philly_take_out.csv',index_col='Year')\n",
    "Philly_housing = pd.read_csv('Philly_housing.csv',index_col='Year')\n",
    "Philly_recreation = pd.read_csv('Philly_Recreation.csv',index_col='Year')\n"
   ]
  },
  {
   "cell_type": "code",
   "execution_count": null,
   "metadata": {},
   "outputs": [],
   "source": [
    "# Cleaning the df columns to only include \"Annual\"\n",
    "Philly_apparel = Philly_apparel[['Annual']]\n",
    "Philly_commercial_food = Philly_commercial_food[['Annual']]\n",
    "Philly_housing = Philly_housing[['Annual']]\n",
    "# Philly_recreation = Philly_recreation[['Annual']]"
   ]
  },
  {
   "cell_type": "code",
   "execution_count": null,
   "metadata": {},
   "outputs": [],
   "source": [
    "# Rename columns\n",
    "Philly_apparel.columns = ['PHL Apparel Annual']\n",
    "Philly_commercial_food.columns = ['PHL Commercial Food Annual']\n",
    "Philly_housing.columns = ['PHL Housing Annual']\n",
    "# Philly_recreation.columns = ['PHL Recreation Annual']\n"
   ]
  },
  {
   "cell_type": "code",
   "execution_count": null,
   "metadata": {},
   "outputs": [
    {
     "data": {
      "text/html": [
       "<div>\n",
       "<style scoped>\n",
       "    .dataframe tbody tr th:only-of-type {\n",
       "        vertical-align: middle;\n",
       "    }\n",
       "\n",
       "    .dataframe tbody tr th {\n",
       "        vertical-align: top;\n",
       "    }\n",
       "\n",
       "    .dataframe thead th {\n",
       "        text-align: right;\n",
       "    }\n",
       "</style>\n",
       "<table border=\"1\" class=\"dataframe\">\n",
       "  <thead>\n",
       "    <tr style=\"text-align: right;\">\n",
       "      <th></th>\n",
       "      <th>PHL Apparel Annual</th>\n",
       "      <th>PHL Commercial Food Annual</th>\n",
       "      <th>PHL Housing Annual</th>\n",
       "    </tr>\n",
       "    <tr>\n",
       "      <th>Year</th>\n",
       "      <th></th>\n",
       "      <th></th>\n",
       "      <th></th>\n",
       "    </tr>\n",
       "  </thead>\n",
       "  <tbody>\n",
       "    <tr>\n",
       "      <th>2012</th>\n",
       "      <td>112.280</td>\n",
       "      <td>198.335</td>\n",
       "      <td>299.124</td>\n",
       "    </tr>\n",
       "    <tr>\n",
       "      <th>2013</th>\n",
       "      <td>112.633</td>\n",
       "      <td>203.147</td>\n",
       "      <td>302.356</td>\n",
       "    </tr>\n",
       "    <tr>\n",
       "      <th>2014</th>\n",
       "      <td>112.205</td>\n",
       "      <td>208.462</td>\n",
       "      <td>309.193</td>\n",
       "    </tr>\n",
       "    <tr>\n",
       "      <th>2015</th>\n",
       "      <td>107.425</td>\n",
       "      <td>211.667</td>\n",
       "      <td>316.315</td>\n",
       "    </tr>\n",
       "    <tr>\n",
       "      <th>2016</th>\n",
       "      <td>110.940</td>\n",
       "      <td>215.071</td>\n",
       "      <td>320.564</td>\n",
       "    </tr>\n",
       "    <tr>\n",
       "      <th>2017</th>\n",
       "      <td>111.743</td>\n",
       "      <td>219.145</td>\n",
       "      <td>326.389</td>\n",
       "    </tr>\n",
       "    <tr>\n",
       "      <th>2018</th>\n",
       "      <td>110.423</td>\n",
       "      <td>222.673</td>\n",
       "      <td>331.801</td>\n",
       "    </tr>\n",
       "    <tr>\n",
       "      <th>2019</th>\n",
       "      <td>106.646</td>\n",
       "      <td>228.602</td>\n",
       "      <td>341.424</td>\n",
       "    </tr>\n",
       "    <tr>\n",
       "      <th>2020</th>\n",
       "      <td>104.952</td>\n",
       "      <td>238.666</td>\n",
       "      <td>350.596</td>\n",
       "    </tr>\n",
       "    <tr>\n",
       "      <th>2021</th>\n",
       "      <td>108.425</td>\n",
       "      <td>247.651</td>\n",
       "      <td>355.537</td>\n",
       "    </tr>\n",
       "    <tr>\n",
       "      <th>2022</th>\n",
       "      <td>NaN</td>\n",
       "      <td>NaN</td>\n",
       "      <td>NaN</td>\n",
       "    </tr>\n",
       "  </tbody>\n",
       "</table>\n",
       "</div>"
      ],
      "text/plain": [
       "      PHL Apparel Annual  PHL Commercial Food Annual  PHL Housing Annual\n",
       "Year                                                                    \n",
       "2012             112.280                     198.335             299.124\n",
       "2013             112.633                     203.147             302.356\n",
       "2014             112.205                     208.462             309.193\n",
       "2015             107.425                     211.667             316.315\n",
       "2016             110.940                     215.071             320.564\n",
       "2017             111.743                     219.145             326.389\n",
       "2018             110.423                     222.673             331.801\n",
       "2019             106.646                     228.602             341.424\n",
       "2020             104.952                     238.666             350.596\n",
       "2021             108.425                     247.651             355.537\n",
       "2022                 NaN                         NaN                 NaN"
      ]
     },
     "execution_count": 113,
     "metadata": {},
     "output_type": "execute_result"
    }
   ],
   "source": [
    "# Combine the dataframes\n",
    "df_list = [Philly_apparel,Philly_commercial_food,Philly_housing]\n",
    "\n",
    "combined_df = pd.concat(df_list, axis=1, join='inner')\n",
    "combined_df"
   ]
  },
  {
   "cell_type": "code",
   "execution_count": null,
   "metadata": {},
   "outputs": [],
   "source": [
    "# Df for Percent change year to year\n",
    "pct_change_df = combined_df.pct_change()\n",
    "\n"
   ]
  },
  {
   "cell_type": "code",
   "execution_count": null,
   "metadata": {},
   "outputs": [
    {
     "data": {
      "text/plain": [
       "True"
      ]
     },
     "execution_count": 115,
     "metadata": {},
     "output_type": "execute_result"
    }
   ],
   "source": [
    "# load env file\n",
    "load_dotenv()"
   ]
  },
  {
   "cell_type": "code",
   "execution_count": null,
   "metadata": {},
   "outputs": [
    {
     "data": {
      "text/plain": [
       "str"
      ]
     },
     "execution_count": 116,
     "metadata": {},
     "output_type": "execute_result"
    }
   ],
   "source": [
    "# Retreive API keys\n",
    "public_key = os.getenv(\"ALPACA_API_KEY\")\n",
    "private_key = os.getenv(\"ALPACA_SECRET_KEY\")\n",
    "type(private_key)"
   ]
  },
  {
   "cell_type": "code",
   "execution_count": null,
   "metadata": {},
   "outputs": [],
   "source": [
    "# Create alpacas connection object\n",
    "alpacas = tradeapi.REST(public_key, private_key, api_version=\"v2\")"
   ]
  },
  {
   "cell_type": "code",
   "execution_count": 292,
   "metadata": {},
   "outputs": [],
   "source": [
    "start = pd.Timestamp(\"2012-01-01\", tz=\"America/New_York\").isoformat()\n",
    "end = pd.Timestamp(\"2021-12-31\", tz=\"America/New_York\").isoformat()\n",
    "timeframe=\"1Day\""
   ]
  },
  {
   "cell_type": "code",
   "execution_count": 293,
   "metadata": {},
   "outputs": [],
   "source": [
    "real_estate = [\"TSCO\",\"DHI\",\"LOW\",\"LGIH\"]\n",
    "apparel = [\"NKE\", \"UA\",\"GPS\", \"LULU\", \"JWN\"]\n",
    "pleasure_food = [\"MCD\",\"YUM\", \"DRI\", \"QSR\"]\n",
    "\n",
    "def alpacas_api(symbols,timeframe, start,end):\n",
    "    dataframe = alpacas.get_bars(symbols, timeframe=timeframe, start=start, end=end).df\n",
    "    new_df = dataframe[['open','close','trade_count', 'symbol']]\n",
    "\n",
    "    return new_df\n",
    "\n",
    "Real_Estate_stocks = alpacas_api(real_estate, timeframe,start,end)\n",
    "Apparel_stocks = alpacas_api(apparel, timeframe,start,end)\n",
    "Food_stocks = alpacas_api(pleasure_food, timeframe,start,end)"
   ]
  },
  {
   "cell_type": "code",
   "execution_count": 294,
   "metadata": {},
   "outputs": [],
   "source": [
    "# Create pivot tables for closing prices\n",
    "Real_Estate_close = Real_Estate_stocks.pivot_table(values=\"close\", index=\"timestamp\",columns=\"symbol\")\n",
    "Apparel_close = Apparel_stocks.pivot_table(values=\"close\", index=\"timestamp\",columns=\"symbol\")\n",
    "Food_close = Food_stocks.pivot_table(values=\"close\", index=\"timestamp\",columns=\"symbol\")"
   ]
  },
  {
   "cell_type": "code",
   "execution_count": 295,
   "metadata": {},
   "outputs": [],
   "source": [
    "# Get the percetn changes for each column\n",
    "apparel_pct_change = combined_df[\"PHL Apparel Annual\"].pct_change()\n",
    "Food_pct_change = combined_df[\"PHL Commercial Food Annual\"].pct_change()\n",
    "Housing_pct_change = combined_df[\"PHL Housing Annual\"].pct_change()"
   ]
  },
  {
   "cell_type": "code",
   "execution_count": null,
   "metadata": {},
   "outputs": [],
   "source": [
    "# compare the cpi among cities, do the cities face a similar rate of inflation?\n",
    "# What industries become more expensive quicker in which cities "
   ]
  },
  {
   "cell_type": "code",
   "execution_count": null,
   "metadata": {},
   "outputs": [],
   "source": [
    "# def concat_stocks_cpi(stock, cpi):\n",
    "    # df = pd.concat([stock,cpi], axis=1, join=\"inner\")\n",
    "    # return df \n",
    "# concat_stocks_cpi(Real_Estate_close,Housing_pct_change)\n",
    "# df = pd.concat([Real_Estate_close, Housing_pct_change], axis=1, join=\"inner\")\n",
    "grouped = Real_Estate_close.reset_index()\n",
    "grouped.groupby(pd.Grouper(key='timestamp', freq='1Y')).pct_change()\n",
    "\n"
   ]
  },
  {
   "cell_type": "code",
   "execution_count": null,
   "metadata": {},
   "outputs": [
    {
     "data": {
      "text/plain": [
       "Year\n",
       "2012         NaN\n",
       "2013    0.024262\n",
       "2014    0.026163\n",
       "2015    0.015375\n",
       "2016    0.016082\n",
       "2017    0.018943\n",
       "2018    0.016099\n",
       "2019    0.026626\n",
       "2020    0.044024\n",
       "2021    0.037647\n",
       "2022    0.000000\n",
       "Name: PHL Commercial Food Annual, dtype: float64"
      ]
     },
     "execution_count": 249,
     "metadata": {},
     "output_type": "execute_result"
    }
   ],
   "source": [
    "# # Create functions to find the greatest annual increase and decrease for a given column\n",
    "def greatest_increase(dataframe):\n",
    "    largest = dataframe.max()\n",
    "    return largest\n",
    "    \n",
    "def greatest_decrease(dataframe):\n",
    "    smallest = dataframe.min()\n",
    "    return dataframe.loc[F\"{smallest}\"]\n",
    "\n",
    "\n",
    "        \n",
    "\n",
    "\n",
    "# greatest_decrease(Food_pct_change)    \n",
    "Food_pct_change.loc\n",
    "\n",
    "# 0.03309131793581832\n"
   ]
  }
 ],
 "metadata": {
  "interpreter": {
   "hash": "63c96a8b9f86f756cc212e6519dffd252f61935a26893506708a2a331cfe2774"
  },
  "kernelspec": {
   "display_name": "Python 3.9.7",
   "language": "python",
   "name": "python3"
  },
  "language_info": {
   "codemirror_mode": {
    "name": "ipython",
    "version": 3
   },
   "file_extension": ".py",
   "mimetype": "text/x-python",
   "name": "python",
   "nbconvert_exporter": "python",
   "pygments_lexer": "ipython3",
   "version": "3.7.11"
  },
  "orig_nbformat": 4
 },
 "nbformat": 4,
 "nbformat_minor": 2
}
