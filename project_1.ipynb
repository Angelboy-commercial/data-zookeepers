{
 "cells": [
  {
   "cell_type": "code",
   "execution_count": 744,
   "metadata": {},
   "outputs": [],
   "source": [
    "import pandas as pd\n",
    "import hvplot.pandas\n",
    "from dotenv import load_dotenv\n",
    "import alpaca_trade_api as tradeapi\n",
    "import os\n",
    "import plotly.express as px\n"
   ]
  },
  {
   "cell_type": "code",
   "execution_count": 745,
   "metadata": {},
   "outputs": [],
   "source": [
    "# Creating obect for the excel files\n",
    "# apparel_xl = pd.read_excel('Apparel.xlsx')\n",
    "# take_out_xl = pd.read_excel('Food_away_from_home.xlsx')\n",
    "# housing_xl = pd.read_excel('Philadelphia_housing.xlsx')\n",
    "# recreation_xl = pd.read_excel('Philly_Recreation.xlsx')"
   ]
  },
  {
   "cell_type": "code",
   "execution_count": 746,
   "metadata": {},
   "outputs": [],
   "source": [
    "# Creating csv's out of the excel object\n",
    "# apparel_csv = apparel_xl.to_csv('Philly_Apparel.csv')\n",
    "# take_out_csv = take_out_xl.to_csv('Philly_take_out.csv')\n",
    "# housing_csv = housing_xl.to_csv('Philly_housing.csv')\n",
    "# recreation_csv = recreation_xl.to_csv('Philly_Recreation.csv')"
   ]
  },
  {
   "cell_type": "code",
   "execution_count": 747,
   "metadata": {},
   "outputs": [],
   "source": [
    "# Creating the dataframes from the csv's\n",
    "Philly_apparel = pd.read_csv('apparel_clean.csv',index_col='Year')\n",
    "Philly_commercial_food = pd.read_csv('food_clean.csv',index_col='Year')\n",
    "Philly_housing = pd.read_csv('housing_clean.csv',index_col='Year')\n"
   ]
  },
  {
   "cell_type": "code",
   "execution_count": 748,
   "metadata": {},
   "outputs": [],
   "source": [
    "# Cleaning the df columns to only include \"Annual\"\n",
    "Philly_apparel = Philly_apparel[['Annual']]\n",
    "Philly_commercial_food = Philly_commercial_food[['Annual']]\n",
    "Philly_housing = Philly_housing[['Annual']]\n",
    "\n"
   ]
  },
  {
   "cell_type": "code",
   "execution_count": 749,
   "metadata": {},
   "outputs": [],
   "source": [
    "# Rename columns\n",
    "Philly_apparel.columns = ['PHL Apparel Annual']\n",
    "Philly_commercial_food.columns = ['PHL Commercial Food Annual']\n",
    "Philly_housing.columns = ['PHL Housing Annual']\n",
    "# Philly_recreation.columns = ['PHL Recreation Annual']\n"
   ]
  },
  {
   "cell_type": "code",
   "execution_count": 750,
   "metadata": {},
   "outputs": [],
   "source": [
    "# Combine the dataframes\n",
    "df_list = [Philly_apparel,Philly_commercial_food,Philly_housing]\n",
    "\n",
    "combined_df = pd.concat(df_list, axis=1, join='inner')\n"
   ]
  },
  {
   "cell_type": "code",
   "execution_count": 751,
   "metadata": {},
   "outputs": [],
   "source": [
    "# Df for Percent change year to year\n",
    "pct_change_df = combined_df.pct_change()\n",
    "\n"
   ]
  },
  {
   "cell_type": "code",
   "execution_count": 752,
   "metadata": {},
   "outputs": [
    {
     "data": {
      "text/plain": [
       "True"
      ]
     },
     "execution_count": 752,
     "metadata": {},
     "output_type": "execute_result"
    }
   ],
   "source": [
    "# load env file\n",
    "load_dotenv()"
   ]
  },
  {
   "cell_type": "code",
   "execution_count": 753,
   "metadata": {},
   "outputs": [
    {
     "data": {
      "text/plain": [
       "str"
      ]
     },
     "execution_count": 753,
     "metadata": {},
     "output_type": "execute_result"
    }
   ],
   "source": [
    "# Retreive API keys\n",
    "public_key = os.getenv(\"ALPACA_API_KEY\")\n",
    "private_key = os.getenv(\"ALPACA_SECRET_KEY\")\n",
    "type(private_key)"
   ]
  },
  {
   "cell_type": "code",
   "execution_count": 754,
   "metadata": {},
   "outputs": [],
   "source": [
    "# Create alpacas connection object\n",
    "alpacas = tradeapi.REST(public_key, private_key, api_version=\"v2\")"
   ]
  },
  {
   "cell_type": "code",
   "execution_count": 755,
   "metadata": {},
   "outputs": [],
   "source": [
    "start = pd.Timestamp(\"2012-01-01\", tz=\"America/New_York\").isoformat()\n",
    "end = pd.Timestamp(\"2021-12-31\", tz=\"America/New_York\").isoformat()\n",
    "timeframe=\"1Day\""
   ]
  },
  {
   "cell_type": "code",
   "execution_count": 756,
   "metadata": {},
   "outputs": [],
   "source": [
    "real_estate = [\"TSCO\",\"DHI\",\"LOW\",\"LGIH\"]\n",
    "apparel = [\"NKE\", \"UA\",\"GPS\", \"LULU\", \"JWN\"]\n",
    "pleasure_food = [\"MCD\",\"YUM\", \"DRI\", \"QSR\"]\n",
    "\n",
    "def alpacas_api(symbols,timeframe, start,end):\n",
    "    dataframe = alpacas.get_bars(symbols, timeframe=timeframe, start=start, end=end).df\n",
    "    new_df = dataframe[['open','close','trade_count', 'symbol']]\n",
    "\n",
    "    return new_df\n",
    "\n",
    "Real_Estate_stocks = alpacas_api(real_estate, timeframe,start,end)\n",
    "Apparel_stocks = alpacas_api(apparel, timeframe,start,end)\n",
    "Food_stocks = alpacas_api(pleasure_food, timeframe,start,end)\n"
   ]
  },
  {
   "cell_type": "code",
   "execution_count": 757,
   "metadata": {},
   "outputs": [],
   "source": [
    "# Create pivot tables for closing prices\n",
    "Real_Estate_close = Real_Estate_stocks.pivot_table(values=\"close\", index=\"timestamp\",columns=\"symbol\")\n",
    "Apparel_close = Apparel_stocks.pivot_table(values=\"close\", index=\"timestamp\",columns=\"symbol\")\n",
    "Food_close = Food_stocks.pivot_table(values=\"close\", index=\"timestamp\",columns=\"symbol\")"
   ]
  },
  {
   "cell_type": "code",
   "execution_count": 758,
   "metadata": {},
   "outputs": [],
   "source": [
    "# Get the percetn changes for each column\n",
    "apparel_pct_change = combined_df[\"PHL Apparel Annual\"].pct_change()\n",
    "Food_pct_change = combined_df[\"PHL Commercial Food Annual\"].pct_change()\n",
    "Housing_pct_change = combined_df[\"PHL Housing Annual\"].pct_change()"
   ]
  },
  {
   "cell_type": "code",
   "execution_count": 759,
   "metadata": {},
   "outputs": [],
   "source": [
    "# compare the cpi among cities, do the cities face a similar rate of inflation?\n",
    "# What industries become more expensive quicker in which cities "
   ]
  },
  {
   "cell_type": "code",
   "execution_count": 760,
   "metadata": {},
   "outputs": [],
   "source": [
    "def concat_stocks_cpi(stock, cpi):\n",
    "    df = pd.concat([stock,cpi], axis=1, join=\"inner\")\n",
    "    return df "
   ]
  },
  {
   "cell_type": "code",
   "execution_count": 761,
   "metadata": {},
   "outputs": [
    {
     "data": {
      "text/plain": [
       "timestamp\n",
       "2015         NaN\n",
       "2016   -0.022360\n",
       "2017    0.029060\n",
       "2018    0.231439\n",
       "2019    0.170760\n",
       "2020    0.275063\n",
       "2021    0.536315\n",
       "Name: close, dtype: float64"
      ]
     },
     "execution_count": 761,
     "metadata": {},
     "output_type": "execute_result"
    }
   ],
   "source": [
    "# Real_Estate_stocks.index = Real_Estate_stocks.index.year\n",
    "Real_Estate_stocks = Real_Estate_stocks.resample(\"Y\").mean()\n",
    "\n",
    "Real_estate_stock_annual = Real_Estate_stocks[\"close\"].pct_change()\n",
    "Real_estate_stock_annual.index = Real_estate_stock_annual.index.year\n",
    "Real_estate_stock_annual\n",
    "# Housing_pct_change"
   ]
  },
  {
   "cell_type": "code",
   "execution_count": 762,
   "metadata": {},
   "outputs": [],
   "source": [
    "def reformat_data(dataframe):\n",
    "    dataframe = dataframe.resample(\"Y\").mean()\n",
    "\n",
    "    dataframe = dataframe[\"close\"].pct_change()\n",
    "    dataframe.index =dataframe.index.year\n",
    "    return dataframe\n",
    "\n",
    "Apparel_stock_annual = reformat_data(Apparel_stocks)\n",
    "Food_stock_annual = reformat_data(Food_stocks)"
   ]
  },
  {
   "cell_type": "code",
   "execution_count": 763,
   "metadata": {},
   "outputs": [],
   "source": [
    "# IMPORTANT: CPI must be second dataframe entered into concat\n",
    "\n",
    "def concat_stocks_cpi(stock, cpi):\n",
    "    df = pd.concat([stock,cpi], axis=1, join=\"inner\")\n",
    "    return df \n",
    "\n",
    "Housing_combined = concat_stocks_cpi(Real_estate_stock_annual, Housing_pct_change).dropna()\n",
    "Housing_combined.columns = ['Real Estate stocks', \"Philly housing CPI\"]\n",
    "Housing_plot = Housing_combined.hvplot.line(xlabel='Year', ylabel=\"Annual Percent Change\")\n",
    "\n"
   ]
  },
  {
   "cell_type": "code",
   "execution_count": 764,
   "metadata": {},
   "outputs": [
    {
     "data": {},
     "metadata": {},
     "output_type": "display_data"
    },
    {
     "data": {
      "application/vnd.holoviews_exec.v0+json": "",
      "text/html": [
       "<div id='17187'>\n",
       "\n",
       "\n",
       "\n",
       "\n",
       "\n",
       "  <div class=\"bk-root\" id=\"29859ba8-0661-4a5b-b6bb-8c2c557173c2\" data-root-id=\"17187\"></div>\n",
       "</div>\n",
       "<script type=\"application/javascript\">(function(root) {\n",
       "  function embed_document(root) {\n",
       "    var docs_json = {\"643d02bf-54e1-402f-a1f2-a588920a9402\":{\"defs\":[{\"extends\":null,\"module\":null,\"name\":\"ReactiveHTML1\",\"overrides\":[],\"properties\":[]},{\"extends\":null,\"module\":null,\"name\":\"FlexBox1\",\"overrides\":[],\"properties\":[{\"default\":\"flex-start\",\"kind\":null,\"name\":\"align_content\"},{\"default\":\"flex-start\",\"kind\":null,\"name\":\"align_items\"},{\"default\":\"row\",\"kind\":null,\"name\":\"flex_direction\"},{\"default\":\"wrap\",\"kind\":null,\"name\":\"flex_wrap\"},{\"default\":\"flex-start\",\"kind\":null,\"name\":\"justify_content\"}]},{\"extends\":null,\"module\":null,\"name\":\"TemplateActions1\",\"overrides\":[],\"properties\":[{\"default\":0,\"kind\":null,\"name\":\"open_modal\"},{\"default\":0,\"kind\":null,\"name\":\"close_modal\"}]},{\"extends\":null,\"module\":null,\"name\":\"MaterialTemplateActions1\",\"overrides\":[],\"properties\":[{\"default\":0,\"kind\":null,\"name\":\"open_modal\"},{\"default\":0,\"kind\":null,\"name\":\"close_modal\"}]}],\"roots\":{\"references\":[{\"attributes\":{\"overlay\":{\"id\":\"17215\"}},\"id\":\"17213\",\"type\":\"BoxZoomTool\"},{\"attributes\":{},\"id\":\"17207\",\"type\":\"BasicTicker\"},{\"attributes\":{},\"id\":\"17244\",\"type\":\"UnionRenderers\"},{\"attributes\":{\"source\":{\"id\":\"17250\"}},\"id\":\"17257\",\"type\":\"CDSView\"},{\"attributes\":{},\"id\":\"17203\",\"type\":\"BasicTicker\"},{\"attributes\":{},\"id\":\"17198\",\"type\":\"LinearScale\"},{\"attributes\":{},\"id\":\"17224\",\"type\":\"BasicTickFormatter\"},{\"attributes\":{\"coordinates\":null,\"group\":null,\"text_color\":\"black\",\"text_font_size\":\"12pt\"},\"id\":\"17194\",\"type\":\"Title\"},{\"attributes\":{\"line_alpha\":0.2,\"line_color\":\"#30a2da\",\"line_width\":2,\"x\":{\"field\":\"index\"},\"y\":{\"field\":\"value\"}},\"id\":\"17234\",\"type\":\"Line\"},{\"attributes\":{\"axis\":{\"id\":\"17202\"},\"coordinates\":null,\"grid_line_color\":null,\"group\":null,\"ticker\":null},\"id\":\"17205\",\"type\":\"Grid\"},{\"attributes\":{},\"id\":\"17225\",\"type\":\"AllLabels\"},{\"attributes\":{\"line_alpha\":0.1,\"line_color\":\"#fc4f30\",\"line_width\":2,\"x\":{\"field\":\"index\"},\"y\":{\"field\":\"value\"}},\"id\":\"17254\",\"type\":\"Line\"},{\"attributes\":{},\"id\":\"17251\",\"type\":\"Selection\"},{\"attributes\":{\"below\":[{\"id\":\"17202\"}],\"center\":[{\"id\":\"17205\"},{\"id\":\"17209\"}],\"height\":300,\"left\":[{\"id\":\"17206\"}],\"margin\":[5,5,5,5],\"min_border_bottom\":10,\"min_border_left\":10,\"min_border_right\":10,\"min_border_top\":10,\"renderers\":[{\"id\":\"17235\"},{\"id\":\"17256\"}],\"right\":[{\"id\":\"17247\"}],\"sizing_mode\":\"fixed\",\"title\":{\"id\":\"17194\"},\"toolbar\":{\"id\":\"17216\"},\"width\":700,\"x_range\":{\"id\":\"17189\"},\"x_scale\":{\"id\":\"17198\"},\"y_range\":{\"id\":\"17190\"},\"y_scale\":{\"id\":\"17200\"}},\"id\":\"17193\",\"subtype\":\"Figure\",\"type\":\"Plot\"},{\"attributes\":{},\"id\":\"17200\",\"type\":\"LinearScale\"},{\"attributes\":{\"line_alpha\":0.2,\"line_color\":\"#fc4f30\",\"line_width\":2,\"x\":{\"field\":\"index\"},\"y\":{\"field\":\"value\"}},\"id\":\"17255\",\"type\":\"Line\"},{\"attributes\":{\"axis_label\":\"Annual Percent Change\",\"coordinates\":null,\"formatter\":{\"id\":\"17227\"},\"group\":null,\"major_label_policy\":{\"id\":\"17228\"},\"ticker\":{\"id\":\"17207\"}},\"id\":\"17206\",\"type\":\"LinearAxis\"},{\"attributes\":{},\"id\":\"17212\",\"type\":\"WheelZoomTool\"},{\"attributes\":{\"label\":{\"value\":\"Philly Apparel CPI\"},\"renderers\":[{\"id\":\"17256\"}]},\"id\":\"17270\",\"type\":\"LegendItem\"},{\"attributes\":{\"margin\":[5,5,5,5],\"name\":\"HSpacer26117\",\"sizing_mode\":\"stretch_width\"},\"id\":\"17188\",\"type\":\"Spacer\"},{\"attributes\":{\"axis_label\":\"Year\",\"coordinates\":null,\"formatter\":{\"id\":\"17224\"},\"group\":null,\"major_label_policy\":{\"id\":\"17225\"},\"ticker\":{\"id\":\"17203\"}},\"id\":\"17202\",\"type\":\"LinearAxis\"},{\"attributes\":{\"margin\":[5,5,5,5],\"name\":\"HSpacer26118\",\"sizing_mode\":\"stretch_width\"},\"id\":\"17380\",\"type\":\"Spacer\"},{\"attributes\":{\"line_color\":\"#30a2da\",\"line_width\":2,\"x\":{\"field\":\"index\"},\"y\":{\"field\":\"value\"}},\"id\":\"17249\",\"type\":\"Line\"},{\"attributes\":{\"line_color\":\"#fc4f30\",\"line_width\":2,\"x\":{\"field\":\"index\"},\"y\":{\"field\":\"value\"}},\"id\":\"17253\",\"type\":\"Line\"},{\"attributes\":{\"end\":2021.0,\"reset_end\":2021.0,\"reset_start\":2016.0,\"start\":2016.0,\"tags\":[[[\"index\",\"index\",null]]]},\"id\":\"17189\",\"type\":\"Range1d\"},{\"attributes\":{\"callback\":null,\"renderers\":[{\"id\":\"17235\"},{\"id\":\"17256\"}],\"tags\":[\"hv_created\"],\"tooltips\":[[\"Variable\",\"@{Variable}\"],[\"index\",\"@{index}\"],[\"value\",\"@{value}\"]]},\"id\":\"17191\",\"type\":\"HoverTool\"},{\"attributes\":{},\"id\":\"17230\",\"type\":\"Selection\"},{\"attributes\":{\"axis\":{\"id\":\"17206\"},\"coordinates\":null,\"dimension\":1,\"grid_line_color\":null,\"group\":null,\"ticker\":null},\"id\":\"17209\",\"type\":\"Grid\"},{\"attributes\":{},\"id\":\"17267\",\"type\":\"UnionRenderers\"},{\"attributes\":{\"click_policy\":\"mute\",\"coordinates\":null,\"group\":null,\"items\":[{\"id\":\"17248\"},{\"id\":\"17270\"}],\"location\":[0,0],\"title\":\"Variable\"},\"id\":\"17247\",\"type\":\"Legend\"},{\"attributes\":{\"end\":0.47592987540768905,\"reset_end\":0.47592987540768905,\"reset_start\":-0.3252334949069964,\"start\":-0.3252334949069964,\"tags\":[[[\"value\",\"value\",null]]]},\"id\":\"17190\",\"type\":\"Range1d\"},{\"attributes\":{\"coordinates\":null,\"data_source\":{\"id\":\"17250\"},\"glyph\":{\"id\":\"17253\"},\"group\":null,\"hover_glyph\":null,\"muted_glyph\":{\"id\":\"17255\"},\"nonselection_glyph\":{\"id\":\"17254\"},\"selection_glyph\":{\"id\":\"17271\"},\"view\":{\"id\":\"17257\"}},\"id\":\"17256\",\"type\":\"GlyphRenderer\"},{\"attributes\":{\"line_color\":\"#fc4f30\",\"line_width\":2,\"x\":{\"field\":\"index\"},\"y\":{\"field\":\"value\"}},\"id\":\"17271\",\"type\":\"Line\"},{\"attributes\":{},\"id\":\"17228\",\"type\":\"AllLabels\"},{\"attributes\":{\"data\":{\"Variable\":[\"Apparel stocks\",\"Apparel stocks\",\"Apparel stocks\",\"Apparel stocks\",\"Apparel stocks\",\"Apparel stocks\"],\"index\":[2016,2017,2018,2019,2020,2021],\"value\":{\"__ndarray__\":\"QMIqQcWK0L+4NzSOVzvEv2jToq/HL9o/8CtndjPkyD/op/CiJLHSP/zuMbllYtY/\",\"dtype\":\"float64\",\"order\":\"little\",\"shape\":[6]}},\"selected\":{\"id\":\"17230\"},\"selection_policy\":{\"id\":\"17244\"}},\"id\":\"17229\",\"type\":\"ColumnDataSource\"},{\"attributes\":{\"coordinates\":null,\"data_source\":{\"id\":\"17229\"},\"glyph\":{\"id\":\"17232\"},\"group\":null,\"hover_glyph\":null,\"muted_glyph\":{\"id\":\"17234\"},\"nonselection_glyph\":{\"id\":\"17233\"},\"selection_glyph\":{\"id\":\"17249\"},\"view\":{\"id\":\"17236\"}},\"id\":\"17235\",\"type\":\"GlyphRenderer\"},{\"attributes\":{\"data\":{\"Variable\":[\"Philly Apparel CPI\",\"Philly Apparel CPI\",\"Philly Apparel CPI\",\"Philly Apparel CPI\",\"Philly Apparel CPI\",\"Philly Apparel CPI\"],\"index\":[2016,2017,2018,2019,2020,2021],\"value\":{\"__ndarray__\":\"AIHO4b3AoD8AOOw4v6V9P4CTa+1RMYi/EIrbqEuDob9gtAsu+0OQv8C6oWBY8aA/\",\"dtype\":\"float64\",\"order\":\"little\",\"shape\":[6]}},\"selected\":{\"id\":\"17251\"},\"selection_policy\":{\"id\":\"17267\"}},\"id\":\"17250\",\"type\":\"ColumnDataSource\"},{\"attributes\":{\"tools\":[{\"id\":\"17191\"},{\"id\":\"17210\"},{\"id\":\"17211\"},{\"id\":\"17212\"},{\"id\":\"17213\"},{\"id\":\"17214\"}]},\"id\":\"17216\",\"type\":\"Toolbar\"},{\"attributes\":{\"label\":{\"value\":\"Apparel stocks\"},\"renderers\":[{\"id\":\"17235\"}]},\"id\":\"17248\",\"type\":\"LegendItem\"},{\"attributes\":{\"bottom_units\":\"screen\",\"coordinates\":null,\"fill_alpha\":0.5,\"fill_color\":\"lightgrey\",\"group\":null,\"left_units\":\"screen\",\"level\":\"overlay\",\"line_alpha\":1.0,\"line_color\":\"black\",\"line_dash\":[4,4],\"line_width\":2,\"right_units\":\"screen\",\"syncable\":false,\"top_units\":\"screen\"},\"id\":\"17215\",\"type\":\"BoxAnnotation\"},{\"attributes\":{},\"id\":\"17210\",\"type\":\"SaveTool\"},{\"attributes\":{\"children\":[{\"id\":\"17188\"},{\"id\":\"17193\"},{\"id\":\"17380\"}],\"margin\":[0,0,0,0],\"name\":\"Row26113\",\"tags\":[\"embedded\"]},\"id\":\"17187\",\"type\":\"Row\"},{\"attributes\":{\"source\":{\"id\":\"17229\"}},\"id\":\"17236\",\"type\":\"CDSView\"},{\"attributes\":{},\"id\":\"17211\",\"type\":\"PanTool\"},{\"attributes\":{},\"id\":\"17227\",\"type\":\"BasicTickFormatter\"},{\"attributes\":{\"line_color\":\"#30a2da\",\"line_width\":2,\"x\":{\"field\":\"index\"},\"y\":{\"field\":\"value\"}},\"id\":\"17232\",\"type\":\"Line\"},{\"attributes\":{},\"id\":\"17214\",\"type\":\"ResetTool\"},{\"attributes\":{\"line_alpha\":0.1,\"line_color\":\"#30a2da\",\"line_width\":2,\"x\":{\"field\":\"index\"},\"y\":{\"field\":\"value\"}},\"id\":\"17233\",\"type\":\"Line\"}],\"root_ids\":[\"17187\"]},\"title\":\"Bokeh Application\",\"version\":\"2.4.1\"}};\n",
       "    var render_items = [{\"docid\":\"643d02bf-54e1-402f-a1f2-a588920a9402\",\"root_ids\":[\"17187\"],\"roots\":{\"17187\":\"29859ba8-0661-4a5b-b6bb-8c2c557173c2\"}}];\n",
       "    root.Bokeh.embed.embed_items_notebook(docs_json, render_items);\n",
       "  }\n",
       "  if (root.Bokeh !== undefined && root.Bokeh.Panel !== undefined) {\n",
       "    embed_document(root);\n",
       "  } else {\n",
       "    var attempts = 0;\n",
       "    var timer = setInterval(function(root) {\n",
       "      if (root.Bokeh !== undefined && root.Bokeh.Panel !== undefined) {\n",
       "        clearInterval(timer);\n",
       "        embed_document(root);\n",
       "      } else if (document.readyState == \"complete\") {\n",
       "        attempts++;\n",
       "        if (attempts > 200) {\n",
       "          clearInterval(timer);\n",
       "          console.log(\"Bokeh: ERROR: Unable to run BokehJS code because BokehJS library is missing\");\n",
       "        }\n",
       "      }\n",
       "    }, 25, root)\n",
       "  }\n",
       "})(window);</script>"
      ],
      "text/plain": [
       ":NdOverlay   [Variable]\n",
       "   :Curve   [index]   (value)"
      ]
     },
     "execution_count": 764,
     "metadata": {
      "application/vnd.holoviews_exec.v0+json": {
       "id": "17187"
      }
     },
     "output_type": "execute_result"
    }
   ],
   "source": [
    "apparel_combined = concat_stocks_cpi(Apparel_stock_annual,apparel_pct_change).dropna()\n",
    "apparel_combined.columns = ['Apparel stocks', \"Philly Apparel CPI\"]\n",
    "apparel_plot = apparel_combined.hvplot.line(xlabel='Year', ylabel=\"Annual Percent Change\")\n",
    "apparel_plot"
   ]
  },
  {
   "cell_type": "code",
   "execution_count": 765,
   "metadata": {},
   "outputs": [],
   "source": [
    "food_combined = concat_stocks_cpi(Food_stock_annual,Food_pct_change).dropna()\n",
    "food_combined.columns = ['Commerical Food stocks', \"Philly Commerical Food CPI\"]\n",
    "food_plot = food_combined.hvplot.line(xlabel='Year', ylabel=\"Annual Percent Change\")\n"
   ]
  },
  {
   "cell_type": "code",
   "execution_count": 766,
   "metadata": {},
   "outputs": [
    {
     "data": {},
     "metadata": {},
     "output_type": "display_data"
    },
    {
     "data": {
      "application/vnd.holoviews_exec.v0+json": "",
      "text/html": [
       "<div id='17442'>\n",
       "\n",
       "\n",
       "\n",
       "\n",
       "\n",
       "  <div class=\"bk-root\" id=\"2e9c6297-ee02-4963-9bd0-8b3951a77af1\" data-root-id=\"17442\"></div>\n",
       "</div>\n",
       "<script type=\"application/javascript\">(function(root) {\n",
       "  function embed_document(root) {\n",
       "    var docs_json = {\"939f90c8-e133-4837-ad2e-831685e8675e\":{\"defs\":[{\"extends\":null,\"module\":null,\"name\":\"ReactiveHTML1\",\"overrides\":[],\"properties\":[]},{\"extends\":null,\"module\":null,\"name\":\"FlexBox1\",\"overrides\":[],\"properties\":[{\"default\":\"flex-start\",\"kind\":null,\"name\":\"align_content\"},{\"default\":\"flex-start\",\"kind\":null,\"name\":\"align_items\"},{\"default\":\"row\",\"kind\":null,\"name\":\"flex_direction\"},{\"default\":\"wrap\",\"kind\":null,\"name\":\"flex_wrap\"},{\"default\":\"flex-start\",\"kind\":null,\"name\":\"justify_content\"}]},{\"extends\":null,\"module\":null,\"name\":\"TemplateActions1\",\"overrides\":[],\"properties\":[{\"default\":0,\"kind\":null,\"name\":\"open_modal\"},{\"default\":0,\"kind\":null,\"name\":\"close_modal\"}]},{\"extends\":null,\"module\":null,\"name\":\"MaterialTemplateActions1\",\"overrides\":[],\"properties\":[{\"default\":0,\"kind\":null,\"name\":\"open_modal\"},{\"default\":0,\"kind\":null,\"name\":\"close_modal\"}]}],\"roots\":{\"references\":[{\"attributes\":{\"children\":[[{\"id\":\"17448\"},0,0],[{\"id\":\"17613\"},0,1],[{\"id\":\"17778\"},0,2]]},\"id\":\"17980\",\"type\":\"GridBox\"},{\"attributes\":{\"label\":{\"value\":\"Philly Apparel CPI\"},\"renderers\":[{\"id\":\"17841\"}]},\"id\":\"17855\",\"type\":\"LegendItem\"},{\"attributes\":{\"axis_label\":\"Annual Percent Change\",\"coordinates\":null,\"formatter\":{\"id\":\"17647\"},\"group\":null,\"major_label_policy\":{\"id\":\"17648\"},\"ticker\":{\"id\":\"17627\"}},\"id\":\"17626\",\"type\":\"LinearAxis\"},{\"attributes\":{},\"id\":\"17648\",\"type\":\"AllLabels\"},{\"attributes\":{\"click_policy\":\"mute\",\"coordinates\":null,\"group\":null,\"items\":[{\"id\":\"17833\"},{\"id\":\"17855\"}],\"location\":[0,0],\"title\":\"Variable\"},\"id\":\"17832\",\"type\":\"Legend\"},{\"attributes\":{\"label\":{\"value\":\"Philly housing CPI\"},\"renderers\":[{\"id\":\"17676\"}]},\"id\":\"17690\",\"type\":\"LegendItem\"},{\"attributes\":{\"data\":{\"Variable\":[\"Apparel stocks\",\"Apparel stocks\",\"Apparel stocks\",\"Apparel stocks\",\"Apparel stocks\",\"Apparel stocks\"],\"index\":[2016,2017,2018,2019,2020,2021],\"value\":{\"__ndarray__\":\"QMIqQcWK0L+4NzSOVzvEv2jToq/HL9o/8CtndjPkyD/op/CiJLHSP/zuMbllYtY/\",\"dtype\":\"float64\",\"order\":\"little\",\"shape\":[6]}},\"selected\":{\"id\":\"17815\"},\"selection_policy\":{\"id\":\"17829\"}},\"id\":\"17814\",\"type\":\"ColumnDataSource\"},{\"attributes\":{},\"id\":\"17644\",\"type\":\"BasicTickFormatter\"},{\"attributes\":{\"children\":[{\"id\":\"17443\"},{\"id\":\"17983\"},{\"id\":\"18308\"}],\"margin\":[0,0,0,0],\"name\":\"Row26563\",\"tags\":[\"embedded\"]},\"id\":\"17442\",\"type\":\"Row\"},{\"attributes\":{\"label\":{\"value\":\"Philly Commerical Food CPI\"},\"renderers\":[{\"id\":\"17511\"}]},\"id\":\"17525\",\"type\":\"LegendItem\"},{\"attributes\":{\"line_color\":\"#fc4f30\",\"line_width\":2,\"x\":{\"field\":\"index\"},\"y\":{\"field\":\"value\"}},\"id\":\"17691\",\"type\":\"Line\"},{\"attributes\":{},\"id\":\"17618\",\"type\":\"LinearScale\"},{\"attributes\":{},\"id\":\"17645\",\"type\":\"AllLabels\"},{\"attributes\":{\"axis_label\":\"Year\",\"coordinates\":null,\"formatter\":{\"id\":\"17644\"},\"group\":null,\"major_label_policy\":{\"id\":\"17645\"},\"ticker\":{\"id\":\"17623\"}},\"id\":\"17622\",\"type\":\"LinearAxis\"},{\"attributes\":{\"margin\":[5,5,5,5],\"name\":\"HSpacer26567\",\"sizing_mode\":\"stretch_width\"},\"id\":\"17443\",\"type\":\"Spacer\"},{\"attributes\":{\"label\":{\"value\":\"Commerical Food stocks\"},\"renderers\":[{\"id\":\"17490\"}]},\"id\":\"17503\",\"type\":\"LegendItem\"},{\"attributes\":{\"coordinates\":null,\"group\":null,\"text_color\":\"black\",\"text_font_size\":\"12pt\"},\"id\":\"17614\",\"type\":\"Title\"},{\"attributes\":{},\"id\":\"17810\",\"type\":\"AllLabels\"},{\"attributes\":{\"axis\":{\"id\":\"17622\"},\"coordinates\":null,\"grid_line_color\":null,\"group\":null,\"ticker\":null},\"id\":\"17625\",\"type\":\"Grid\"},{\"attributes\":{\"line_alpha\":0.1,\"line_color\":\"#30a2da\",\"line_width\":2,\"x\":{\"field\":\"index\"},\"y\":{\"field\":\"value\"}},\"id\":\"17488\",\"type\":\"Line\"},{\"attributes\":{},\"id\":\"17620\",\"type\":\"LinearScale\"},{\"attributes\":{},\"id\":\"17627\",\"type\":\"BasicTicker\"},{\"attributes\":{},\"id\":\"17852\",\"type\":\"UnionRenderers\"},{\"attributes\":{\"toolbars\":[{\"id\":\"17471\"},{\"id\":\"17636\"},{\"id\":\"17801\"}],\"tools\":[{\"id\":\"17446\"},{\"id\":\"17465\"},{\"id\":\"17466\"},{\"id\":\"17467\"},{\"id\":\"17468\"},{\"id\":\"17469\"},{\"id\":\"17611\"},{\"id\":\"17630\"},{\"id\":\"17631\"},{\"id\":\"17632\"},{\"id\":\"17633\"},{\"id\":\"17634\"},{\"id\":\"17776\"},{\"id\":\"17795\"},{\"id\":\"17796\"},{\"id\":\"17797\"},{\"id\":\"17798\"},{\"id\":\"17799\"}]},\"id\":\"17981\",\"type\":\"ProxyToolbar\"},{\"attributes\":{},\"id\":\"17623\",\"type\":\"BasicTicker\"},{\"attributes\":{\"end\":0.6157932392664185,\"reset_end\":0.6157932392664185,\"reset_start\":-0.33794834616688085,\"start\":-0.33794834616688085,\"tags\":[[[\"value\",\"value\",null]]]},\"id\":\"17445\",\"type\":\"Range1d\"},{\"attributes\":{\"source\":{\"id\":\"17835\"}},\"id\":\"17842\",\"type\":\"CDSView\"},{\"attributes\":{},\"id\":\"17650\",\"type\":\"Selection\"},{\"attributes\":{\"line_color\":\"#30a2da\",\"line_width\":2,\"x\":{\"field\":\"index\"},\"y\":{\"field\":\"value\"}},\"id\":\"17504\",\"type\":\"Line\"},{\"attributes\":{\"axis\":{\"id\":\"17626\"},\"coordinates\":null,\"dimension\":1,\"grid_line_color\":null,\"group\":null,\"ticker\":null},\"id\":\"17629\",\"type\":\"Grid\"},{\"attributes\":{\"data\":{\"Variable\":[\"Commerical Food stocks\",\"Commerical Food stocks\",\"Commerical Food stocks\",\"Commerical Food stocks\",\"Commerical Food stocks\",\"Commerical Food stocks\"],\"index\":[2016,2017,2018,2019,2020,2021],\"value\":{\"__ndarray__\":\"kGmphkSDsD/YbFWbnO7HP0BbBoyvpMA/QNg9xMaQxz9Yvmpieq+4vySir5pBjdE/\",\"dtype\":\"float64\",\"order\":\"little\",\"shape\":[6]}},\"selected\":{\"id\":\"17485\"},\"selection_policy\":{\"id\":\"17499\"}},\"id\":\"17484\",\"type\":\"ColumnDataSource\"},{\"attributes\":{\"data\":{\"Variable\":[\"Philly Commerical Food CPI\",\"Philly Commerical Food CPI\",\"Philly Commerical Food CPI\",\"Philly Commerical Food CPI\",\"Philly Commerical Food CPI\",\"Philly Commerical Food CPI\"],\"index\":[2016,2017,2018,2019,2020,2021],\"value\":{\"__ndarray__\":\"wKFHp8N3kD9AAYIkr2WTP0D7POY8fJA/gIWRX/lDmz8AW54QVIqmPwDpnWtvRqM/\",\"dtype\":\"float64\",\"order\":\"little\",\"shape\":[6]}},\"selected\":{\"id\":\"17506\"},\"selection_policy\":{\"id\":\"17522\"}},\"id\":\"17505\",\"type\":\"ColumnDataSource\"},{\"attributes\":{\"below\":[{\"id\":\"17622\"}],\"center\":[{\"id\":\"17625\"},{\"id\":\"17629\"}],\"height\":300,\"left\":[{\"id\":\"17626\"}],\"margin\":null,\"min_border_bottom\":10,\"min_border_left\":10,\"min_border_right\":10,\"min_border_top\":10,\"renderers\":[{\"id\":\"17655\"},{\"id\":\"17676\"}],\"right\":[{\"id\":\"17667\"}],\"sizing_mode\":\"fixed\",\"title\":{\"id\":\"17614\"},\"toolbar\":{\"id\":\"17636\"},\"toolbar_location\":null,\"width\":700,\"x_range\":{\"id\":\"17444\"},\"x_scale\":{\"id\":\"17618\"},\"y_range\":{\"id\":\"17445\"},\"y_scale\":{\"id\":\"17620\"}},\"id\":\"17613\",\"subtype\":\"Figure\",\"type\":\"Plot\"},{\"attributes\":{\"coordinates\":null,\"data_source\":{\"id\":\"17835\"},\"glyph\":{\"id\":\"17838\"},\"group\":null,\"hover_glyph\":null,\"muted_glyph\":{\"id\":\"17840\"},\"nonselection_glyph\":{\"id\":\"17839\"},\"selection_glyph\":{\"id\":\"17856\"},\"view\":{\"id\":\"17842\"}},\"id\":\"17841\",\"type\":\"GlyphRenderer\"},{\"attributes\":{\"data\":{\"Variable\":[\"Philly housing CPI\",\"Philly housing CPI\",\"Philly housing CPI\",\"Philly housing CPI\",\"Philly housing CPI\",\"Philly housing CPI\"],\"index\":[2016,2017,2018,2019,2020,2021],\"value\":{\"__ndarray__\":\"gCC2iamCiz/AkxzGcZuSPwBfE665+pA/AGHj/siynT/AZWW0OYKbP4BwEc3d3Iw/\",\"dtype\":\"float64\",\"order\":\"little\",\"shape\":[6]}},\"selected\":{\"id\":\"17671\"},\"selection_policy\":{\"id\":\"17687\"}},\"id\":\"17670\",\"type\":\"ColumnDataSource\"},{\"attributes\":{},\"id\":\"17485\",\"type\":\"Selection\"},{\"attributes\":{},\"id\":\"17522\",\"type\":\"UnionRenderers\"},{\"attributes\":{\"source\":{\"id\":\"17505\"}},\"id\":\"17512\",\"type\":\"CDSView\"},{\"attributes\":{\"tools\":[{\"id\":\"17611\"},{\"id\":\"17630\"},{\"id\":\"17631\"},{\"id\":\"17632\"},{\"id\":\"17633\"},{\"id\":\"17634\"}]},\"id\":\"17636\",\"type\":\"Toolbar\"},{\"attributes\":{},\"id\":\"17480\",\"type\":\"AllLabels\"},{\"attributes\":{\"callback\":null,\"renderers\":[{\"id\":\"17655\"},{\"id\":\"17676\"}],\"tags\":[\"hv_created\"],\"tooltips\":[[\"Variable\",\"@{Variable}\"],[\"index\",\"@{index}\"],[\"value\",\"@{value}\"]]},\"id\":\"17611\",\"type\":\"HoverTool\"},{\"attributes\":{\"coordinates\":null,\"data_source\":{\"id\":\"17505\"},\"glyph\":{\"id\":\"17508\"},\"group\":null,\"hover_glyph\":null,\"muted_glyph\":{\"id\":\"17510\"},\"nonselection_glyph\":{\"id\":\"17509\"},\"selection_glyph\":{\"id\":\"17526\"},\"view\":{\"id\":\"17512\"}},\"id\":\"17511\",\"type\":\"GlyphRenderer\"},{\"attributes\":{\"click_policy\":\"mute\",\"coordinates\":null,\"group\":null,\"items\":[{\"id\":\"17503\"},{\"id\":\"17525\"}],\"location\":[0,0],\"title\":\"Variable\"},\"id\":\"17502\",\"type\":\"Legend\"},{\"attributes\":{\"bottom_units\":\"screen\",\"coordinates\":null,\"fill_alpha\":0.5,\"fill_color\":\"lightgrey\",\"group\":null,\"left_units\":\"screen\",\"level\":\"overlay\",\"line_alpha\":1.0,\"line_color\":\"black\",\"line_dash\":[4,4],\"line_width\":2,\"right_units\":\"screen\",\"syncable\":false,\"top_units\":\"screen\"},\"id\":\"17635\",\"type\":\"BoxAnnotation\"},{\"attributes\":{},\"id\":\"17630\",\"type\":\"SaveTool\"},{\"attributes\":{\"data\":{\"Variable\":[\"Real Estate stocks\",\"Real Estate stocks\",\"Real Estate stocks\",\"Real Estate stocks\",\"Real Estate stocks\",\"Real Estate stocks\"],\"index\":[2016,2017,2018,2019,2020,2021],\"value\":{\"__ndarray__\":\"wLYWO4rllr9AKu3eB8KdP4j968DOn80/0OdAu3fbxT+ozzido5rRPwKFvJl9KeE/\",\"dtype\":\"float64\",\"order\":\"little\",\"shape\":[6]}},\"selected\":{\"id\":\"17650\"},\"selection_policy\":{\"id\":\"17664\"}},\"id\":\"17649\",\"type\":\"ColumnDataSource\"},{\"attributes\":{},\"id\":\"17664\",\"type\":\"UnionRenderers\"},{\"attributes\":{},\"id\":\"17631\",\"type\":\"PanTool\"},{\"attributes\":{\"source\":{\"id\":\"17670\"}},\"id\":\"17677\",\"type\":\"CDSView\"},{\"attributes\":{},\"id\":\"17634\",\"type\":\"ResetTool\"},{\"attributes\":{},\"id\":\"17632\",\"type\":\"WheelZoomTool\"},{\"attributes\":{\"overlay\":{\"id\":\"17635\"}},\"id\":\"17633\",\"type\":\"BoxZoomTool\"},{\"attributes\":{},\"id\":\"17671\",\"type\":\"Selection\"},{\"attributes\":{\"line_color\":\"#30a2da\",\"line_width\":2,\"x\":{\"field\":\"index\"},\"y\":{\"field\":\"value\"}},\"id\":\"17487\",\"type\":\"Line\"},{\"attributes\":{\"line_alpha\":0.2,\"line_color\":\"#fc4f30\",\"line_width\":2,\"x\":{\"field\":\"index\"},\"y\":{\"field\":\"value\"}},\"id\":\"17510\",\"type\":\"Line\"},{\"attributes\":{},\"id\":\"17506\",\"type\":\"Selection\"},{\"attributes\":{\"click_policy\":\"mute\",\"coordinates\":null,\"group\":null,\"items\":[{\"id\":\"17668\"},{\"id\":\"17690\"}],\"location\":[0,0],\"title\":\"Variable\"},\"id\":\"17667\",\"type\":\"Legend\"},{\"attributes\":{\"below\":[{\"id\":\"17457\"}],\"center\":[{\"id\":\"17460\"},{\"id\":\"17464\"}],\"height\":300,\"left\":[{\"id\":\"17461\"}],\"margin\":null,\"min_border_bottom\":10,\"min_border_left\":10,\"min_border_right\":10,\"min_border_top\":10,\"renderers\":[{\"id\":\"17490\"},{\"id\":\"17511\"}],\"right\":[{\"id\":\"17502\"}],\"sizing_mode\":\"fixed\",\"title\":{\"id\":\"17449\"},\"toolbar\":{\"id\":\"17471\"},\"toolbar_location\":null,\"width\":700,\"x_range\":{\"id\":\"17444\"},\"x_scale\":{\"id\":\"17453\"},\"y_range\":{\"id\":\"17445\"},\"y_scale\":{\"id\":\"17455\"}},\"id\":\"17448\",\"subtype\":\"Figure\",\"type\":\"Plot\"},{\"attributes\":{\"line_color\":\"#fc4f30\",\"line_width\":2,\"x\":{\"field\":\"index\"},\"y\":{\"field\":\"value\"}},\"id\":\"17856\",\"type\":\"Line\"},{\"attributes\":{\"children\":[{\"id\":\"17982\"},{\"id\":\"17980\"}]},\"id\":\"17983\",\"type\":\"Column\"},{\"attributes\":{\"callback\":null,\"renderers\":[{\"id\":\"17490\"},{\"id\":\"17511\"}],\"tags\":[\"hv_created\"],\"tooltips\":[[\"Variable\",\"@{Variable}\"],[\"index\",\"@{index}\"],[\"value\",\"@{value}\"]]},\"id\":\"17446\",\"type\":\"HoverTool\"},{\"attributes\":{},\"id\":\"17647\",\"type\":\"BasicTickFormatter\"},{\"attributes\":{\"label\":{\"value\":\"Real Estate stocks\"},\"renderers\":[{\"id\":\"17655\"}]},\"id\":\"17668\",\"type\":\"LegendItem\"},{\"attributes\":{\"line_alpha\":0.2,\"line_color\":\"#30a2da\",\"line_width\":2,\"x\":{\"field\":\"index\"},\"y\":{\"field\":\"value\"}},\"id\":\"17489\",\"type\":\"Line\"},{\"attributes\":{\"data\":{\"Variable\":[\"Philly Apparel CPI\",\"Philly Apparel CPI\",\"Philly Apparel CPI\",\"Philly Apparel CPI\",\"Philly Apparel CPI\",\"Philly Apparel CPI\"],\"index\":[2016,2017,2018,2019,2020,2021],\"value\":{\"__ndarray__\":\"AIHO4b3AoD8AOOw4v6V9P4CTa+1RMYi/EIrbqEuDob9gtAsu+0OQv8C6oWBY8aA/\",\"dtype\":\"float64\",\"order\":\"little\",\"shape\":[6]}},\"selected\":{\"id\":\"17836\"},\"selection_policy\":{\"id\":\"17852\"}},\"id\":\"17835\",\"type\":\"ColumnDataSource\"},{\"attributes\":{\"line_color\":\"#fc4f30\",\"line_width\":2,\"x\":{\"field\":\"index\"},\"y\":{\"field\":\"value\"}},\"id\":\"17526\",\"type\":\"Line\"},{\"attributes\":{\"line_color\":\"#30a2da\",\"line_width\":2,\"x\":{\"field\":\"index\"},\"y\":{\"field\":\"value\"}},\"id\":\"17652\",\"type\":\"Line\"},{\"attributes\":{\"axis\":{\"id\":\"17457\"},\"coordinates\":null,\"grid_line_color\":null,\"group\":null,\"ticker\":null},\"id\":\"17460\",\"type\":\"Grid\"},{\"attributes\":{\"axis_label\":\"Annual Percent Change\",\"coordinates\":null,\"formatter\":{\"id\":\"17482\"},\"group\":null,\"major_label_policy\":{\"id\":\"17483\"},\"ticker\":{\"id\":\"17462\"}},\"id\":\"17461\",\"type\":\"LinearAxis\"},{\"attributes\":{},\"id\":\"17462\",\"type\":\"BasicTicker\"},{\"attributes\":{\"source\":{\"id\":\"17649\"}},\"id\":\"17656\",\"type\":\"CDSView\"},{\"attributes\":{},\"id\":\"17815\",\"type\":\"Selection\"},{\"attributes\":{\"tools\":[{\"id\":\"17776\"},{\"id\":\"17795\"},{\"id\":\"17796\"},{\"id\":\"17797\"},{\"id\":\"17798\"},{\"id\":\"17799\"}]},\"id\":\"17801\",\"type\":\"Toolbar\"},{\"attributes\":{\"callback\":null,\"renderers\":[{\"id\":\"17820\"},{\"id\":\"17841\"}],\"tags\":[\"hv_created\"],\"tooltips\":[[\"Variable\",\"@{Variable}\"],[\"index\",\"@{index}\"],[\"value\",\"@{value}\"]]},\"id\":\"17776\",\"type\":\"HoverTool\"},{\"attributes\":{\"bottom_units\":\"screen\",\"coordinates\":null,\"fill_alpha\":0.5,\"fill_color\":\"lightgrey\",\"group\":null,\"left_units\":\"screen\",\"level\":\"overlay\",\"line_alpha\":1.0,\"line_color\":\"black\",\"line_dash\":[4,4],\"line_width\":2,\"right_units\":\"screen\",\"syncable\":false,\"top_units\":\"screen\"},\"id\":\"17800\",\"type\":\"BoxAnnotation\"},{\"attributes\":{},\"id\":\"17795\",\"type\":\"SaveTool\"},{\"attributes\":{\"axis\":{\"id\":\"17461\"},\"coordinates\":null,\"dimension\":1,\"grid_line_color\":null,\"group\":null,\"ticker\":null},\"id\":\"17464\",\"type\":\"Grid\"},{\"attributes\":{},\"id\":\"17796\",\"type\":\"PanTool\"},{\"attributes\":{\"end\":2021.0,\"reset_end\":2021.0,\"reset_start\":2016.0,\"start\":2016.0,\"tags\":[[[\"index\",\"index\",null]]]},\"id\":\"17444\",\"type\":\"Range1d\"},{\"attributes\":{},\"id\":\"17799\",\"type\":\"ResetTool\"},{\"attributes\":{},\"id\":\"17797\",\"type\":\"WheelZoomTool\"},{\"attributes\":{\"overlay\":{\"id\":\"17800\"}},\"id\":\"17798\",\"type\":\"BoxZoomTool\"},{\"attributes\":{\"line_color\":\"#30a2da\",\"line_width\":2,\"x\":{\"field\":\"index\"},\"y\":{\"field\":\"value\"}},\"id\":\"17669\",\"type\":\"Line\"},{\"attributes\":{\"toolbar\":{\"id\":\"17981\"},\"toolbar_location\":\"above\"},\"id\":\"17982\",\"type\":\"ToolbarBox\"},{\"attributes\":{\"tools\":[{\"id\":\"17446\"},{\"id\":\"17465\"},{\"id\":\"17466\"},{\"id\":\"17467\"},{\"id\":\"17468\"},{\"id\":\"17469\"}]},\"id\":\"17471\",\"type\":\"Toolbar\"},{\"attributes\":{\"line_color\":\"#30a2da\",\"line_width\":2,\"x\":{\"field\":\"index\"},\"y\":{\"field\":\"value\"}},\"id\":\"17834\",\"type\":\"Line\"},{\"attributes\":{},\"id\":\"17812\",\"type\":\"BasicTickFormatter\"},{\"attributes\":{\"bottom_units\":\"screen\",\"coordinates\":null,\"fill_alpha\":0.5,\"fill_color\":\"lightgrey\",\"group\":null,\"left_units\":\"screen\",\"level\":\"overlay\",\"line_alpha\":1.0,\"line_color\":\"black\",\"line_dash\":[4,4],\"line_width\":2,\"right_units\":\"screen\",\"syncable\":false,\"top_units\":\"screen\"},\"id\":\"17470\",\"type\":\"BoxAnnotation\"},{\"attributes\":{},\"id\":\"17465\",\"type\":\"SaveTool\"},{\"attributes\":{\"line_alpha\":0.1,\"line_color\":\"#fc4f30\",\"line_width\":2,\"x\":{\"field\":\"index\"},\"y\":{\"field\":\"value\"}},\"id\":\"17839\",\"type\":\"Line\"},{\"attributes\":{},\"id\":\"17466\",\"type\":\"PanTool\"},{\"attributes\":{\"label\":{\"value\":\"Apparel stocks\"},\"renderers\":[{\"id\":\"17820\"}]},\"id\":\"17833\",\"type\":\"LegendItem\"},{\"attributes\":{},\"id\":\"17469\",\"type\":\"ResetTool\"},{\"attributes\":{},\"id\":\"17467\",\"type\":\"WheelZoomTool\"},{\"attributes\":{\"line_alpha\":0.1,\"line_color\":\"#30a2da\",\"line_width\":2,\"x\":{\"field\":\"index\"},\"y\":{\"field\":\"value\"}},\"id\":\"17653\",\"type\":\"Line\"},{\"attributes\":{\"below\":[{\"id\":\"17787\"}],\"center\":[{\"id\":\"17790\"},{\"id\":\"17794\"}],\"height\":300,\"left\":[{\"id\":\"17791\"}],\"margin\":null,\"min_border_bottom\":10,\"min_border_left\":10,\"min_border_right\":10,\"min_border_top\":10,\"renderers\":[{\"id\":\"17820\"},{\"id\":\"17841\"}],\"right\":[{\"id\":\"17832\"}],\"sizing_mode\":\"fixed\",\"title\":{\"id\":\"17779\"},\"toolbar\":{\"id\":\"17801\"},\"toolbar_location\":null,\"width\":700,\"x_range\":{\"id\":\"17444\"},\"x_scale\":{\"id\":\"17783\"},\"y_range\":{\"id\":\"17445\"},\"y_scale\":{\"id\":\"17785\"}},\"id\":\"17778\",\"subtype\":\"Figure\",\"type\":\"Plot\"},{\"attributes\":{\"overlay\":{\"id\":\"17470\"}},\"id\":\"17468\",\"type\":\"BoxZoomTool\"},{\"attributes\":{\"line_color\":\"#30a2da\",\"line_width\":2,\"x\":{\"field\":\"index\"},\"y\":{\"field\":\"value\"}},\"id\":\"17817\",\"type\":\"Line\"},{\"attributes\":{\"coordinates\":null,\"data_source\":{\"id\":\"17670\"},\"glyph\":{\"id\":\"17673\"},\"group\":null,\"hover_glyph\":null,\"muted_glyph\":{\"id\":\"17675\"},\"nonselection_glyph\":{\"id\":\"17674\"},\"selection_glyph\":{\"id\":\"17691\"},\"view\":{\"id\":\"17677\"}},\"id\":\"17676\",\"type\":\"GlyphRenderer\"},{\"attributes\":{},\"id\":\"17829\",\"type\":\"UnionRenderers\"},{\"attributes\":{\"coordinates\":null,\"group\":null,\"text_color\":\"black\",\"text_font_size\":\"12pt\"},\"id\":\"17779\",\"type\":\"Title\"},{\"attributes\":{\"coordinates\":null,\"data_source\":{\"id\":\"17484\"},\"glyph\":{\"id\":\"17487\"},\"group\":null,\"hover_glyph\":null,\"muted_glyph\":{\"id\":\"17489\"},\"nonselection_glyph\":{\"id\":\"17488\"},\"selection_glyph\":{\"id\":\"17504\"},\"view\":{\"id\":\"17491\"}},\"id\":\"17490\",\"type\":\"GlyphRenderer\"},{\"attributes\":{\"source\":{\"id\":\"17484\"}},\"id\":\"17491\",\"type\":\"CDSView\"},{\"attributes\":{\"line_color\":\"#fc4f30\",\"line_width\":2,\"x\":{\"field\":\"index\"},\"y\":{\"field\":\"value\"}},\"id\":\"17838\",\"type\":\"Line\"},{\"attributes\":{\"line_alpha\":0.2,\"line_color\":\"#30a2da\",\"line_width\":2,\"x\":{\"field\":\"index\"},\"y\":{\"field\":\"value\"}},\"id\":\"17819\",\"type\":\"Line\"},{\"attributes\":{\"axis_label\":\"Year\",\"coordinates\":null,\"formatter\":{\"id\":\"17809\"},\"group\":null,\"major_label_policy\":{\"id\":\"17810\"},\"ticker\":{\"id\":\"17788\"}},\"id\":\"17787\",\"type\":\"LinearAxis\"},{\"attributes\":{\"coordinates\":null,\"group\":null,\"text_color\":\"black\",\"text_font_size\":\"12pt\"},\"id\":\"17449\",\"type\":\"Title\"},{\"attributes\":{\"line_color\":\"#fc4f30\",\"line_width\":2,\"x\":{\"field\":\"index\"},\"y\":{\"field\":\"value\"}},\"id\":\"17508\",\"type\":\"Line\"},{\"attributes\":{\"line_alpha\":0.1,\"line_color\":\"#fc4f30\",\"line_width\":2,\"x\":{\"field\":\"index\"},\"y\":{\"field\":\"value\"}},\"id\":\"17674\",\"type\":\"Line\"},{\"attributes\":{},\"id\":\"17687\",\"type\":\"UnionRenderers\"},{\"attributes\":{\"line_color\":\"#fc4f30\",\"line_width\":2,\"x\":{\"field\":\"index\"},\"y\":{\"field\":\"value\"}},\"id\":\"17673\",\"type\":\"Line\"},{\"attributes\":{\"margin\":[5,5,5,5],\"name\":\"HSpacer26568\",\"sizing_mode\":\"stretch_width\"},\"id\":\"18308\",\"type\":\"Spacer\"},{\"attributes\":{},\"id\":\"17783\",\"type\":\"LinearScale\"},{\"attributes\":{},\"id\":\"17479\",\"type\":\"BasicTickFormatter\"},{\"attributes\":{\"axis\":{\"id\":\"17787\"},\"coordinates\":null,\"grid_line_color\":null,\"group\":null,\"ticker\":null},\"id\":\"17790\",\"type\":\"Grid\"},{\"attributes\":{},\"id\":\"17499\",\"type\":\"UnionRenderers\"},{\"attributes\":{\"coordinates\":null,\"data_source\":{\"id\":\"17814\"},\"glyph\":{\"id\":\"17817\"},\"group\":null,\"hover_glyph\":null,\"muted_glyph\":{\"id\":\"17819\"},\"nonselection_glyph\":{\"id\":\"17818\"},\"selection_glyph\":{\"id\":\"17834\"},\"view\":{\"id\":\"17821\"}},\"id\":\"17820\",\"type\":\"GlyphRenderer\"},{\"attributes\":{\"axis_label\":\"Annual Percent Change\",\"coordinates\":null,\"formatter\":{\"id\":\"17812\"},\"group\":null,\"major_label_policy\":{\"id\":\"17813\"},\"ticker\":{\"id\":\"17792\"}},\"id\":\"17791\",\"type\":\"LinearAxis\"},{\"attributes\":{},\"id\":\"17455\",\"type\":\"LinearScale\"},{\"attributes\":{},\"id\":\"17483\",\"type\":\"AllLabels\"},{\"attributes\":{},\"id\":\"17836\",\"type\":\"Selection\"},{\"attributes\":{\"source\":{\"id\":\"17814\"}},\"id\":\"17821\",\"type\":\"CDSView\"},{\"attributes\":{},\"id\":\"17813\",\"type\":\"AllLabels\"},{\"attributes\":{},\"id\":\"17785\",\"type\":\"LinearScale\"},{\"attributes\":{},\"id\":\"17809\",\"type\":\"BasicTickFormatter\"},{\"attributes\":{},\"id\":\"17792\",\"type\":\"BasicTicker\"},{\"attributes\":{},\"id\":\"17788\",\"type\":\"BasicTicker\"},{\"attributes\":{},\"id\":\"17453\",\"type\":\"LinearScale\"},{\"attributes\":{\"line_alpha\":0.2,\"line_color\":\"#fc4f30\",\"line_width\":2,\"x\":{\"field\":\"index\"},\"y\":{\"field\":\"value\"}},\"id\":\"17840\",\"type\":\"Line\"},{\"attributes\":{\"axis\":{\"id\":\"17791\"},\"coordinates\":null,\"dimension\":1,\"grid_line_color\":null,\"group\":null,\"ticker\":null},\"id\":\"17794\",\"type\":\"Grid\"},{\"attributes\":{},\"id\":\"17482\",\"type\":\"BasicTickFormatter\"},{\"attributes\":{\"line_alpha\":0.2,\"line_color\":\"#30a2da\",\"line_width\":2,\"x\":{\"field\":\"index\"},\"y\":{\"field\":\"value\"}},\"id\":\"17654\",\"type\":\"Line\"},{\"attributes\":{\"axis_label\":\"Year\",\"coordinates\":null,\"formatter\":{\"id\":\"17479\"},\"group\":null,\"major_label_policy\":{\"id\":\"17480\"},\"ticker\":{\"id\":\"17458\"}},\"id\":\"17457\",\"type\":\"LinearAxis\"},{\"attributes\":{\"line_alpha\":0.1,\"line_color\":\"#30a2da\",\"line_width\":2,\"x\":{\"field\":\"index\"},\"y\":{\"field\":\"value\"}},\"id\":\"17818\",\"type\":\"Line\"},{\"attributes\":{},\"id\":\"17458\",\"type\":\"BasicTicker\"},{\"attributes\":{\"line_alpha\":0.2,\"line_color\":\"#fc4f30\",\"line_width\":2,\"x\":{\"field\":\"index\"},\"y\":{\"field\":\"value\"}},\"id\":\"17675\",\"type\":\"Line\"},{\"attributes\":{\"line_alpha\":0.1,\"line_color\":\"#fc4f30\",\"line_width\":2,\"x\":{\"field\":\"index\"},\"y\":{\"field\":\"value\"}},\"id\":\"17509\",\"type\":\"Line\"},{\"attributes\":{\"coordinates\":null,\"data_source\":{\"id\":\"17649\"},\"glyph\":{\"id\":\"17652\"},\"group\":null,\"hover_glyph\":null,\"muted_glyph\":{\"id\":\"17654\"},\"nonselection_glyph\":{\"id\":\"17653\"},\"selection_glyph\":{\"id\":\"17669\"},\"view\":{\"id\":\"17656\"}},\"id\":\"17655\",\"type\":\"GlyphRenderer\"}],\"root_ids\":[\"17442\"]},\"title\":\"Bokeh Application\",\"version\":\"2.4.1\"}};\n",
       "    var render_items = [{\"docid\":\"939f90c8-e133-4837-ad2e-831685e8675e\",\"root_ids\":[\"17442\"],\"roots\":{\"17442\":\"2e9c6297-ee02-4963-9bd0-8b3951a77af1\"}}];\n",
       "    root.Bokeh.embed.embed_items_notebook(docs_json, render_items);\n",
       "  }\n",
       "  if (root.Bokeh !== undefined && root.Bokeh.Panel !== undefined) {\n",
       "    embed_document(root);\n",
       "  } else {\n",
       "    var attempts = 0;\n",
       "    var timer = setInterval(function(root) {\n",
       "      if (root.Bokeh !== undefined && root.Bokeh.Panel !== undefined) {\n",
       "        clearInterval(timer);\n",
       "        embed_document(root);\n",
       "      } else if (document.readyState == \"complete\") {\n",
       "        attempts++;\n",
       "        if (attempts > 200) {\n",
       "          clearInterval(timer);\n",
       "          console.log(\"Bokeh: ERROR: Unable to run BokehJS code because BokehJS library is missing\");\n",
       "        }\n",
       "      }\n",
       "    }, 25, root)\n",
       "  }\n",
       "})(window);</script>"
      ],
      "text/plain": [
       ":Layout\n",
       "   .NdOverlay.I   :NdOverlay   [Variable]\n",
       "      :Curve   [index]   (value)\n",
       "   .NdOverlay.II  :NdOverlay   [Variable]\n",
       "      :Curve   [index]   (value)\n",
       "   .NdOverlay.III :NdOverlay   [Variable]\n",
       "      :Curve   [index]   (value)"
      ]
     },
     "execution_count": 766,
     "metadata": {
      "application/vnd.holoviews_exec.v0+json": {
       "id": "17442"
      }
     },
     "output_type": "execute_result"
    }
   ],
   "source": [
    "combined_charts = food_plot + Housing_plot + apparel_plot\n",
    "combined_charts\n",
    "# create a dropdown menu"
   ]
  },
  {
   "cell_type": "code",
   "execution_count": 9,
   "metadata": {},
   "outputs": [],
   "source": [
    "def extract_max(df):\n",
    "    return df[df.iloc[:, 1] == df.iloc[:, 1].max()]\n",
    "\n",
    "def extract_min(df):\n",
    "     return df[df.iloc[:, 1] == df.iloc[:, 1].min()]\n",
    "\n",
    "def graph_max(df):\n",
    "    bar = extract_max(df)\n",
    "    graph = bar.hvplot.bar(ylabel=\"Percentage change\", xlabel=\"Year\", title=\"CPI highest year and cooresponding stock data\", rot=90)\n",
    "    return graph\n",
    "\n",
    "def graph_min(df):\n",
    "    bar = extract_min(df)\n",
    "    graph = bar.hvplot.bar(ylabel=\"Percentage change\", xlabel=\"Year\", title=\"CPI lowest year and cooresponding stock data\", rot=90)\n",
    "    return graph\n",
    "\n"
   ]
  },
  {
   "cell_type": "code",
   "execution_count": 768,
   "metadata": {},
   "outputs": [],
   "source": [
    "# Question 3, relationship between trade count and high periods of inflation\n",
    "\n",
    "def reformat_data_trade_count(dataframe):\n",
    "    dataframe = dataframe.resample(\"Y\").mean()\n",
    "\n",
    "    dataframe = dataframe[\"trade_count\"]\n",
    "    dataframe.index =dataframe.index.year\n",
    "    return dataframe\n",
    "\n",
    "def combine_cpi_trade_count(df_stocks, df_cpi):\n",
    "    reformed = reformat_data_trade_count(df_stocks)\n",
    "    trade = concat_stocks_cpi(reformed, df_cpi)\n",
    "    return trade\n",
    "\n",
    "def graph_max_trade_count(df_stocks, df_cpi,column_name):\n",
    "    data = combine_cpi_trade_count(df_stocks,df_cpi).sort_values(by=f\"{column_name}\")\n",
    "    highest_inflation = data.iloc[-3:]\n",
    "    plot = px.scatter(highest_inflation,x=f\"{column_name}\", y=\"trade_count\")\n",
    "    return plot\n",
    "\n",
    "\n",
    "\n",
    "\n",
    "\n",
    "\n",
    "Philly_real_estate_scatter = graph_max_trade_count(Real_Estate_stocks,Housing_pct_change,\"PHL Housing Annual\")\n",
    "Philly_apparel_scatter = graph_max_trade_count(Apparel_stocks, apparel_pct_change, \"PHL Apparel Annual\")\n",
    "Philly_food_scatter = graph_max_trade_count(Food_stocks, Food_pct_change, \"PHL Commercial Food Annual\")\n"
   ]
  }
 ],
 "metadata": {
  "interpreter": {
   "hash": "63c96a8b9f86f756cc212e6519dffd252f61935a26893506708a2a331cfe2774"
  },
  "kernelspec": {
   "display_name": "Python [conda env:pyvizenv] *",
   "language": "python",
   "name": "conda-env-pyvizenv-py"
  },
  "language_info": {
   "codemirror_mode": {
    "name": "ipython",
    "version": 3
   },
   "file_extension": ".py",
   "mimetype": "text/x-python",
   "name": "python",
   "nbconvert_exporter": "python",
   "pygments_lexer": "ipython3",
   "version": "3.7.11"
  }
 },
 "nbformat": 4,
 "nbformat_minor": 4
}
