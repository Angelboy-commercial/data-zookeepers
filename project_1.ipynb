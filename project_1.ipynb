{
 "cells": [
  {
   "cell_type": "code",
   "execution_count": 483,
   "metadata": {},
   "outputs": [],
   "source": [
    "import pandas as pd\n",
    "import hvplot.pandas\n",
    "from dotenv import load_dotenv\n",
    "import alpaca_trade_api as tradeapi\n",
    "import os\n",
    "import plotly.express as px\n"
   ]
  },
  {
   "cell_type": "code",
   "execution_count": null,
   "metadata": {},
   "outputs": [],
   "source": [
    "# Creating obect for the excel files\n",
    "apparel_xl = pd.read_excel('Apparel.xlsx')\n",
    "take_out_xl = pd.read_excel('Food_away_from_home.xlsx')\n",
    "housing_xl = pd.read_excel('Philadelphia_housing.xlsx')\n",
    "recreation_xl = pd.read_excel('Philly_Recreation.xlsx')"
   ]
  },
  {
   "cell_type": "code",
   "execution_count": 485,
   "metadata": {},
   "outputs": [],
   "source": [
    "# Creating csv's out of the excel object\n",
    "apparel_csv = apparel_xl.to_csv('Philly_Apparel.csv')\n",
    "take_out_csv = take_out_xl.to_csv('Philly_take_out.csv')\n",
    "housing_csv = housing_xl.to_csv('Philly_housing.csv')\n",
    "recreation_csv = recreation_xl.to_csv('Philly_Recreation.csv')"
   ]
  },
  {
   "cell_type": "code",
   "execution_count": 488,
   "metadata": {},
   "outputs": [],
   "source": [
    "# Creating the dataframes from the csv's\n",
    "Philly_apparel = pd.read_csv('apparel_clean.csv',index_col='Year')\n",
    "Philly_commercial_food = pd.read_csv('food_clean.csv',index_col='Year')\n",
    "Philly_housing = pd.read_csv('housing_clean.csv',index_col='Year')\n"
   ]
  },
  {
   "cell_type": "code",
   "execution_count": 489,
   "metadata": {},
   "outputs": [],
   "source": [
    "# Cleaning the df columns to only include \"Annual\"\n",
    "Philly_apparel = Philly_apparel[['Annual']]\n",
    "Philly_commercial_food = Philly_commercial_food[['Annual']]\n",
    "Philly_housing = Philly_housing[['Annual']]\n"
   ]
  },
  {
   "cell_type": "code",
   "execution_count": 490,
   "metadata": {},
   "outputs": [],
   "source": [
    "# Rename columns\n",
    "Philly_apparel.columns = ['PHL Apparel Annual']\n",
    "Philly_commercial_food.columns = ['PHL Commercial Food Annual']\n",
    "Philly_housing.columns = ['PHL Housing Annual']\n",
    "# Philly_recreation.columns = ['PHL Recreation Annual']\n"
   ]
  },
  {
   "cell_type": "code",
   "execution_count": 491,
   "metadata": {},
   "outputs": [
    {
     "data": {
      "text/html": [
       "<div>\n",
       "<style scoped>\n",
       "    .dataframe tbody tr th:only-of-type {\n",
       "        vertical-align: middle;\n",
       "    }\n",
       "\n",
       "    .dataframe tbody tr th {\n",
       "        vertical-align: top;\n",
       "    }\n",
       "\n",
       "    .dataframe thead th {\n",
       "        text-align: right;\n",
       "    }\n",
       "</style>\n",
       "<table border=\"1\" class=\"dataframe\">\n",
       "  <thead>\n",
       "    <tr style=\"text-align: right;\">\n",
       "      <th></th>\n",
       "      <th>PHL Apparel Annual</th>\n",
       "      <th>PHL Commercial Food Annual</th>\n",
       "      <th>PHL Housing Annual</th>\n",
       "    </tr>\n",
       "    <tr>\n",
       "      <th>Year</th>\n",
       "      <th></th>\n",
       "      <th></th>\n",
       "      <th></th>\n",
       "    </tr>\n",
       "  </thead>\n",
       "  <tbody>\n",
       "    <tr>\n",
       "      <th>2012</th>\n",
       "      <td>112.280</td>\n",
       "      <td>198.335</td>\n",
       "      <td>299.124</td>\n",
       "    </tr>\n",
       "    <tr>\n",
       "      <th>2013</th>\n",
       "      <td>112.633</td>\n",
       "      <td>203.147</td>\n",
       "      <td>302.356</td>\n",
       "    </tr>\n",
       "    <tr>\n",
       "      <th>2014</th>\n",
       "      <td>112.205</td>\n",
       "      <td>208.462</td>\n",
       "      <td>309.193</td>\n",
       "    </tr>\n",
       "    <tr>\n",
       "      <th>2015</th>\n",
       "      <td>107.425</td>\n",
       "      <td>211.667</td>\n",
       "      <td>316.315</td>\n",
       "    </tr>\n",
       "    <tr>\n",
       "      <th>2016</th>\n",
       "      <td>110.940</td>\n",
       "      <td>215.071</td>\n",
       "      <td>320.564</td>\n",
       "    </tr>\n",
       "    <tr>\n",
       "      <th>2017</th>\n",
       "      <td>111.743</td>\n",
       "      <td>219.145</td>\n",
       "      <td>326.389</td>\n",
       "    </tr>\n",
       "    <tr>\n",
       "      <th>2018</th>\n",
       "      <td>110.423</td>\n",
       "      <td>222.673</td>\n",
       "      <td>331.801</td>\n",
       "    </tr>\n",
       "    <tr>\n",
       "      <th>2019</th>\n",
       "      <td>106.646</td>\n",
       "      <td>228.602</td>\n",
       "      <td>341.424</td>\n",
       "    </tr>\n",
       "    <tr>\n",
       "      <th>2020</th>\n",
       "      <td>104.952</td>\n",
       "      <td>238.666</td>\n",
       "      <td>350.596</td>\n",
       "    </tr>\n",
       "    <tr>\n",
       "      <th>2021</th>\n",
       "      <td>108.425</td>\n",
       "      <td>247.651</td>\n",
       "      <td>355.537</td>\n",
       "    </tr>\n",
       "    <tr>\n",
       "      <th>2022</th>\n",
       "      <td>NaN</td>\n",
       "      <td>NaN</td>\n",
       "      <td>NaN</td>\n",
       "    </tr>\n",
       "  </tbody>\n",
       "</table>\n",
       "</div>"
      ],
      "text/plain": [
       "      PHL Apparel Annual  PHL Commercial Food Annual  PHL Housing Annual\n",
       "Year                                                                    \n",
       "2012             112.280                     198.335             299.124\n",
       "2013             112.633                     203.147             302.356\n",
       "2014             112.205                     208.462             309.193\n",
       "2015             107.425                     211.667             316.315\n",
       "2016             110.940                     215.071             320.564\n",
       "2017             111.743                     219.145             326.389\n",
       "2018             110.423                     222.673             331.801\n",
       "2019             106.646                     228.602             341.424\n",
       "2020             104.952                     238.666             350.596\n",
       "2021             108.425                     247.651             355.537\n",
       "2022                 NaN                         NaN                 NaN"
      ]
     },
     "execution_count": 491,
     "metadata": {},
     "output_type": "execute_result"
    }
   ],
   "source": [
    "# Combine the dataframes\n",
    "df_list = [Philly_apparel,Philly_commercial_food,Philly_housing]\n",
    "\n",
    "combined_df = pd.concat(df_list, axis=1, join='inner')\n",
    "combined_df"
   ]
  },
  {
   "cell_type": "code",
   "execution_count": 492,
   "metadata": {},
   "outputs": [],
   "source": [
    "# Df for Percent change year to year\n",
    "pct_change_df = combined_df.pct_change()\n",
    "\n"
   ]
  },
  {
   "cell_type": "code",
   "execution_count": 493,
   "metadata": {},
   "outputs": [
    {
     "data": {
      "text/plain": [
       "True"
      ]
     },
     "execution_count": 493,
     "metadata": {},
     "output_type": "execute_result"
    }
   ],
   "source": [
    "# load env file\n",
    "load_dotenv()"
   ]
  },
  {
   "cell_type": "code",
   "execution_count": 494,
   "metadata": {},
   "outputs": [
    {
     "data": {
      "text/plain": [
       "str"
      ]
     },
     "execution_count": 494,
     "metadata": {},
     "output_type": "execute_result"
    }
   ],
   "source": [
    "# Retreive API keys\n",
    "public_key = os.getenv(\"ALPACA_API_KEY\")\n",
    "private_key = os.getenv(\"ALPACA_SECRET_KEY\")\n",
    "type(private_key)"
   ]
  },
  {
   "cell_type": "code",
   "execution_count": 495,
   "metadata": {},
   "outputs": [],
   "source": [
    "# Create alpacas connection object\n",
    "alpacas = tradeapi.REST(public_key, private_key, api_version=\"v2\")"
   ]
  },
  {
   "cell_type": "code",
   "execution_count": 496,
   "metadata": {},
   "outputs": [],
   "source": [
    "start = pd.Timestamp(\"2012-01-01\", tz=\"America/New_York\").isoformat()\n",
    "end = pd.Timestamp(\"2021-12-31\", tz=\"America/New_York\").isoformat()\n",
    "timeframe=\"1Day\""
   ]
  },
  {
   "cell_type": "code",
   "execution_count": 497,
   "metadata": {},
   "outputs": [],
   "source": [
    "real_estate = [\"TSCO\",\"DHI\",\"LOW\",\"LGIH\"]\n",
    "apparel = [\"NKE\", \"UA\",\"GPS\", \"LULU\", \"JWN\"]\n",
    "pleasure_food = [\"MCD\",\"YUM\", \"DRI\", \"QSR\"]\n",
    "\n",
    "def alpacas_api(symbols,timeframe, start,end):\n",
    "    dataframe = alpacas.get_bars(symbols, timeframe=timeframe, start=start, end=end).df\n",
    "    new_df = dataframe[['open','close','trade_count', 'symbol']]\n",
    "\n",
    "    return new_df\n",
    "\n",
    "Real_Estate_stocks = alpacas_api(real_estate, timeframe,start,end)\n",
    "Apparel_stocks = alpacas_api(apparel, timeframe,start,end)\n",
    "Food_stocks = alpacas_api(pleasure_food, timeframe,start,end)"
   ]
  },
  {
   "cell_type": "code",
   "execution_count": 498,
   "metadata": {},
   "outputs": [],
   "source": [
    "# Create pivot tables for closing prices\n",
    "Real_Estate_close = Real_Estate_stocks.pivot_table(values=\"close\", index=\"timestamp\",columns=\"symbol\")\n",
    "Apparel_close = Apparel_stocks.pivot_table(values=\"close\", index=\"timestamp\",columns=\"symbol\")\n",
    "Food_close = Food_stocks.pivot_table(values=\"close\", index=\"timestamp\",columns=\"symbol\")"
   ]
  },
  {
   "cell_type": "code",
   "execution_count": 499,
   "metadata": {},
   "outputs": [],
   "source": [
    "# Get the percetn changes for each column\n",
    "apparel_pct_change = combined_df[\"PHL Apparel Annual\"].pct_change()\n",
    "Food_pct_change = combined_df[\"PHL Commercial Food Annual\"].pct_change()\n",
    "Housing_pct_change = combined_df[\"PHL Housing Annual\"].pct_change()"
   ]
  },
  {
   "cell_type": "code",
   "execution_count": null,
   "metadata": {},
   "outputs": [],
   "source": [
    "# compare the cpi among cities, do the cities face a similar rate of inflation?\n",
    "# What industries become more expensive quicker in which cities "
   ]
  },
  {
   "cell_type": "code",
   "execution_count": 502,
   "metadata": {},
   "outputs": [],
   "source": [
    "def concat_stocks_cpi(stock, cpi):\n",
    "    df = pd.concat([stock,cpi], axis=1, join=\"inner\")\n",
    "    return df "
   ]
  },
  {
   "cell_type": "code",
   "execution_count": 501,
   "metadata": {},
   "outputs": [],
   "source": [
    "# # Create functions to find the greatest annual increase and decrease for a given column\n",
    "class Question_1:\n",
    "    def chop_rows(dataframe):\n",
    "        new_df = dataframe.iloc[3:]\n",
    "        return new_df\n",
    "    \n",
    "    def max_max(dataframe):\n",
    "        largest = dataframe.max()\n",
    "        return largest\n",
    "    \n",
    "    def min_min(dataframe):\n",
    "        smallest = dataframe.min()\n",
    "        return smallest\n",
    "\n"
   ]
  },
  {
   "cell_type": "code",
   "execution_count": 503,
   "metadata": {},
   "outputs": [
    {
     "data": {
      "text/plain": [
       "timestamp\n",
       "2015         NaN\n",
       "2016   -0.022360\n",
       "2017    0.029060\n",
       "2018    0.231439\n",
       "2019    0.170760\n",
       "2020    0.275063\n",
       "2021    0.536315\n",
       "Name: close, dtype: float64"
      ]
     },
     "execution_count": 503,
     "metadata": {},
     "output_type": "execute_result"
    }
   ],
   "source": [
    "# Real_Estate_stocks.index = Real_Estate_stocks.index.year\n",
    "Real_Estate_stocks = Real_Estate_stocks.resample(\"Y\").mean()\n",
    "\n",
    "Real_estate_stock_annual = Real_Estate_stocks[\"close\"].pct_change()\n",
    "Real_estate_stock_annual.index = Real_estate_stock_annual.index.year\n",
    "Real_estate_stock_annual\n",
    "# Housing_pct_change"
   ]
  },
  {
   "cell_type": "code",
   "execution_count": 461,
   "metadata": {},
   "outputs": [],
   "source": [
    "def reformat_data(dataframe):\n",
    "    dataframe = dataframe.resample(\"Y\").mean()\n",
    "\n",
    "    dataframe = dataframe[\"close\"].pct_change()\n",
    "    dataframe.index =dataframe.index.year\n",
    "    return dataframe\n",
    "\n",
    "Apparel_stock_annual = reformat_data(Apparel_stocks)\n",
    "Food_stock_annual = reformat_data(Food_stocks)"
   ]
  },
  {
   "cell_type": "code",
   "execution_count": 508,
   "metadata": {},
   "outputs": [],
   "source": [
    "def concat_stocks_cpi(stock, cpi):\n",
    "    df = pd.concat([stock,cpi], axis=1, join=\"inner\")\n",
    "    return df \n",
    "\n",
    "Housing_combined = concat_stocks_cpi(Real_estate_stock_annual, Housing_pct_change)\n",
    "Housing_combined.columns = ['Real Estate stocks', \"Philly housing CPI\"]\n",
    "Housing_plot = Housing_combined.hvplot.line(xlabel='Year', ylabel=\"Annual Percent Change\")\n",
    "\n"
   ]
  },
  {
   "cell_type": "code",
   "execution_count": 509,
   "metadata": {},
   "outputs": [
    {
     "data": {},
     "metadata": {},
     "output_type": "display_data"
    },
    {
     "data": {
      "application/vnd.holoviews_exec.v0+json": "",
      "text/html": [
       "<div id='3863'>\n",
       "\n",
       "\n",
       "\n",
       "\n",
       "\n",
       "  <div class=\"bk-root\" id=\"d0236aac-7128-44bb-bd10-160ec5df01c4\" data-root-id=\"3863\"></div>\n",
       "</div>\n",
       "<script type=\"application/javascript\">(function(root) {\n",
       "  function embed_document(root) {\n",
       "    var docs_json = {\"6858184a-af2c-4b40-a4b3-6721da11ae33\":{\"defs\":[{\"extends\":null,\"module\":null,\"name\":\"ReactiveHTML1\",\"overrides\":[],\"properties\":[]},{\"extends\":null,\"module\":null,\"name\":\"FlexBox1\",\"overrides\":[],\"properties\":[{\"default\":\"flex-start\",\"kind\":null,\"name\":\"align_content\"},{\"default\":\"flex-start\",\"kind\":null,\"name\":\"align_items\"},{\"default\":\"row\",\"kind\":null,\"name\":\"flex_direction\"},{\"default\":\"wrap\",\"kind\":null,\"name\":\"flex_wrap\"},{\"default\":\"flex-start\",\"kind\":null,\"name\":\"justify_content\"}]},{\"extends\":null,\"module\":null,\"name\":\"TemplateActions1\",\"overrides\":[],\"properties\":[{\"default\":0,\"kind\":null,\"name\":\"open_modal\"},{\"default\":0,\"kind\":null,\"name\":\"close_modal\"}]},{\"extends\":null,\"module\":null,\"name\":\"MaterialTemplateActions1\",\"overrides\":[],\"properties\":[{\"default\":0,\"kind\":null,\"name\":\"open_modal\"},{\"default\":0,\"kind\":null,\"name\":\"close_modal\"}]}],\"roots\":{\"references\":[{\"attributes\":{\"margin\":[5,5,5,5],\"name\":\"HSpacer06061\",\"sizing_mode\":\"stretch_width\"},\"id\":\"3864\",\"type\":\"Spacer\"},{\"attributes\":{\"click_policy\":\"mute\",\"coordinates\":null,\"group\":null,\"items\":[{\"id\":\"3924\"},{\"id\":\"3946\"}],\"location\":[0,0],\"title\":\"Variable\"},\"id\":\"3923\",\"type\":\"Legend\"},{\"attributes\":{\"data\":{\"Variable\":[\"Philly Apparel CPI\",\"Philly Apparel CPI\",\"Philly Apparel CPI\",\"Philly Apparel CPI\",\"Philly Apparel CPI\",\"Philly Apparel CPI\",\"Philly Apparel CPI\"],\"index\":[2015,2016,2017,2018,2019,2020,2021],\"value\":{\"__ndarray__\":\"sDra1r7Ppb8Agc7hvcCgPwA47Di/pX0/gJNr7VExiL8QituoS4Ohv2C0Cy77Q5C/wLqhYFjxoD8=\",\"dtype\":\"float64\",\"order\":\"little\",\"shape\":[7]}},\"selected\":{\"id\":\"3927\"},\"selection_policy\":{\"id\":\"3943\"}},\"id\":\"3926\",\"type\":\"ColumnDataSource\"},{\"attributes\":{},\"id\":\"3900\",\"type\":\"BasicTickFormatter\"},{\"attributes\":{},\"id\":\"3943\",\"type\":\"UnionRenderers\"},{\"attributes\":{\"tools\":[{\"id\":\"3867\"},{\"id\":\"3886\"},{\"id\":\"3887\"},{\"id\":\"3888\"},{\"id\":\"3889\"},{\"id\":\"3890\"}]},\"id\":\"3892\",\"type\":\"Toolbar\"},{\"attributes\":{\"source\":{\"id\":\"3926\"}},\"id\":\"3933\",\"type\":\"CDSView\"},{\"attributes\":{\"bottom_units\":\"screen\",\"coordinates\":null,\"fill_alpha\":0.5,\"fill_color\":\"lightgrey\",\"group\":null,\"left_units\":\"screen\",\"level\":\"overlay\",\"line_alpha\":1.0,\"line_color\":\"black\",\"line_dash\":[4,4],\"line_width\":2,\"right_units\":\"screen\",\"syncable\":false,\"top_units\":\"screen\"},\"id\":\"3891\",\"type\":\"BoxAnnotation\"},{\"attributes\":{},\"id\":\"3920\",\"type\":\"UnionRenderers\"},{\"attributes\":{},\"id\":\"3876\",\"type\":\"LinearScale\"},{\"attributes\":{\"coordinates\":null,\"data_source\":{\"id\":\"3926\"},\"glyph\":{\"id\":\"3929\"},\"group\":null,\"hover_glyph\":null,\"muted_glyph\":{\"id\":\"3931\"},\"nonselection_glyph\":{\"id\":\"3930\"},\"selection_glyph\":{\"id\":\"3947\"},\"view\":{\"id\":\"3933\"}},\"id\":\"3932\",\"type\":\"GlyphRenderer\"},{\"attributes\":{},\"id\":\"3883\",\"type\":\"BasicTicker\"},{\"attributes\":{\"label\":{\"value\":\"Philly Apparel CPI\"},\"renderers\":[{\"id\":\"3932\"}]},\"id\":\"3946\",\"type\":\"LegendItem\"},{\"attributes\":{\"end\":2021.0,\"reset_end\":2021.0,\"reset_start\":2015.0,\"start\":2015.0,\"tags\":[[[\"index\",\"index\",null]]]},\"id\":\"3865\",\"type\":\"Range1d\"},{\"attributes\":{\"line_alpha\":0.2,\"line_color\":\"#30a2da\",\"line_width\":2,\"x\":{\"field\":\"index\"},\"y\":{\"field\":\"value\"}},\"id\":\"3910\",\"type\":\"Line\"},{\"attributes\":{\"line_color\":\"#fc4f30\",\"line_width\":2,\"x\":{\"field\":\"index\"},\"y\":{\"field\":\"value\"}},\"id\":\"3947\",\"type\":\"Line\"},{\"attributes\":{\"line_color\":\"#fc4f30\",\"line_width\":2,\"x\":{\"field\":\"index\"},\"y\":{\"field\":\"value\"}},\"id\":\"3929\",\"type\":\"Line\"},{\"attributes\":{\"callback\":null,\"renderers\":[{\"id\":\"3911\"},{\"id\":\"3932\"}],\"tags\":[\"hv_created\"],\"tooltips\":[[\"Variable\",\"@{Variable}\"],[\"index\",\"@{index}\"],[\"value\",\"@{value}\"]]},\"id\":\"3867\",\"type\":\"HoverTool\"},{\"attributes\":{},\"id\":\"3879\",\"type\":\"BasicTicker\"},{\"attributes\":{\"axis_label\":\"Annual Percent Change\",\"coordinates\":null,\"formatter\":{\"id\":\"3903\"},\"group\":null,\"major_label_policy\":{\"id\":\"3904\"},\"ticker\":{\"id\":\"3883\"}},\"id\":\"3882\",\"type\":\"LinearAxis\"},{\"attributes\":{\"label\":{\"value\":\"Apparel stocks\"},\"renderers\":[{\"id\":\"3911\"}]},\"id\":\"3924\",\"type\":\"LegendItem\"},{\"attributes\":{\"line_color\":\"#30a2da\",\"line_width\":2,\"x\":{\"field\":\"index\"},\"y\":{\"field\":\"value\"}},\"id\":\"3925\",\"type\":\"Line\"},{\"attributes\":{},\"id\":\"3886\",\"type\":\"SaveTool\"},{\"attributes\":{\"coordinates\":null,\"data_source\":{\"id\":\"3905\"},\"glyph\":{\"id\":\"3908\"},\"group\":null,\"hover_glyph\":null,\"muted_glyph\":{\"id\":\"3910\"},\"nonselection_glyph\":{\"id\":\"3909\"},\"selection_glyph\":{\"id\":\"3925\"},\"view\":{\"id\":\"3912\"}},\"id\":\"3911\",\"type\":\"GlyphRenderer\"},{\"attributes\":{\"axis\":{\"id\":\"3882\"},\"coordinates\":null,\"dimension\":1,\"grid_line_color\":null,\"group\":null,\"ticker\":null},\"id\":\"3885\",\"type\":\"Grid\"},{\"attributes\":{\"line_color\":\"#30a2da\",\"line_width\":2,\"x\":{\"field\":\"index\"},\"y\":{\"field\":\"value\"}},\"id\":\"3908\",\"type\":\"Line\"},{\"attributes\":{\"line_alpha\":0.1,\"line_color\":\"#fc4f30\",\"line_width\":2,\"x\":{\"field\":\"index\"},\"y\":{\"field\":\"value\"}},\"id\":\"3930\",\"type\":\"Line\"},{\"attributes\":{},\"id\":\"3887\",\"type\":\"PanTool\"},{\"attributes\":{\"axis_label\":\"Year\",\"coordinates\":null,\"formatter\":{\"id\":\"3900\"},\"group\":null,\"major_label_policy\":{\"id\":\"3901\"},\"ticker\":{\"id\":\"3879\"}},\"id\":\"3878\",\"type\":\"LinearAxis\"},{\"attributes\":{\"line_alpha\":0.2,\"line_color\":\"#fc4f30\",\"line_width\":2,\"x\":{\"field\":\"index\"},\"y\":{\"field\":\"value\"}},\"id\":\"3931\",\"type\":\"Line\"},{\"attributes\":{},\"id\":\"3890\",\"type\":\"ResetTool\"},{\"attributes\":{},\"id\":\"3901\",\"type\":\"AllLabels\"},{\"attributes\":{},\"id\":\"3888\",\"type\":\"WheelZoomTool\"},{\"attributes\":{},\"id\":\"3903\",\"type\":\"BasicTickFormatter\"},{\"attributes\":{},\"id\":\"3927\",\"type\":\"Selection\"},{\"attributes\":{\"end\":0.47592987540768905,\"reset_end\":0.47592987540768905,\"reset_start\":-0.3252334949069964,\"start\":-0.3252334949069964,\"tags\":[[[\"value\",\"value\",null]]]},\"id\":\"3866\",\"type\":\"Range1d\"},{\"attributes\":{\"source\":{\"id\":\"3905\"}},\"id\":\"3912\",\"type\":\"CDSView\"},{\"attributes\":{\"overlay\":{\"id\":\"3891\"}},\"id\":\"3889\",\"type\":\"BoxZoomTool\"},{\"attributes\":{\"below\":[{\"id\":\"3878\"}],\"center\":[{\"id\":\"3881\"},{\"id\":\"3885\"}],\"height\":300,\"left\":[{\"id\":\"3882\"}],\"margin\":[5,5,5,5],\"min_border_bottom\":10,\"min_border_left\":10,\"min_border_right\":10,\"min_border_top\":10,\"renderers\":[{\"id\":\"3911\"},{\"id\":\"3932\"}],\"right\":[{\"id\":\"3923\"}],\"sizing_mode\":\"fixed\",\"title\":{\"id\":\"3870\"},\"toolbar\":{\"id\":\"3892\"},\"width\":700,\"x_range\":{\"id\":\"3865\"},\"x_scale\":{\"id\":\"3874\"},\"y_range\":{\"id\":\"3866\"},\"y_scale\":{\"id\":\"3876\"}},\"id\":\"3869\",\"subtype\":\"Figure\",\"type\":\"Plot\"},{\"attributes\":{\"margin\":[5,5,5,5],\"name\":\"HSpacer06062\",\"sizing_mode\":\"stretch_width\"},\"id\":\"4056\",\"type\":\"Spacer\"},{\"attributes\":{},\"id\":\"3874\",\"type\":\"LinearScale\"},{\"attributes\":{\"data\":{\"Variable\":[\"Apparel stocks\",\"Apparel stocks\",\"Apparel stocks\",\"Apparel stocks\",\"Apparel stocks\",\"Apparel stocks\",\"Apparel stocks\"],\"index\":[2015,2016,2017,2018,2019,2020,2021],\"value\":{\"__ndarray__\":\"AAAAAAAA+H9AwipBxYrQv7g3NI5XO8S/aNOir8cv2j/wK2d2M+TIP+in8KIksdI//O4xuWVi1j8=\",\"dtype\":\"float64\",\"order\":\"little\",\"shape\":[7]}},\"selected\":{\"id\":\"3906\"},\"selection_policy\":{\"id\":\"3920\"}},\"id\":\"3905\",\"type\":\"ColumnDataSource\"},{\"attributes\":{},\"id\":\"3904\",\"type\":\"AllLabels\"},{\"attributes\":{},\"id\":\"3906\",\"type\":\"Selection\"},{\"attributes\":{\"line_alpha\":0.1,\"line_color\":\"#30a2da\",\"line_width\":2,\"x\":{\"field\":\"index\"},\"y\":{\"field\":\"value\"}},\"id\":\"3909\",\"type\":\"Line\"},{\"attributes\":{\"axis\":{\"id\":\"3878\"},\"coordinates\":null,\"grid_line_color\":null,\"group\":null,\"ticker\":null},\"id\":\"3881\",\"type\":\"Grid\"},{\"attributes\":{\"coordinates\":null,\"group\":null,\"text_color\":\"black\",\"text_font_size\":\"12pt\"},\"id\":\"3870\",\"type\":\"Title\"},{\"attributes\":{\"children\":[{\"id\":\"3864\"},{\"id\":\"3869\"},{\"id\":\"4056\"}],\"margin\":[0,0,0,0],\"name\":\"Row06057\",\"tags\":[\"embedded\"]},\"id\":\"3863\",\"type\":\"Row\"}],\"root_ids\":[\"3863\"]},\"title\":\"Bokeh Application\",\"version\":\"2.4.1\"}};\n",
       "    var render_items = [{\"docid\":\"6858184a-af2c-4b40-a4b3-6721da11ae33\",\"root_ids\":[\"3863\"],\"roots\":{\"3863\":\"d0236aac-7128-44bb-bd10-160ec5df01c4\"}}];\n",
       "    root.Bokeh.embed.embed_items_notebook(docs_json, render_items);\n",
       "  }\n",
       "  if (root.Bokeh !== undefined && root.Bokeh.Panel !== undefined) {\n",
       "    embed_document(root);\n",
       "  } else {\n",
       "    var attempts = 0;\n",
       "    var timer = setInterval(function(root) {\n",
       "      if (root.Bokeh !== undefined && root.Bokeh.Panel !== undefined) {\n",
       "        clearInterval(timer);\n",
       "        embed_document(root);\n",
       "      } else if (document.readyState == \"complete\") {\n",
       "        attempts++;\n",
       "        if (attempts > 200) {\n",
       "          clearInterval(timer);\n",
       "          console.log(\"Bokeh: ERROR: Unable to run BokehJS code because BokehJS library is missing\");\n",
       "        }\n",
       "      }\n",
       "    }, 25, root)\n",
       "  }\n",
       "})(window);</script>"
      ],
      "text/plain": [
       ":NdOverlay   [Variable]\n",
       "   :Curve   [index]   (value)"
      ]
     },
     "execution_count": 509,
     "metadata": {
      "application/vnd.holoviews_exec.v0+json": {
       "id": "3863"
      }
     },
     "output_type": "execute_result"
    }
   ],
   "source": [
    "apparel_combined = concat_stocks_cpi(Apparel_stock_annual,apparel_pct_change)\n",
    "apparel_combined.columns = ['Apparel stocks', \"Philly Apparel CPI\"]\n",
    "apparel_plot = apparel_combined.hvplot.line(xlabel='Year', ylabel=\"Annual Percent Change\")\n",
    "apparel_plot"
   ]
  },
  {
   "cell_type": "code",
   "execution_count": 510,
   "metadata": {},
   "outputs": [],
   "source": [
    "food_combined = concat_stocks_cpi(Food_stock_annual,Food_pct_change)\n",
    "food_combined.columns = ['Commerical Food stocks', \"Philly Commerical Food CPI\"]\n",
    "food_plot = food_combined.hvplot.line(xlabel='Year', ylabel=\"Annual Percent Change\")\n"
   ]
  },
  {
   "cell_type": "code",
   "execution_count": 511,
   "metadata": {},
   "outputs": [
    {
     "data": {},
     "metadata": {},
     "output_type": "display_data"
    },
    {
     "data": {
      "application/vnd.holoviews_exec.v0+json": "",
      "text/html": [
       "<div id='4118'>\n",
       "\n",
       "\n",
       "\n",
       "\n",
       "\n",
       "  <div class=\"bk-root\" id=\"12d3526d-dc62-435e-b4f2-cf4ea23267c8\" data-root-id=\"4118\"></div>\n",
       "</div>\n",
       "<script type=\"application/javascript\">(function(root) {\n",
       "  function embed_document(root) {\n",
       "    var docs_json = {\"2be66101-2ff2-41de-a569-5f0562df3722\":{\"defs\":[{\"extends\":null,\"module\":null,\"name\":\"ReactiveHTML1\",\"overrides\":[],\"properties\":[]},{\"extends\":null,\"module\":null,\"name\":\"FlexBox1\",\"overrides\":[],\"properties\":[{\"default\":\"flex-start\",\"kind\":null,\"name\":\"align_content\"},{\"default\":\"flex-start\",\"kind\":null,\"name\":\"align_items\"},{\"default\":\"row\",\"kind\":null,\"name\":\"flex_direction\"},{\"default\":\"wrap\",\"kind\":null,\"name\":\"flex_wrap\"},{\"default\":\"flex-start\",\"kind\":null,\"name\":\"justify_content\"}]},{\"extends\":null,\"module\":null,\"name\":\"TemplateActions1\",\"overrides\":[],\"properties\":[{\"default\":0,\"kind\":null,\"name\":\"open_modal\"},{\"default\":0,\"kind\":null,\"name\":\"close_modal\"}]},{\"extends\":null,\"module\":null,\"name\":\"MaterialTemplateActions1\",\"overrides\":[],\"properties\":[{\"default\":0,\"kind\":null,\"name\":\"open_modal\"},{\"default\":0,\"kind\":null,\"name\":\"close_modal\"}]}],\"roots\":{\"references\":[{\"attributes\":{\"tools\":[{\"id\":\"4122\"},{\"id\":\"4141\"},{\"id\":\"4142\"},{\"id\":\"4143\"},{\"id\":\"4144\"},{\"id\":\"4145\"}]},\"id\":\"4147\",\"type\":\"Toolbar\"},{\"attributes\":{\"label\":{\"value\":\"Philly Apparel CPI\"},\"renderers\":[{\"id\":\"4517\"}]},\"id\":\"4531\",\"type\":\"LegendItem\"},{\"attributes\":{\"data\":{\"Variable\":[\"Philly housing CPI\",\"Philly housing CPI\",\"Philly housing CPI\",\"Philly housing CPI\",\"Philly housing CPI\",\"Philly housing CPI\",\"Philly housing CPI\"],\"index\":[2015,2016,2017,2018,2019,2020,2021],\"value\":{\"__ndarray__\":\"wD0sFkSWlz+AILaJqYKLP8CTHMZxm5I/AF8Trrn6kD8AYeP+yLKdP8BlZbQ5gps/gHARzd3cjD8=\",\"dtype\":\"float64\",\"order\":\"little\",\"shape\":[7]}},\"selected\":{\"id\":\"4347\"},\"selection_policy\":{\"id\":\"4363\"}},\"id\":\"4346\",\"type\":\"ColumnDataSource\"},{\"attributes\":{\"label\":{\"value\":\"Philly Commerical Food CPI\"},\"renderers\":[{\"id\":\"4187\"}]},\"id\":\"4201\",\"type\":\"LegendItem\"},{\"attributes\":{},\"id\":\"4175\",\"type\":\"UnionRenderers\"},{\"attributes\":{\"line_alpha\":0.1,\"line_color\":\"#fc4f30\",\"line_width\":2,\"x\":{\"field\":\"index\"},\"y\":{\"field\":\"value\"}},\"id\":\"4350\",\"type\":\"Line\"},{\"attributes\":{},\"id\":\"4198\",\"type\":\"UnionRenderers\"},{\"attributes\":{\"line_color\":\"#30a2da\",\"line_width\":2,\"x\":{\"field\":\"index\"},\"y\":{\"field\":\"value\"}},\"id\":\"4180\",\"type\":\"Line\"},{\"attributes\":{\"label\":{\"value\":\"Philly housing CPI\"},\"renderers\":[{\"id\":\"4352\"}]},\"id\":\"4366\",\"type\":\"LegendItem\"},{\"attributes\":{\"line_color\":\"#30a2da\",\"line_width\":2,\"x\":{\"field\":\"index\"},\"y\":{\"field\":\"value\"}},\"id\":\"4163\",\"type\":\"Line\"},{\"attributes\":{\"line_alpha\":0.1,\"line_color\":\"#30a2da\",\"line_width\":2,\"x\":{\"field\":\"index\"},\"y\":{\"field\":\"value\"}},\"id\":\"4164\",\"type\":\"Line\"},{\"attributes\":{\"callback\":null,\"renderers\":[{\"id\":\"4496\"},{\"id\":\"4517\"}],\"tags\":[\"hv_created\"],\"tooltips\":[[\"Variable\",\"@{Variable}\"],[\"index\",\"@{index}\"],[\"value\",\"@{value}\"]]},\"id\":\"4452\",\"type\":\"HoverTool\"},{\"attributes\":{},\"id\":\"4324\",\"type\":\"AllLabels\"},{\"attributes\":{\"line_color\":\"#fc4f30\",\"line_width\":2,\"x\":{\"field\":\"index\"},\"y\":{\"field\":\"value\"}},\"id\":\"4202\",\"type\":\"Line\"},{\"attributes\":{},\"id\":\"4138\",\"type\":\"BasicTicker\"},{\"attributes\":{\"source\":{\"id\":\"4511\"}},\"id\":\"4518\",\"type\":\"CDSView\"},{\"attributes\":{},\"id\":\"4129\",\"type\":\"LinearScale\"},{\"attributes\":{\"coordinates\":null,\"data_source\":{\"id\":\"4160\"},\"glyph\":{\"id\":\"4163\"},\"group\":null,\"hover_glyph\":null,\"muted_glyph\":{\"id\":\"4165\"},\"nonselection_glyph\":{\"id\":\"4164\"},\"selection_glyph\":{\"id\":\"4180\"},\"view\":{\"id\":\"4167\"}},\"id\":\"4166\",\"type\":\"GlyphRenderer\"},{\"attributes\":{},\"id\":\"4134\",\"type\":\"BasicTicker\"},{\"attributes\":{\"children\":[{\"id\":\"4658\"},{\"id\":\"4656\"}]},\"id\":\"4659\",\"type\":\"Column\"},{\"attributes\":{\"source\":{\"id\":\"4160\"}},\"id\":\"4167\",\"type\":\"CDSView\"},{\"attributes\":{},\"id\":\"4320\",\"type\":\"BasicTickFormatter\"},{\"attributes\":{\"below\":[{\"id\":\"4463\"}],\"center\":[{\"id\":\"4466\"},{\"id\":\"4470\"}],\"height\":300,\"left\":[{\"id\":\"4467\"}],\"margin\":null,\"min_border_bottom\":10,\"min_border_left\":10,\"min_border_right\":10,\"min_border_top\":10,\"renderers\":[{\"id\":\"4496\"},{\"id\":\"4517\"}],\"right\":[{\"id\":\"4508\"}],\"sizing_mode\":\"fixed\",\"title\":{\"id\":\"4455\"},\"toolbar\":{\"id\":\"4477\"},\"toolbar_location\":null,\"width\":700,\"x_range\":{\"id\":\"4120\"},\"x_scale\":{\"id\":\"4459\"},\"y_range\":{\"id\":\"4121\"},\"y_scale\":{\"id\":\"4461\"}},\"id\":\"4454\",\"subtype\":\"Figure\",\"type\":\"Plot\"},{\"attributes\":{\"coordinates\":null,\"group\":null,\"text_color\":\"black\",\"text_font_size\":\"12pt\"},\"id\":\"4125\",\"type\":\"Title\"},{\"attributes\":{\"end\":0.6157932392664185,\"reset_end\":0.6157932392664185,\"reset_start\":-0.33794834616688085,\"start\":-0.33794834616688085,\"tags\":[[[\"value\",\"value\",null]]]},\"id\":\"4121\",\"type\":\"Range1d\"},{\"attributes\":{\"axis_label\":\"Annual Percent Change\",\"coordinates\":null,\"formatter\":{\"id\":\"4323\"},\"group\":null,\"major_label_policy\":{\"id\":\"4324\"},\"ticker\":{\"id\":\"4303\"}},\"id\":\"4302\",\"type\":\"LinearAxis\"},{\"attributes\":{\"line_alpha\":0.2,\"line_color\":\"#30a2da\",\"line_width\":2,\"x\":{\"field\":\"index\"},\"y\":{\"field\":\"value\"}},\"id\":\"4165\",\"type\":\"Line\"},{\"attributes\":{\"axis\":{\"id\":\"4133\"},\"coordinates\":null,\"grid_line_color\":null,\"group\":null,\"ticker\":null},\"id\":\"4136\",\"type\":\"Grid\"},{\"attributes\":{},\"id\":\"4363\",\"type\":\"UnionRenderers\"},{\"attributes\":{\"coordinates\":null,\"data_source\":{\"id\":\"4181\"},\"glyph\":{\"id\":\"4184\"},\"group\":null,\"hover_glyph\":null,\"muted_glyph\":{\"id\":\"4186\"},\"nonselection_glyph\":{\"id\":\"4185\"},\"selection_glyph\":{\"id\":\"4202\"},\"view\":{\"id\":\"4188\"}},\"id\":\"4187\",\"type\":\"GlyphRenderer\"},{\"attributes\":{},\"id\":\"4131\",\"type\":\"LinearScale\"},{\"attributes\":{\"margin\":[5,5,5,5],\"name\":\"HSpacer06511\",\"sizing_mode\":\"stretch_width\"},\"id\":\"4119\",\"type\":\"Spacer\"},{\"attributes\":{\"axis_label\":\"Annual Percent Change\",\"coordinates\":null,\"formatter\":{\"id\":\"4158\"},\"group\":null,\"major_label_policy\":{\"id\":\"4159\"},\"ticker\":{\"id\":\"4138\"}},\"id\":\"4137\",\"type\":\"LinearAxis\"},{\"attributes\":{\"source\":{\"id\":\"4346\"}},\"id\":\"4353\",\"type\":\"CDSView\"},{\"attributes\":{\"axis_label\":\"Year\",\"coordinates\":null,\"formatter\":{\"id\":\"4155\"},\"group\":null,\"major_label_policy\":{\"id\":\"4156\"},\"ticker\":{\"id\":\"4134\"}},\"id\":\"4133\",\"type\":\"LinearAxis\"},{\"attributes\":{\"coordinates\":null,\"group\":null,\"text_color\":\"black\",\"text_font_size\":\"12pt\"},\"id\":\"4290\",\"type\":\"Title\"},{\"attributes\":{\"children\":[[{\"id\":\"4124\"},0,0],[{\"id\":\"4289\"},0,1],[{\"id\":\"4454\"},0,2]]},\"id\":\"4656\",\"type\":\"GridBox\"},{\"attributes\":{\"line_color\":\"#fc4f30\",\"line_width\":2,\"x\":{\"field\":\"index\"},\"y\":{\"field\":\"value\"}},\"id\":\"4349\",\"type\":\"Line\"},{\"attributes\":{\"toolbar\":{\"id\":\"4657\"},\"toolbar_location\":\"above\"},\"id\":\"4658\",\"type\":\"ToolbarBox\"},{\"attributes\":{\"axis\":{\"id\":\"4137\"},\"coordinates\":null,\"dimension\":1,\"grid_line_color\":null,\"group\":null,\"ticker\":null},\"id\":\"4140\",\"type\":\"Grid\"},{\"attributes\":{\"coordinates\":null,\"data_source\":{\"id\":\"4346\"},\"glyph\":{\"id\":\"4349\"},\"group\":null,\"hover_glyph\":null,\"muted_glyph\":{\"id\":\"4351\"},\"nonselection_glyph\":{\"id\":\"4350\"},\"selection_glyph\":{\"id\":\"4367\"},\"view\":{\"id\":\"4353\"}},\"id\":\"4352\",\"type\":\"GlyphRenderer\"},{\"attributes\":{\"line_alpha\":0.1,\"line_color\":\"#fc4f30\",\"line_width\":2,\"x\":{\"field\":\"index\"},\"y\":{\"field\":\"value\"}},\"id\":\"4185\",\"type\":\"Line\"},{\"attributes\":{\"line_color\":\"#30a2da\",\"line_width\":2,\"x\":{\"field\":\"index\"},\"y\":{\"field\":\"value\"}},\"id\":\"4328\",\"type\":\"Line\"},{\"attributes\":{\"data\":{\"Variable\":[\"Apparel stocks\",\"Apparel stocks\",\"Apparel stocks\",\"Apparel stocks\",\"Apparel stocks\",\"Apparel stocks\",\"Apparel stocks\"],\"index\":[2015,2016,2017,2018,2019,2020,2021],\"value\":{\"__ndarray__\":\"AAAAAAAA+H9AwipBxYrQv7g3NI5XO8S/aNOir8cv2j/wK2d2M+TIP+in8KIksdI//O4xuWVi1j8=\",\"dtype\":\"float64\",\"order\":\"little\",\"shape\":[7]}},\"selected\":{\"id\":\"4491\"},\"selection_policy\":{\"id\":\"4505\"}},\"id\":\"4490\",\"type\":\"ColumnDataSource\"},{\"attributes\":{},\"id\":\"4294\",\"type\":\"LinearScale\"},{\"attributes\":{},\"id\":\"4159\",\"type\":\"AllLabels\"},{\"attributes\":{\"line_color\":\"#fc4f30\",\"line_width\":2,\"x\":{\"field\":\"index\"},\"y\":{\"field\":\"value\"}},\"id\":\"4184\",\"type\":\"Line\"},{\"attributes\":{\"source\":{\"id\":\"4181\"}},\"id\":\"4188\",\"type\":\"CDSView\"},{\"attributes\":{},\"id\":\"4512\",\"type\":\"Selection\"},{\"attributes\":{},\"id\":\"4323\",\"type\":\"BasicTickFormatter\"},{\"attributes\":{\"axis_label\":\"Year\",\"coordinates\":null,\"formatter\":{\"id\":\"4320\"},\"group\":null,\"major_label_policy\":{\"id\":\"4321\"},\"ticker\":{\"id\":\"4299\"}},\"id\":\"4298\",\"type\":\"LinearAxis\"},{\"attributes\":{\"click_policy\":\"mute\",\"coordinates\":null,\"group\":null,\"items\":[{\"id\":\"4344\"},{\"id\":\"4366\"}],\"location\":[0,0],\"title\":\"Variable\"},\"id\":\"4343\",\"type\":\"Legend\"},{\"attributes\":{},\"id\":\"4486\",\"type\":\"AllLabels\"},{\"attributes\":{\"click_policy\":\"mute\",\"coordinates\":null,\"group\":null,\"items\":[{\"id\":\"4179\"},{\"id\":\"4201\"}],\"location\":[0,0],\"title\":\"Variable\"},\"id\":\"4178\",\"type\":\"Legend\"},{\"attributes\":{\"toolbars\":[{\"id\":\"4147\"},{\"id\":\"4312\"},{\"id\":\"4477\"}],\"tools\":[{\"id\":\"4122\"},{\"id\":\"4141\"},{\"id\":\"4142\"},{\"id\":\"4143\"},{\"id\":\"4144\"},{\"id\":\"4145\"},{\"id\":\"4287\"},{\"id\":\"4306\"},{\"id\":\"4307\"},{\"id\":\"4308\"},{\"id\":\"4309\"},{\"id\":\"4310\"},{\"id\":\"4452\"},{\"id\":\"4471\"},{\"id\":\"4472\"},{\"id\":\"4473\"},{\"id\":\"4474\"},{\"id\":\"4475\"}]},\"id\":\"4657\",\"type\":\"ProxyToolbar\"},{\"attributes\":{},\"id\":\"4141\",\"type\":\"SaveTool\"},{\"attributes\":{},\"id\":\"4485\",\"type\":\"BasicTickFormatter\"},{\"attributes\":{},\"id\":\"4142\",\"type\":\"PanTool\"},{\"attributes\":{},\"id\":\"4145\",\"type\":\"ResetTool\"},{\"attributes\":{},\"id\":\"4143\",\"type\":\"WheelZoomTool\"},{\"attributes\":{},\"id\":\"4155\",\"type\":\"BasicTickFormatter\"},{\"attributes\":{},\"id\":\"4158\",\"type\":\"BasicTickFormatter\"},{\"attributes\":{\"overlay\":{\"id\":\"4146\"}},\"id\":\"4144\",\"type\":\"BoxZoomTool\"},{\"attributes\":{\"axis\":{\"id\":\"4298\"},\"coordinates\":null,\"grid_line_color\":null,\"group\":null,\"ticker\":null},\"id\":\"4301\",\"type\":\"Grid\"},{\"attributes\":{},\"id\":\"4528\",\"type\":\"UnionRenderers\"},{\"attributes\":{},\"id\":\"4296\",\"type\":\"LinearScale\"},{\"attributes\":{\"below\":[{\"id\":\"4133\"}],\"center\":[{\"id\":\"4136\"},{\"id\":\"4140\"}],\"height\":300,\"left\":[{\"id\":\"4137\"}],\"margin\":null,\"min_border_bottom\":10,\"min_border_left\":10,\"min_border_right\":10,\"min_border_top\":10,\"renderers\":[{\"id\":\"4166\"},{\"id\":\"4187\"}],\"right\":[{\"id\":\"4178\"}],\"sizing_mode\":\"fixed\",\"title\":{\"id\":\"4125\"},\"toolbar\":{\"id\":\"4147\"},\"toolbar_location\":null,\"width\":700,\"x_range\":{\"id\":\"4120\"},\"x_scale\":{\"id\":\"4129\"},\"y_range\":{\"id\":\"4121\"},\"y_scale\":{\"id\":\"4131\"}},\"id\":\"4124\",\"subtype\":\"Figure\",\"type\":\"Plot\"},{\"attributes\":{},\"id\":\"4299\",\"type\":\"BasicTicker\"},{\"attributes\":{\"line_color\":\"#30a2da\",\"line_width\":2,\"x\":{\"field\":\"index\"},\"y\":{\"field\":\"value\"}},\"id\":\"4493\",\"type\":\"Line\"},{\"attributes\":{\"bottom_units\":\"screen\",\"coordinates\":null,\"fill_alpha\":0.5,\"fill_color\":\"lightgrey\",\"group\":null,\"left_units\":\"screen\",\"level\":\"overlay\",\"line_alpha\":1.0,\"line_color\":\"black\",\"line_dash\":[4,4],\"line_width\":2,\"right_units\":\"screen\",\"syncable\":false,\"top_units\":\"screen\"},\"id\":\"4146\",\"type\":\"BoxAnnotation\"},{\"attributes\":{\"line_color\":\"#fc4f30\",\"line_width\":2,\"x\":{\"field\":\"index\"},\"y\":{\"field\":\"value\"}},\"id\":\"4367\",\"type\":\"Line\"},{\"attributes\":{\"line_alpha\":0.1,\"line_color\":\"#30a2da\",\"line_width\":2,\"x\":{\"field\":\"index\"},\"y\":{\"field\":\"value\"}},\"id\":\"4329\",\"type\":\"Line\"},{\"attributes\":{},\"id\":\"4303\",\"type\":\"BasicTicker\"},{\"attributes\":{\"children\":[{\"id\":\"4119\"},{\"id\":\"4659\"},{\"id\":\"4984\"}],\"margin\":[0,0,0,0],\"name\":\"Row06507\",\"tags\":[\"embedded\"]},\"id\":\"4118\",\"type\":\"Row\"},{\"attributes\":{\"line_alpha\":0.2,\"line_color\":\"#fc4f30\",\"line_width\":2,\"x\":{\"field\":\"index\"},\"y\":{\"field\":\"value\"}},\"id\":\"4186\",\"type\":\"Line\"},{\"attributes\":{\"label\":{\"value\":\"Commerical Food stocks\"},\"renderers\":[{\"id\":\"4166\"}]},\"id\":\"4179\",\"type\":\"LegendItem\"},{\"attributes\":{},\"id\":\"4488\",\"type\":\"BasicTickFormatter\"},{\"attributes\":{},\"id\":\"4505\",\"type\":\"UnionRenderers\"},{\"attributes\":{\"line_color\":\"#fc4f30\",\"line_width\":2,\"x\":{\"field\":\"index\"},\"y\":{\"field\":\"value\"}},\"id\":\"4532\",\"type\":\"Line\"},{\"attributes\":{\"label\":{\"value\":\"Apparel stocks\"},\"renderers\":[{\"id\":\"4496\"}]},\"id\":\"4509\",\"type\":\"LegendItem\"},{\"attributes\":{\"axis\":{\"id\":\"4302\"},\"coordinates\":null,\"dimension\":1,\"grid_line_color\":null,\"group\":null,\"ticker\":null},\"id\":\"4305\",\"type\":\"Grid\"},{\"attributes\":{\"axis_label\":\"Annual Percent Change\",\"coordinates\":null,\"formatter\":{\"id\":\"4488\"},\"group\":null,\"major_label_policy\":{\"id\":\"4489\"},\"ticker\":{\"id\":\"4468\"}},\"id\":\"4467\",\"type\":\"LinearAxis\"},{\"attributes\":{\"click_policy\":\"mute\",\"coordinates\":null,\"group\":null,\"items\":[{\"id\":\"4509\"},{\"id\":\"4531\"}],\"location\":[0,0],\"title\":\"Variable\"},\"id\":\"4508\",\"type\":\"Legend\"},{\"attributes\":{\"data\":{\"Variable\":[\"Philly Commerical Food CPI\",\"Philly Commerical Food CPI\",\"Philly Commerical Food CPI\",\"Philly Commerical Food CPI\",\"Philly Commerical Food CPI\",\"Philly Commerical Food CPI\",\"Philly Commerical Food CPI\"],\"index\":[2015,2016,2017,2018,2019,2020,2021],\"value\":{\"__ndarray__\":\"gGo7F6t8jz/AoUenw3eQP0ABgiSvZZM/QPs85jx8kD+AhZFf+UObPwBbnhBUiqY/AOmda29Goz8=\",\"dtype\":\"float64\",\"order\":\"little\",\"shape\":[7]}},\"selected\":{\"id\":\"4182\"},\"selection_policy\":{\"id\":\"4198\"}},\"id\":\"4181\",\"type\":\"ColumnDataSource\"},{\"attributes\":{},\"id\":\"4326\",\"type\":\"Selection\"},{\"attributes\":{\"tools\":[{\"id\":\"4287\"},{\"id\":\"4306\"},{\"id\":\"4307\"},{\"id\":\"4308\"},{\"id\":\"4309\"},{\"id\":\"4310\"}]},\"id\":\"4312\",\"type\":\"Toolbar\"},{\"attributes\":{},\"id\":\"4459\",\"type\":\"LinearScale\"},{\"attributes\":{\"bottom_units\":\"screen\",\"coordinates\":null,\"fill_alpha\":0.5,\"fill_color\":\"lightgrey\",\"group\":null,\"left_units\":\"screen\",\"level\":\"overlay\",\"line_alpha\":1.0,\"line_color\":\"black\",\"line_dash\":[4,4],\"line_width\":2,\"right_units\":\"screen\",\"syncable\":false,\"top_units\":\"screen\"},\"id\":\"4311\",\"type\":\"BoxAnnotation\"},{\"attributes\":{},\"id\":\"4161\",\"type\":\"Selection\"},{\"attributes\":{},\"id\":\"4306\",\"type\":\"SaveTool\"},{\"attributes\":{},\"id\":\"4307\",\"type\":\"PanTool\"},{\"attributes\":{\"axis_label\":\"Year\",\"coordinates\":null,\"formatter\":{\"id\":\"4485\"},\"group\":null,\"major_label_policy\":{\"id\":\"4486\"},\"ticker\":{\"id\":\"4464\"}},\"id\":\"4463\",\"type\":\"LinearAxis\"},{\"attributes\":{\"below\":[{\"id\":\"4298\"}],\"center\":[{\"id\":\"4301\"},{\"id\":\"4305\"}],\"height\":300,\"left\":[{\"id\":\"4302\"}],\"margin\":null,\"min_border_bottom\":10,\"min_border_left\":10,\"min_border_right\":10,\"min_border_top\":10,\"renderers\":[{\"id\":\"4331\"},{\"id\":\"4352\"}],\"right\":[{\"id\":\"4343\"}],\"sizing_mode\":\"fixed\",\"title\":{\"id\":\"4290\"},\"toolbar\":{\"id\":\"4312\"},\"toolbar_location\":null,\"width\":700,\"x_range\":{\"id\":\"4120\"},\"x_scale\":{\"id\":\"4294\"},\"y_range\":{\"id\":\"4121\"},\"y_scale\":{\"id\":\"4296\"}},\"id\":\"4289\",\"subtype\":\"Figure\",\"type\":\"Plot\"},{\"attributes\":{},\"id\":\"4310\",\"type\":\"ResetTool\"},{\"attributes\":{},\"id\":\"4308\",\"type\":\"WheelZoomTool\"},{\"attributes\":{\"line_color\":\"#30a2da\",\"line_width\":2,\"x\":{\"field\":\"index\"},\"y\":{\"field\":\"value\"}},\"id\":\"4510\",\"type\":\"Line\"},{\"attributes\":{},\"id\":\"4182\",\"type\":\"Selection\"},{\"attributes\":{\"line_alpha\":0.1,\"line_color\":\"#fc4f30\",\"line_width\":2,\"x\":{\"field\":\"index\"},\"y\":{\"field\":\"value\"}},\"id\":\"4515\",\"type\":\"Line\"},{\"attributes\":{\"overlay\":{\"id\":\"4311\"}},\"id\":\"4309\",\"type\":\"BoxZoomTool\"},{\"attributes\":{\"data\":{\"Variable\":[\"Real Estate stocks\",\"Real Estate stocks\",\"Real Estate stocks\",\"Real Estate stocks\",\"Real Estate stocks\",\"Real Estate stocks\",\"Real Estate stocks\"],\"index\":[2015,2016,2017,2018,2019,2020,2021],\"value\":{\"__ndarray__\":\"AAAAAAAA+H/AthY7iuWWv0Aq7d4Hwp0/iP3rwM6fzT/Q50C7d9vFP6jPOJ2jmtE/AoW8mX0p4T8=\",\"dtype\":\"float64\",\"order\":\"little\",\"shape\":[7]}},\"selected\":{\"id\":\"4326\"},\"selection_policy\":{\"id\":\"4340\"}},\"id\":\"4325\",\"type\":\"ColumnDataSource\"},{\"attributes\":{\"line_alpha\":0.2,\"line_color\":\"#fc4f30\",\"line_width\":2,\"x\":{\"field\":\"index\"},\"y\":{\"field\":\"value\"}},\"id\":\"4516\",\"type\":\"Line\"},{\"attributes\":{},\"id\":\"4491\",\"type\":\"Selection\"},{\"attributes\":{\"coordinates\":null,\"group\":null,\"text_color\":\"black\",\"text_font_size\":\"12pt\"},\"id\":\"4455\",\"type\":\"Title\"},{\"attributes\":{\"line_alpha\":0.1,\"line_color\":\"#30a2da\",\"line_width\":2,\"x\":{\"field\":\"index\"},\"y\":{\"field\":\"value\"}},\"id\":\"4494\",\"type\":\"Line\"},{\"attributes\":{\"line_color\":\"#30a2da\",\"line_width\":2,\"x\":{\"field\":\"index\"},\"y\":{\"field\":\"value\"}},\"id\":\"4345\",\"type\":\"Line\"},{\"attributes\":{\"axis\":{\"id\":\"4463\"},\"coordinates\":null,\"grid_line_color\":null,\"group\":null,\"ticker\":null},\"id\":\"4466\",\"type\":\"Grid\"},{\"attributes\":{\"coordinates\":null,\"data_source\":{\"id\":\"4511\"},\"glyph\":{\"id\":\"4514\"},\"group\":null,\"hover_glyph\":null,\"muted_glyph\":{\"id\":\"4516\"},\"nonselection_glyph\":{\"id\":\"4515\"},\"selection_glyph\":{\"id\":\"4532\"},\"view\":{\"id\":\"4518\"}},\"id\":\"4517\",\"type\":\"GlyphRenderer\"},{\"attributes\":{\"label\":{\"value\":\"Real Estate stocks\"},\"renderers\":[{\"id\":\"4331\"}]},\"id\":\"4344\",\"type\":\"LegendItem\"},{\"attributes\":{},\"id\":\"4461\",\"type\":\"LinearScale\"},{\"attributes\":{},\"id\":\"4468\",\"type\":\"BasicTicker\"},{\"attributes\":{},\"id\":\"4464\",\"type\":\"BasicTicker\"},{\"attributes\":{\"line_color\":\"#fc4f30\",\"line_width\":2,\"x\":{\"field\":\"index\"},\"y\":{\"field\":\"value\"}},\"id\":\"4514\",\"type\":\"Line\"},{\"attributes\":{\"axis\":{\"id\":\"4467\"},\"coordinates\":null,\"dimension\":1,\"grid_line_color\":null,\"group\":null,\"ticker\":null},\"id\":\"4470\",\"type\":\"Grid\"},{\"attributes\":{\"callback\":null,\"renderers\":[{\"id\":\"4166\"},{\"id\":\"4187\"}],\"tags\":[\"hv_created\"],\"tooltips\":[[\"Variable\",\"@{Variable}\"],[\"index\",\"@{index}\"],[\"value\",\"@{value}\"]]},\"id\":\"4122\",\"type\":\"HoverTool\"},{\"attributes\":{},\"id\":\"4340\",\"type\":\"UnionRenderers\"},{\"attributes\":{\"line_alpha\":0.2,\"line_color\":\"#30a2da\",\"line_width\":2,\"x\":{\"field\":\"index\"},\"y\":{\"field\":\"value\"}},\"id\":\"4330\",\"type\":\"Line\"},{\"attributes\":{},\"id\":\"4471\",\"type\":\"SaveTool\"},{\"attributes\":{},\"id\":\"4472\",\"type\":\"PanTool\"},{\"attributes\":{},\"id\":\"4156\",\"type\":\"AllLabels\"},{\"attributes\":{},\"id\":\"4321\",\"type\":\"AllLabels\"},{\"attributes\":{\"margin\":[5,5,5,5],\"name\":\"HSpacer06512\",\"sizing_mode\":\"stretch_width\"},\"id\":\"4984\",\"type\":\"Spacer\"},{\"attributes\":{},\"id\":\"4475\",\"type\":\"ResetTool\"},{\"attributes\":{},\"id\":\"4473\",\"type\":\"WheelZoomTool\"},{\"attributes\":{\"end\":2021.0,\"reset_end\":2021.0,\"reset_start\":2015.0,\"start\":2015.0,\"tags\":[[[\"index\",\"index\",null]]]},\"id\":\"4120\",\"type\":\"Range1d\"},{\"attributes\":{\"overlay\":{\"id\":\"4476\"}},\"id\":\"4474\",\"type\":\"BoxZoomTool\"},{\"attributes\":{\"coordinates\":null,\"data_source\":{\"id\":\"4325\"},\"glyph\":{\"id\":\"4328\"},\"group\":null,\"hover_glyph\":null,\"muted_glyph\":{\"id\":\"4330\"},\"nonselection_glyph\":{\"id\":\"4329\"},\"selection_glyph\":{\"id\":\"4345\"},\"view\":{\"id\":\"4332\"}},\"id\":\"4331\",\"type\":\"GlyphRenderer\"},{\"attributes\":{},\"id\":\"4347\",\"type\":\"Selection\"},{\"attributes\":{\"tools\":[{\"id\":\"4452\"},{\"id\":\"4471\"},{\"id\":\"4472\"},{\"id\":\"4473\"},{\"id\":\"4474\"},{\"id\":\"4475\"}]},\"id\":\"4477\",\"type\":\"Toolbar\"},{\"attributes\":{\"callback\":null,\"renderers\":[{\"id\":\"4331\"},{\"id\":\"4352\"}],\"tags\":[\"hv_created\"],\"tooltips\":[[\"Variable\",\"@{Variable}\"],[\"index\",\"@{index}\"],[\"value\",\"@{value}\"]]},\"id\":\"4287\",\"type\":\"HoverTool\"},{\"attributes\":{\"coordinates\":null,\"data_source\":{\"id\":\"4490\"},\"glyph\":{\"id\":\"4493\"},\"group\":null,\"hover_glyph\":null,\"muted_glyph\":{\"id\":\"4495\"},\"nonselection_glyph\":{\"id\":\"4494\"},\"selection_glyph\":{\"id\":\"4510\"},\"view\":{\"id\":\"4497\"}},\"id\":\"4496\",\"type\":\"GlyphRenderer\"},{\"attributes\":{\"source\":{\"id\":\"4325\"}},\"id\":\"4332\",\"type\":\"CDSView\"},{\"attributes\":{\"data\":{\"Variable\":[\"Philly Apparel CPI\",\"Philly Apparel CPI\",\"Philly Apparel CPI\",\"Philly Apparel CPI\",\"Philly Apparel CPI\",\"Philly Apparel CPI\",\"Philly Apparel CPI\"],\"index\":[2015,2016,2017,2018,2019,2020,2021],\"value\":{\"__ndarray__\":\"sDra1r7Ppb8Agc7hvcCgPwA47Di/pX0/gJNr7VExiL8QituoS4Ohv2C0Cy77Q5C/wLqhYFjxoD8=\",\"dtype\":\"float64\",\"order\":\"little\",\"shape\":[7]}},\"selected\":{\"id\":\"4512\"},\"selection_policy\":{\"id\":\"4528\"}},\"id\":\"4511\",\"type\":\"ColumnDataSource\"},{\"attributes\":{\"bottom_units\":\"screen\",\"coordinates\":null,\"fill_alpha\":0.5,\"fill_color\":\"lightgrey\",\"group\":null,\"left_units\":\"screen\",\"level\":\"overlay\",\"line_alpha\":1.0,\"line_color\":\"black\",\"line_dash\":[4,4],\"line_width\":2,\"right_units\":\"screen\",\"syncable\":false,\"top_units\":\"screen\"},\"id\":\"4476\",\"type\":\"BoxAnnotation\"},{\"attributes\":{\"data\":{\"Variable\":[\"Commerical Food stocks\",\"Commerical Food stocks\",\"Commerical Food stocks\",\"Commerical Food stocks\",\"Commerical Food stocks\",\"Commerical Food stocks\",\"Commerical Food stocks\"],\"index\":[2015,2016,2017,2018,2019,2020,2021],\"value\":{\"__ndarray__\":\"AAAAAAAA+H+QaamGRIOwP9hsVZuc7sc/QFsGjK+kwD9A2D3ExpDHP1i+amJ6r7i/JKKvmkGN0T8=\",\"dtype\":\"float64\",\"order\":\"little\",\"shape\":[7]}},\"selected\":{\"id\":\"4161\"},\"selection_policy\":{\"id\":\"4175\"}},\"id\":\"4160\",\"type\":\"ColumnDataSource\"},{\"attributes\":{\"line_alpha\":0.2,\"line_color\":\"#fc4f30\",\"line_width\":2,\"x\":{\"field\":\"index\"},\"y\":{\"field\":\"value\"}},\"id\":\"4351\",\"type\":\"Line\"},{\"attributes\":{\"line_alpha\":0.2,\"line_color\":\"#30a2da\",\"line_width\":2,\"x\":{\"field\":\"index\"},\"y\":{\"field\":\"value\"}},\"id\":\"4495\",\"type\":\"Line\"},{\"attributes\":{\"source\":{\"id\":\"4490\"}},\"id\":\"4497\",\"type\":\"CDSView\"},{\"attributes\":{},\"id\":\"4489\",\"type\":\"AllLabels\"}],\"root_ids\":[\"4118\"]},\"title\":\"Bokeh Application\",\"version\":\"2.4.1\"}};\n",
       "    var render_items = [{\"docid\":\"2be66101-2ff2-41de-a569-5f0562df3722\",\"root_ids\":[\"4118\"],\"roots\":{\"4118\":\"12d3526d-dc62-435e-b4f2-cf4ea23267c8\"}}];\n",
       "    root.Bokeh.embed.embed_items_notebook(docs_json, render_items);\n",
       "  }\n",
       "  if (root.Bokeh !== undefined && root.Bokeh.Panel !== undefined) {\n",
       "    embed_document(root);\n",
       "  } else {\n",
       "    var attempts = 0;\n",
       "    var timer = setInterval(function(root) {\n",
       "      if (root.Bokeh !== undefined && root.Bokeh.Panel !== undefined) {\n",
       "        clearInterval(timer);\n",
       "        embed_document(root);\n",
       "      } else if (document.readyState == \"complete\") {\n",
       "        attempts++;\n",
       "        if (attempts > 200) {\n",
       "          clearInterval(timer);\n",
       "          console.log(\"Bokeh: ERROR: Unable to run BokehJS code because BokehJS library is missing\");\n",
       "        }\n",
       "      }\n",
       "    }, 25, root)\n",
       "  }\n",
       "})(window);</script>"
      ],
      "text/plain": [
       ":Layout\n",
       "   .NdOverlay.I   :NdOverlay   [Variable]\n",
       "      :Curve   [index]   (value)\n",
       "   .NdOverlay.II  :NdOverlay   [Variable]\n",
       "      :Curve   [index]   (value)\n",
       "   .NdOverlay.III :NdOverlay   [Variable]\n",
       "      :Curve   [index]   (value)"
      ]
     },
     "execution_count": 511,
     "metadata": {
      "application/vnd.holoviews_exec.v0+json": {
       "id": "4118"
      }
     },
     "output_type": "execute_result"
    }
   ],
   "source": [
    "combined_charts = food_plot + Housing_plot + apparel_plot\n",
    "combined_charts"
   ]
  }
 ],
 "metadata": {
  "interpreter": {
   "hash": "63c96a8b9f86f756cc212e6519dffd252f61935a26893506708a2a331cfe2774"
  },
  "kernelspec": {
   "display_name": "Python 3.9.7",
   "language": "python",
   "name": "python3"
  },
  "language_info": {
   "codemirror_mode": {
    "name": "ipython",
    "version": 3
   },
   "file_extension": ".py",
   "mimetype": "text/x-python",
   "name": "python",
   "nbconvert_exporter": "python",
   "pygments_lexer": "ipython3",
   "version": "3.7.11"
  },
  "orig_nbformat": 4
 },
 "nbformat": 4,
 "nbformat_minor": 2
}
