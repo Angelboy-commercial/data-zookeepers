{
 "cells": [
  {
   "cell_type": "code",
   "execution_count": 714,
   "metadata": {},
   "outputs": [],
   "source": [
    "import pandas as pd\n",
    "import hvplot.pandas\n",
    "from dotenv import load_dotenv\n",
    "import alpaca_trade_api as tradeapi\n",
    "import os\n",
    "import plotly.express as px\n"
   ]
  },
  {
   "cell_type": "code",
   "execution_count": 715,
   "metadata": {},
   "outputs": [],
   "source": [
    "# Creating obect for the excel files\n",
    "# apparel_xl = pd.read_excel('Apparel.xlsx')\n",
    "# take_out_xl = pd.read_excel('Food_away_from_home.xlsx')\n",
    "# housing_xl = pd.read_excel('Philadelphia_housing.xlsx')\n",
    "# recreation_xl = pd.read_excel('Philly_Recreation.xlsx')"
   ]
  },
  {
   "cell_type": "code",
   "execution_count": 716,
   "metadata": {},
   "outputs": [],
   "source": [
    "# Creating csv's out of the excel object\n",
    "# apparel_csv = apparel_xl.to_csv('Philly_Apparel.csv')\n",
    "# take_out_csv = take_out_xl.to_csv('Philly_take_out.csv')\n",
    "# housing_csv = housing_xl.to_csv('Philly_housing.csv')\n",
    "# recreation_csv = recreation_xl.to_csv('Philly_Recreation.csv')"
   ]
  },
  {
   "cell_type": "code",
   "execution_count": 717,
   "metadata": {},
   "outputs": [],
   "source": [
    "# Creating the dataframes from the csv's\n",
    "Philly_apparel = pd.read_csv('apparel_clean.csv',index_col='Year')\n",
    "Philly_commercial_food = pd.read_csv('food_clean.csv',index_col='Year')\n",
    "Philly_housing = pd.read_csv('housing_clean.csv',index_col='Year')\n"
   ]
  },
  {
   "cell_type": "code",
   "execution_count": 718,
   "metadata": {},
   "outputs": [],
   "source": [
    "# Cleaning the df columns to only include \"Annual\"\n",
    "Philly_apparel = Philly_apparel[['Annual']]\n",
    "Philly_commercial_food = Philly_commercial_food[['Annual']]\n",
    "Philly_housing = Philly_housing[['Annual']]\n",
    "\n"
   ]
  },
  {
   "cell_type": "code",
   "execution_count": 719,
   "metadata": {},
   "outputs": [],
   "source": [
    "# Rename columns\n",
    "Philly_apparel.columns = ['PHL Apparel Annual']\n",
    "Philly_commercial_food.columns = ['PHL Commercial Food Annual']\n",
    "Philly_housing.columns = ['PHL Housing Annual']\n",
    "# Philly_recreation.columns = ['PHL Recreation Annual']\n"
   ]
  },
  {
   "cell_type": "code",
   "execution_count": 720,
   "metadata": {},
   "outputs": [],
   "source": [
    "# Combine the dataframes\n",
    "df_list = [Philly_apparel,Philly_commercial_food,Philly_housing]\n",
    "\n",
    "combined_df = pd.concat(df_list, axis=1, join='inner')\n"
   ]
  },
  {
   "cell_type": "code",
   "execution_count": 721,
   "metadata": {},
   "outputs": [],
   "source": [
    "# Df for Percent change year to year\n",
    "pct_change_df = combined_df.pct_change()\n",
    "\n"
   ]
  },
  {
   "cell_type": "code",
   "execution_count": 722,
   "metadata": {},
   "outputs": [
    {
     "data": {
      "text/plain": [
       "True"
      ]
     },
     "execution_count": 722,
     "metadata": {},
     "output_type": "execute_result"
    }
   ],
   "source": [
    "# load env file\n",
    "load_dotenv()"
   ]
  },
  {
   "cell_type": "code",
   "execution_count": 723,
   "metadata": {},
   "outputs": [
    {
     "data": {
      "text/plain": [
       "str"
      ]
     },
     "execution_count": 723,
     "metadata": {},
     "output_type": "execute_result"
    }
   ],
   "source": [
    "# Retreive API keys\n",
    "public_key = os.getenv(\"ALPACA_API_KEY\")\n",
    "private_key = os.getenv(\"ALPACA_SECRET_KEY\")\n",
    "type(private_key)"
   ]
  },
  {
   "cell_type": "code",
   "execution_count": 724,
   "metadata": {},
   "outputs": [],
   "source": [
    "# Create alpacas connection object\n",
    "alpacas = tradeapi.REST(public_key, private_key, api_version=\"v2\")"
   ]
  },
  {
   "cell_type": "code",
   "execution_count": 725,
   "metadata": {},
   "outputs": [],
   "source": [
    "start = pd.Timestamp(\"2012-01-01\", tz=\"America/New_York\").isoformat()\n",
    "end = pd.Timestamp(\"2021-12-31\", tz=\"America/New_York\").isoformat()\n",
    "timeframe=\"1Day\""
   ]
  },
  {
   "cell_type": "code",
   "execution_count": 726,
   "metadata": {},
   "outputs": [],
   "source": [
    "real_estate = [\"TSCO\",\"DHI\",\"LOW\",\"LGIH\"]\n",
    "apparel = [\"NKE\", \"UA\",\"GPS\", \"LULU\", \"JWN\"]\n",
    "pleasure_food = [\"MCD\",\"YUM\", \"DRI\", \"QSR\"]\n",
    "\n",
    "def alpacas_api(symbols,timeframe, start,end):\n",
    "    dataframe = alpacas.get_bars(symbols, timeframe=timeframe, start=start, end=end).df\n",
    "    new_df = dataframe[['open','close','trade_count', 'symbol']]\n",
    "\n",
    "    return new_df\n",
    "\n",
    "Real_Estate_stocks = alpacas_api(real_estate, timeframe,start,end)\n",
    "Apparel_stocks = alpacas_api(apparel, timeframe,start,end)\n",
    "Food_stocks = alpacas_api(pleasure_food, timeframe,start,end)\n"
   ]
  },
  {
   "cell_type": "code",
   "execution_count": 727,
   "metadata": {},
   "outputs": [],
   "source": [
    "# Create pivot tables for closing prices\n",
    "Real_Estate_close = Real_Estate_stocks.pivot_table(values=\"close\", index=\"timestamp\",columns=\"symbol\")\n",
    "Apparel_close = Apparel_stocks.pivot_table(values=\"close\", index=\"timestamp\",columns=\"symbol\")\n",
    "Food_close = Food_stocks.pivot_table(values=\"close\", index=\"timestamp\",columns=\"symbol\")"
   ]
  },
  {
   "cell_type": "code",
   "execution_count": 728,
   "metadata": {},
   "outputs": [],
   "source": [
    "# Get the percetn changes for each column\n",
    "apparel_pct_change = combined_df[\"PHL Apparel Annual\"].pct_change()\n",
    "Food_pct_change = combined_df[\"PHL Commercial Food Annual\"].pct_change()\n",
    "Housing_pct_change = combined_df[\"PHL Housing Annual\"].pct_change()"
   ]
  },
  {
   "cell_type": "code",
   "execution_count": 729,
   "metadata": {},
   "outputs": [],
   "source": [
    "# compare the cpi among cities, do the cities face a similar rate of inflation?\n",
    "# What industries become more expensive quicker in which cities "
   ]
  },
  {
   "cell_type": "code",
   "execution_count": 730,
   "metadata": {},
   "outputs": [],
   "source": [
    "def concat_stocks_cpi(stock, cpi):\n",
    "    df = pd.concat([stock,cpi], axis=1, join=\"inner\")\n",
    "    return df "
   ]
  },
  {
   "cell_type": "code",
   "execution_count": 731,
   "metadata": {},
   "outputs": [
    {
     "data": {
      "text/plain": [
       "timestamp\n",
       "2015         NaN\n",
       "2016   -0.022360\n",
       "2017    0.029060\n",
       "2018    0.231439\n",
       "2019    0.170760\n",
       "2020    0.275063\n",
       "2021    0.536315\n",
       "Name: close, dtype: float64"
      ]
     },
     "execution_count": 731,
     "metadata": {},
     "output_type": "execute_result"
    }
   ],
   "source": [
    "# Real_Estate_stocks.index = Real_Estate_stocks.index.year\n",
    "Real_Estate_stocks = Real_Estate_stocks.resample(\"Y\").mean()\n",
    "\n",
    "Real_estate_stock_annual = Real_Estate_stocks[\"close\"].pct_change()\n",
    "Real_estate_stock_annual.index = Real_estate_stock_annual.index.year\n",
    "Real_estate_stock_annual\n",
    "# Housing_pct_change"
   ]
  },
  {
   "cell_type": "code",
   "execution_count": 732,
   "metadata": {},
   "outputs": [],
   "source": [
    "def reformat_data(dataframe):\n",
    "    dataframe = dataframe.resample(\"Y\").mean()\n",
    "\n",
    "    dataframe = dataframe[\"close\"].pct_change()\n",
    "    dataframe.index =dataframe.index.year\n",
    "    return dataframe\n",
    "\n",
    "Apparel_stock_annual = reformat_data(Apparel_stocks)\n",
    "Food_stock_annual = reformat_data(Food_stocks)"
   ]
  },
  {
   "cell_type": "code",
   "execution_count": 733,
   "metadata": {},
   "outputs": [],
   "source": [
    "# IMPORTANT: CPI must be second dataframe entered into concat\n",
    "\n",
    "def concat_stocks_cpi(stock, cpi):\n",
    "    df = pd.concat([stock,cpi], axis=1, join=\"inner\")\n",
    "    return df \n",
    "\n",
    "Housing_combined = concat_stocks_cpi(Real_estate_stock_annual, Housing_pct_change).dropna()\n",
    "Housing_combined.columns = ['Real Estate stocks', \"Philly housing CPI\"]\n",
    "Housing_plot = Housing_combined.hvplot.line(xlabel='Year', ylabel=\"Annual Percent Change\")\n",
    "\n"
   ]
  },
  {
   "cell_type": "code",
   "execution_count": 734,
   "metadata": {},
   "outputs": [
    {
     "data": {},
     "metadata": {},
     "output_type": "display_data"
    },
    {
     "data": {
      "application/vnd.holoviews_exec.v0+json": "",
      "text/html": [
       "<div id='15274'>\n",
       "\n",
       "\n",
       "\n",
       "\n",
       "\n",
       "  <div class=\"bk-root\" id=\"71de16ac-d69f-474d-8c7c-bdbbac42814e\" data-root-id=\"15274\"></div>\n",
       "</div>\n",
       "<script type=\"application/javascript\">(function(root) {\n",
       "  function embed_document(root) {\n",
       "    var docs_json = {\"b33f0fc1-e311-4525-a6e7-8b758add3174\":{\"defs\":[{\"extends\":null,\"module\":null,\"name\":\"ReactiveHTML1\",\"overrides\":[],\"properties\":[]},{\"extends\":null,\"module\":null,\"name\":\"FlexBox1\",\"overrides\":[],\"properties\":[{\"default\":\"flex-start\",\"kind\":null,\"name\":\"align_content\"},{\"default\":\"flex-start\",\"kind\":null,\"name\":\"align_items\"},{\"default\":\"row\",\"kind\":null,\"name\":\"flex_direction\"},{\"default\":\"wrap\",\"kind\":null,\"name\":\"flex_wrap\"},{\"default\":\"flex-start\",\"kind\":null,\"name\":\"justify_content\"}]},{\"extends\":null,\"module\":null,\"name\":\"TemplateActions1\",\"overrides\":[],\"properties\":[{\"default\":0,\"kind\":null,\"name\":\"open_modal\"},{\"default\":0,\"kind\":null,\"name\":\"close_modal\"}]},{\"extends\":null,\"module\":null,\"name\":\"MaterialTemplateActions1\",\"overrides\":[],\"properties\":[{\"default\":0,\"kind\":null,\"name\":\"open_modal\"},{\"default\":0,\"kind\":null,\"name\":\"close_modal\"}]}],\"roots\":{\"references\":[{\"attributes\":{\"line_color\":\"#30a2da\",\"line_width\":2,\"x\":{\"field\":\"index\"},\"y\":{\"field\":\"value\"}},\"id\":\"15336\",\"type\":\"Line\"},{\"attributes\":{\"line_alpha\":0.1,\"line_color\":\"#30a2da\",\"line_width\":2,\"x\":{\"field\":\"index\"},\"y\":{\"field\":\"value\"}},\"id\":\"15320\",\"type\":\"Line\"},{\"attributes\":{\"callback\":null,\"renderers\":[{\"id\":\"15322\"},{\"id\":\"15343\"}],\"tags\":[\"hv_created\"],\"tooltips\":[[\"Variable\",\"@{Variable}\"],[\"index\",\"@{index}\"],[\"value\",\"@{value}\"]]},\"id\":\"15278\",\"type\":\"HoverTool\"},{\"attributes\":{},\"id\":\"15298\",\"type\":\"PanTool\"},{\"attributes\":{},\"id\":\"15290\",\"type\":\"BasicTicker\"},{\"attributes\":{\"margin\":[5,5,5,5],\"name\":\"HSpacer23307\",\"sizing_mode\":\"stretch_width\"},\"id\":\"15467\",\"type\":\"Spacer\"},{\"attributes\":{},\"id\":\"15301\",\"type\":\"ResetTool\"},{\"attributes\":{\"end\":0.47592987540768905,\"reset_end\":0.47592987540768905,\"reset_start\":-0.3252334949069964,\"start\":-0.3252334949069964,\"tags\":[[[\"value\",\"value\",null]]]},\"id\":\"15277\",\"type\":\"Range1d\"},{\"attributes\":{},\"id\":\"15299\",\"type\":\"WheelZoomTool\"},{\"attributes\":{\"overlay\":{\"id\":\"15302\"}},\"id\":\"15300\",\"type\":\"BoxZoomTool\"},{\"attributes\":{},\"id\":\"15294\",\"type\":\"BasicTicker\"},{\"attributes\":{\"children\":[{\"id\":\"15275\"},{\"id\":\"15280\"},{\"id\":\"15467\"}],\"margin\":[0,0,0,0],\"name\":\"Row23302\",\"tags\":[\"embedded\"]},\"id\":\"15274\",\"type\":\"Row\"},{\"attributes\":{\"label\":{\"value\":\"Apparel stocks\"},\"renderers\":[{\"id\":\"15322\"}]},\"id\":\"15335\",\"type\":\"LegendItem\"},{\"attributes\":{},\"id\":\"15331\",\"type\":\"UnionRenderers\"},{\"attributes\":{\"axis\":{\"id\":\"15289\"},\"coordinates\":null,\"grid_line_color\":null,\"group\":null,\"ticker\":null},\"id\":\"15292\",\"type\":\"Grid\"},{\"attributes\":{\"line_alpha\":0.2,\"line_color\":\"#30a2da\",\"line_width\":2,\"x\":{\"field\":\"index\"},\"y\":{\"field\":\"value\"}},\"id\":\"15321\",\"type\":\"Line\"},{\"attributes\":{},\"id\":\"15338\",\"type\":\"Selection\"},{\"attributes\":{\"coordinates\":null,\"data_source\":{\"id\":\"15337\"},\"glyph\":{\"id\":\"15340\"},\"group\":null,\"hover_glyph\":null,\"muted_glyph\":{\"id\":\"15342\"},\"nonselection_glyph\":{\"id\":\"15341\"},\"selection_glyph\":{\"id\":\"15358\"},\"view\":{\"id\":\"15344\"}},\"id\":\"15343\",\"type\":\"GlyphRenderer\"},{\"attributes\":{},\"id\":\"15287\",\"type\":\"LinearScale\"},{\"attributes\":{\"tools\":[{\"id\":\"15278\"},{\"id\":\"15297\"},{\"id\":\"15298\"},{\"id\":\"15299\"},{\"id\":\"15300\"},{\"id\":\"15301\"}]},\"id\":\"15303\",\"type\":\"Toolbar\"},{\"attributes\":{\"axis_label\":\"Annual Percent Change\",\"coordinates\":null,\"formatter\":{\"id\":\"15314\"},\"group\":null,\"major_label_policy\":{\"id\":\"15315\"},\"ticker\":{\"id\":\"15294\"}},\"id\":\"15293\",\"type\":\"LinearAxis\"},{\"attributes\":{\"axis_label\":\"Year\",\"coordinates\":null,\"formatter\":{\"id\":\"15311\"},\"group\":null,\"major_label_policy\":{\"id\":\"15312\"},\"ticker\":{\"id\":\"15290\"}},\"id\":\"15289\",\"type\":\"LinearAxis\"},{\"attributes\":{\"margin\":[5,5,5,5],\"name\":\"HSpacer23306\",\"sizing_mode\":\"stretch_width\"},\"id\":\"15275\",\"type\":\"Spacer\"},{\"attributes\":{\"line_color\":\"#30a2da\",\"line_width\":2,\"x\":{\"field\":\"index\"},\"y\":{\"field\":\"value\"}},\"id\":\"15319\",\"type\":\"Line\"},{\"attributes\":{\"bottom_units\":\"screen\",\"coordinates\":null,\"fill_alpha\":0.5,\"fill_color\":\"lightgrey\",\"group\":null,\"left_units\":\"screen\",\"level\":\"overlay\",\"line_alpha\":1.0,\"line_color\":\"black\",\"line_dash\":[4,4],\"line_width\":2,\"right_units\":\"screen\",\"syncable\":false,\"top_units\":\"screen\"},\"id\":\"15302\",\"type\":\"BoxAnnotation\"},{\"attributes\":{\"below\":[{\"id\":\"15289\"}],\"center\":[{\"id\":\"15292\"},{\"id\":\"15296\"}],\"height\":300,\"left\":[{\"id\":\"15293\"}],\"margin\":[5,5,5,5],\"min_border_bottom\":10,\"min_border_left\":10,\"min_border_right\":10,\"min_border_top\":10,\"renderers\":[{\"id\":\"15322\"},{\"id\":\"15343\"}],\"right\":[{\"id\":\"15334\"}],\"sizing_mode\":\"fixed\",\"title\":{\"id\":\"15281\"},\"toolbar\":{\"id\":\"15303\"},\"width\":700,\"x_range\":{\"id\":\"15276\"},\"x_scale\":{\"id\":\"15285\"},\"y_range\":{\"id\":\"15277\"},\"y_scale\":{\"id\":\"15287\"}},\"id\":\"15280\",\"subtype\":\"Figure\",\"type\":\"Plot\"},{\"attributes\":{\"coordinates\":null,\"group\":null,\"text_color\":\"black\",\"text_font_size\":\"12pt\"},\"id\":\"15281\",\"type\":\"Title\"},{\"attributes\":{\"label\":{\"value\":\"Philly Apparel CPI\"},\"renderers\":[{\"id\":\"15343\"}]},\"id\":\"15357\",\"type\":\"LegendItem\"},{\"attributes\":{\"data\":{\"Variable\":[\"Apparel stocks\",\"Apparel stocks\",\"Apparel stocks\",\"Apparel stocks\",\"Apparel stocks\",\"Apparel stocks\"],\"index\":[2016,2017,2018,2019,2020,2021],\"value\":{\"__ndarray__\":\"QMIqQcWK0L+4NzSOVzvEv2jToq/HL9o/8CtndjPkyD/op/CiJLHSP/zuMbllYtY/\",\"dtype\":\"float64\",\"order\":\"little\",\"shape\":[6]}},\"selected\":{\"id\":\"15317\"},\"selection_policy\":{\"id\":\"15331\"}},\"id\":\"15316\",\"type\":\"ColumnDataSource\"},{\"attributes\":{},\"id\":\"15354\",\"type\":\"UnionRenderers\"},{\"attributes\":{\"end\":2021.0,\"reset_end\":2021.0,\"reset_start\":2016.0,\"start\":2016.0,\"tags\":[[[\"index\",\"index\",null]]]},\"id\":\"15276\",\"type\":\"Range1d\"},{\"attributes\":{\"axis\":{\"id\":\"15293\"},\"coordinates\":null,\"dimension\":1,\"grid_line_color\":null,\"group\":null,\"ticker\":null},\"id\":\"15296\",\"type\":\"Grid\"},{\"attributes\":{\"line_alpha\":0.1,\"line_color\":\"#fc4f30\",\"line_width\":2,\"x\":{\"field\":\"index\"},\"y\":{\"field\":\"value\"}},\"id\":\"15341\",\"type\":\"Line\"},{\"attributes\":{},\"id\":\"15314\",\"type\":\"BasicTickFormatter\"},{\"attributes\":{\"click_policy\":\"mute\",\"coordinates\":null,\"group\":null,\"items\":[{\"id\":\"15335\"},{\"id\":\"15357\"}],\"location\":[0,0],\"title\":\"Variable\"},\"id\":\"15334\",\"type\":\"Legend\"},{\"attributes\":{\"line_alpha\":0.2,\"line_color\":\"#fc4f30\",\"line_width\":2,\"x\":{\"field\":\"index\"},\"y\":{\"field\":\"value\"}},\"id\":\"15342\",\"type\":\"Line\"},{\"attributes\":{},\"id\":\"15315\",\"type\":\"AllLabels\"},{\"attributes\":{\"line_color\":\"#fc4f30\",\"line_width\":2,\"x\":{\"field\":\"index\"},\"y\":{\"field\":\"value\"}},\"id\":\"15340\",\"type\":\"Line\"},{\"attributes\":{\"source\":{\"id\":\"15316\"}},\"id\":\"15323\",\"type\":\"CDSView\"},{\"attributes\":{\"source\":{\"id\":\"15337\"}},\"id\":\"15344\",\"type\":\"CDSView\"},{\"attributes\":{},\"id\":\"15297\",\"type\":\"SaveTool\"},{\"attributes\":{},\"id\":\"15312\",\"type\":\"AllLabels\"},{\"attributes\":{\"data\":{\"Variable\":[\"Philly Apparel CPI\",\"Philly Apparel CPI\",\"Philly Apparel CPI\",\"Philly Apparel CPI\",\"Philly Apparel CPI\",\"Philly Apparel CPI\"],\"index\":[2016,2017,2018,2019,2020,2021],\"value\":{\"__ndarray__\":\"AIHO4b3AoD8AOOw4v6V9P4CTa+1RMYi/EIrbqEuDob9gtAsu+0OQv8C6oWBY8aA/\",\"dtype\":\"float64\",\"order\":\"little\",\"shape\":[6]}},\"selected\":{\"id\":\"15338\"},\"selection_policy\":{\"id\":\"15354\"}},\"id\":\"15337\",\"type\":\"ColumnDataSource\"},{\"attributes\":{\"line_color\":\"#fc4f30\",\"line_width\":2,\"x\":{\"field\":\"index\"},\"y\":{\"field\":\"value\"}},\"id\":\"15358\",\"type\":\"Line\"},{\"attributes\":{},\"id\":\"15311\",\"type\":\"BasicTickFormatter\"},{\"attributes\":{},\"id\":\"15285\",\"type\":\"LinearScale\"},{\"attributes\":{\"coordinates\":null,\"data_source\":{\"id\":\"15316\"},\"glyph\":{\"id\":\"15319\"},\"group\":null,\"hover_glyph\":null,\"muted_glyph\":{\"id\":\"15321\"},\"nonselection_glyph\":{\"id\":\"15320\"},\"selection_glyph\":{\"id\":\"15336\"},\"view\":{\"id\":\"15323\"}},\"id\":\"15322\",\"type\":\"GlyphRenderer\"},{\"attributes\":{},\"id\":\"15317\",\"type\":\"Selection\"}],\"root_ids\":[\"15274\"]},\"title\":\"Bokeh Application\",\"version\":\"2.4.1\"}};\n",
       "    var render_items = [{\"docid\":\"b33f0fc1-e311-4525-a6e7-8b758add3174\",\"root_ids\":[\"15274\"],\"roots\":{\"15274\":\"71de16ac-d69f-474d-8c7c-bdbbac42814e\"}}];\n",
       "    root.Bokeh.embed.embed_items_notebook(docs_json, render_items);\n",
       "  }\n",
       "  if (root.Bokeh !== undefined && root.Bokeh.Panel !== undefined) {\n",
       "    embed_document(root);\n",
       "  } else {\n",
       "    var attempts = 0;\n",
       "    var timer = setInterval(function(root) {\n",
       "      if (root.Bokeh !== undefined && root.Bokeh.Panel !== undefined) {\n",
       "        clearInterval(timer);\n",
       "        embed_document(root);\n",
       "      } else if (document.readyState == \"complete\") {\n",
       "        attempts++;\n",
       "        if (attempts > 200) {\n",
       "          clearInterval(timer);\n",
       "          console.log(\"Bokeh: ERROR: Unable to run BokehJS code because BokehJS library is missing\");\n",
       "        }\n",
       "      }\n",
       "    }, 25, root)\n",
       "  }\n",
       "})(window);</script>"
      ],
      "text/plain": [
       ":NdOverlay   [Variable]\n",
       "   :Curve   [index]   (value)"
      ]
     },
     "execution_count": 734,
     "metadata": {
      "application/vnd.holoviews_exec.v0+json": {
       "id": "15274"
      }
     },
     "output_type": "execute_result"
    }
   ],
   "source": [
    "apparel_combined = concat_stocks_cpi(Apparel_stock_annual,apparel_pct_change).dropna()\n",
    "apparel_combined.columns = ['Apparel stocks', \"Philly Apparel CPI\"]\n",
    "apparel_plot = apparel_combined.hvplot.line(xlabel='Year', ylabel=\"Annual Percent Change\")\n",
    "apparel_plot"
   ]
  },
  {
   "cell_type": "code",
   "execution_count": 735,
   "metadata": {},
   "outputs": [],
   "source": [
    "food_combined = concat_stocks_cpi(Food_stock_annual,Food_pct_change).dropna()\n",
    "food_combined.columns = ['Commerical Food stocks', \"Philly Commerical Food CPI\"]\n",
    "food_plot = food_combined.hvplot.line(xlabel='Year', ylabel=\"Annual Percent Change\")\n"
   ]
  },
  {
   "cell_type": "code",
   "execution_count": 736,
   "metadata": {},
   "outputs": [
    {
     "data": {},
     "metadata": {},
     "output_type": "display_data"
    },
    {
     "data": {
      "application/vnd.holoviews_exec.v0+json": "",
      "text/html": [
       "<div id='15529'>\n",
       "\n",
       "\n",
       "\n",
       "\n",
       "\n",
       "  <div class=\"bk-root\" id=\"aa5be805-d0a2-4a3f-b38e-d55e173c879e\" data-root-id=\"15529\"></div>\n",
       "</div>\n",
       "<script type=\"application/javascript\">(function(root) {\n",
       "  function embed_document(root) {\n",
       "    var docs_json = {\"eaa9bf64-2c46-461e-b997-de3075183304\":{\"defs\":[{\"extends\":null,\"module\":null,\"name\":\"ReactiveHTML1\",\"overrides\":[],\"properties\":[]},{\"extends\":null,\"module\":null,\"name\":\"FlexBox1\",\"overrides\":[],\"properties\":[{\"default\":\"flex-start\",\"kind\":null,\"name\":\"align_content\"},{\"default\":\"flex-start\",\"kind\":null,\"name\":\"align_items\"},{\"default\":\"row\",\"kind\":null,\"name\":\"flex_direction\"},{\"default\":\"wrap\",\"kind\":null,\"name\":\"flex_wrap\"},{\"default\":\"flex-start\",\"kind\":null,\"name\":\"justify_content\"}]},{\"extends\":null,\"module\":null,\"name\":\"TemplateActions1\",\"overrides\":[],\"properties\":[{\"default\":0,\"kind\":null,\"name\":\"open_modal\"},{\"default\":0,\"kind\":null,\"name\":\"close_modal\"}]},{\"extends\":null,\"module\":null,\"name\":\"MaterialTemplateActions1\",\"overrides\":[],\"properties\":[{\"default\":0,\"kind\":null,\"name\":\"open_modal\"},{\"default\":0,\"kind\":null,\"name\":\"close_modal\"}]}],\"roots\":{\"references\":[{\"attributes\":{\"axis_label\":\"Annual Percent Change\",\"coordinates\":null,\"formatter\":{\"id\":\"15734\"},\"group\":null,\"major_label_policy\":{\"id\":\"15735\"},\"ticker\":{\"id\":\"15714\"}},\"id\":\"15713\",\"type\":\"LinearAxis\"},{\"attributes\":{\"axis\":{\"id\":\"15709\"},\"coordinates\":null,\"grid_line_color\":null,\"group\":null,\"ticker\":null},\"id\":\"15712\",\"type\":\"Grid\"},{\"attributes\":{\"toolbar\":{\"id\":\"16068\"},\"toolbar_location\":\"above\"},\"id\":\"16069\",\"type\":\"ToolbarBox\"},{\"attributes\":{\"coordinates\":null,\"data_source\":{\"id\":\"15757\"},\"glyph\":{\"id\":\"15760\"},\"group\":null,\"hover_glyph\":null,\"muted_glyph\":{\"id\":\"15762\"},\"nonselection_glyph\":{\"id\":\"15761\"},\"selection_glyph\":{\"id\":\"15778\"},\"view\":{\"id\":\"15764\"}},\"id\":\"15763\",\"type\":\"GlyphRenderer\"},{\"attributes\":{\"axis_label\":\"Year\",\"coordinates\":null,\"formatter\":{\"id\":\"15731\"},\"group\":null,\"major_label_policy\":{\"id\":\"15732\"},\"ticker\":{\"id\":\"15710\"}},\"id\":\"15709\",\"type\":\"LinearAxis\"},{\"attributes\":{},\"id\":\"15714\",\"type\":\"BasicTicker\"},{\"attributes\":{},\"id\":\"15710\",\"type\":\"BasicTicker\"},{\"attributes\":{\"callback\":null,\"renderers\":[{\"id\":\"15907\"},{\"id\":\"15928\"}],\"tags\":[\"hv_created\"],\"tooltips\":[[\"Variable\",\"@{Variable}\"],[\"index\",\"@{index}\"],[\"value\",\"@{value}\"]]},\"id\":\"15863\",\"type\":\"HoverTool\"},{\"attributes\":{\"coordinates\":null,\"group\":null,\"text_color\":\"black\",\"text_font_size\":\"12pt\"},\"id\":\"15866\",\"type\":\"Title\"},{\"attributes\":{\"axis\":{\"id\":\"15713\"},\"coordinates\":null,\"dimension\":1,\"grid_line_color\":null,\"group\":null,\"ticker\":null},\"id\":\"15716\",\"type\":\"Grid\"},{\"attributes\":{\"below\":[{\"id\":\"15709\"}],\"center\":[{\"id\":\"15712\"},{\"id\":\"15716\"}],\"height\":300,\"left\":[{\"id\":\"15713\"}],\"margin\":null,\"min_border_bottom\":10,\"min_border_left\":10,\"min_border_right\":10,\"min_border_top\":10,\"renderers\":[{\"id\":\"15742\"},{\"id\":\"15763\"}],\"right\":[{\"id\":\"15754\"}],\"sizing_mode\":\"fixed\",\"title\":{\"id\":\"15701\"},\"toolbar\":{\"id\":\"15723\"},\"toolbar_location\":null,\"width\":700,\"x_range\":{\"id\":\"15531\"},\"x_scale\":{\"id\":\"15705\"},\"y_range\":{\"id\":\"15532\"},\"y_scale\":{\"id\":\"15707\"}},\"id\":\"15700\",\"subtype\":\"Figure\",\"type\":\"Plot\"},{\"attributes\":{\"callback\":null,\"renderers\":[{\"id\":\"15577\"},{\"id\":\"15598\"}],\"tags\":[\"hv_created\"],\"tooltips\":[[\"Variable\",\"@{Variable}\"],[\"index\",\"@{index}\"],[\"value\",\"@{value}\"]]},\"id\":\"15533\",\"type\":\"HoverTool\"},{\"attributes\":{},\"id\":\"15916\",\"type\":\"UnionRenderers\"},{\"attributes\":{},\"id\":\"15897\",\"type\":\"AllLabels\"},{\"attributes\":{\"line_color\":\"#fc4f30\",\"line_width\":2,\"x\":{\"field\":\"index\"},\"y\":{\"field\":\"value\"}},\"id\":\"15595\",\"type\":\"Line\"},{\"attributes\":{\"line_alpha\":0.1,\"line_color\":\"#30a2da\",\"line_width\":2,\"x\":{\"field\":\"index\"},\"y\":{\"field\":\"value\"}},\"id\":\"15905\",\"type\":\"Line\"},{\"attributes\":{},\"id\":\"15923\",\"type\":\"Selection\"},{\"attributes\":{\"axis_label\":\"Annual Percent Change\",\"coordinates\":null,\"formatter\":{\"id\":\"15899\"},\"group\":null,\"major_label_policy\":{\"id\":\"15900\"},\"ticker\":{\"id\":\"15879\"}},\"id\":\"15878\",\"type\":\"LinearAxis\"},{\"attributes\":{\"coordinates\":null,\"group\":null,\"text_color\":\"black\",\"text_font_size\":\"12pt\"},\"id\":\"15536\",\"type\":\"Title\"},{\"attributes\":{\"line_color\":\"#30a2da\",\"line_width\":2,\"x\":{\"field\":\"index\"},\"y\":{\"field\":\"value\"}},\"id\":\"15921\",\"type\":\"Line\"},{\"attributes\":{\"label\":{\"value\":\"Philly housing CPI\"},\"renderers\":[{\"id\":\"15763\"}]},\"id\":\"15777\",\"type\":\"LegendItem\"},{\"attributes\":{\"tools\":[{\"id\":\"15698\"},{\"id\":\"15717\"},{\"id\":\"15718\"},{\"id\":\"15719\"},{\"id\":\"15720\"},{\"id\":\"15721\"}]},\"id\":\"15723\",\"type\":\"Toolbar\"},{\"attributes\":{\"click_policy\":\"mute\",\"coordinates\":null,\"group\":null,\"items\":[{\"id\":\"15755\"},{\"id\":\"15777\"}],\"location\":[0,0],\"title\":\"Variable\"},\"id\":\"15754\",\"type\":\"Legend\"},{\"attributes\":{\"label\":{\"value\":\"Apparel stocks\"},\"renderers\":[{\"id\":\"15907\"}]},\"id\":\"15920\",\"type\":\"LegendItem\"},{\"attributes\":{},\"id\":\"15774\",\"type\":\"UnionRenderers\"},{\"attributes\":{},\"id\":\"15870\",\"type\":\"LinearScale\"},{\"attributes\":{\"bottom_units\":\"screen\",\"coordinates\":null,\"fill_alpha\":0.5,\"fill_color\":\"lightgrey\",\"group\":null,\"left_units\":\"screen\",\"level\":\"overlay\",\"line_alpha\":1.0,\"line_color\":\"black\",\"line_dash\":[4,4],\"line_width\":2,\"right_units\":\"screen\",\"syncable\":false,\"top_units\":\"screen\"},\"id\":\"15722\",\"type\":\"BoxAnnotation\"},{\"attributes\":{},\"id\":\"15717\",\"type\":\"SaveTool\"},{\"attributes\":{},\"id\":\"15718\",\"type\":\"PanTool\"},{\"attributes\":{\"axis_label\":\"Year\",\"coordinates\":null,\"formatter\":{\"id\":\"15896\"},\"group\":null,\"major_label_policy\":{\"id\":\"15897\"},\"ticker\":{\"id\":\"15875\"}},\"id\":\"15874\",\"type\":\"LinearAxis\"},{\"attributes\":{},\"id\":\"15721\",\"type\":\"ResetTool\"},{\"attributes\":{\"coordinates\":null,\"data_source\":{\"id\":\"15901\"},\"glyph\":{\"id\":\"15904\"},\"group\":null,\"hover_glyph\":null,\"muted_glyph\":{\"id\":\"15906\"},\"nonselection_glyph\":{\"id\":\"15905\"},\"selection_glyph\":{\"id\":\"15921\"},\"view\":{\"id\":\"15908\"}},\"id\":\"15907\",\"type\":\"GlyphRenderer\"},{\"attributes\":{},\"id\":\"15719\",\"type\":\"WheelZoomTool\"},{\"attributes\":{\"click_policy\":\"mute\",\"coordinates\":null,\"group\":null,\"items\":[{\"id\":\"15920\"},{\"id\":\"15942\"}],\"location\":[0,0],\"title\":\"Variable\"},\"id\":\"15919\",\"type\":\"Legend\"},{\"attributes\":{},\"id\":\"15549\",\"type\":\"BasicTicker\"},{\"attributes\":{\"label\":{\"value\":\"Philly Apparel CPI\"},\"renderers\":[{\"id\":\"15928\"}]},\"id\":\"15942\",\"type\":\"LegendItem\"},{\"attributes\":{\"overlay\":{\"id\":\"15722\"}},\"id\":\"15720\",\"type\":\"BoxZoomTool\"},{\"attributes\":{\"data\":{\"Variable\":[\"Philly Commerical Food CPI\",\"Philly Commerical Food CPI\",\"Philly Commerical Food CPI\",\"Philly Commerical Food CPI\",\"Philly Commerical Food CPI\",\"Philly Commerical Food CPI\"],\"index\":[2016,2017,2018,2019,2020,2021],\"value\":{\"__ndarray__\":\"wKFHp8N3kD9AAYIkr2WTP0D7POY8fJA/gIWRX/lDmz8AW54QVIqmPwDpnWtvRqM/\",\"dtype\":\"float64\",\"order\":\"little\",\"shape\":[6]}},\"selected\":{\"id\":\"15593\"},\"selection_policy\":{\"id\":\"15609\"}},\"id\":\"15592\",\"type\":\"ColumnDataSource\"},{\"attributes\":{},\"id\":\"15899\",\"type\":\"BasicTickFormatter\"},{\"attributes\":{\"source\":{\"id\":\"15901\"}},\"id\":\"15908\",\"type\":\"CDSView\"},{\"attributes\":{},\"id\":\"15734\",\"type\":\"BasicTickFormatter\"},{\"attributes\":{\"axis\":{\"id\":\"15874\"},\"coordinates\":null,\"grid_line_color\":null,\"group\":null,\"ticker\":null},\"id\":\"15877\",\"type\":\"Grid\"},{\"attributes\":{},\"id\":\"15545\",\"type\":\"BasicTicker\"},{\"attributes\":{\"line_color\":\"#30a2da\",\"line_width\":2,\"x\":{\"field\":\"index\"},\"y\":{\"field\":\"value\"}},\"id\":\"15756\",\"type\":\"Line\"},{\"attributes\":{},\"id\":\"15872\",\"type\":\"LinearScale\"},{\"attributes\":{},\"id\":\"15540\",\"type\":\"LinearScale\"},{\"attributes\":{},\"id\":\"15879\",\"type\":\"BasicTicker\"},{\"attributes\":{},\"id\":\"15567\",\"type\":\"AllLabels\"},{\"attributes\":{},\"id\":\"15875\",\"type\":\"BasicTicker\"},{\"attributes\":{\"label\":{\"value\":\"Real Estate stocks\"},\"renderers\":[{\"id\":\"15742\"}]},\"id\":\"15755\",\"type\":\"LegendItem\"},{\"attributes\":{\"axis\":{\"id\":\"15544\"},\"coordinates\":null,\"grid_line_color\":null,\"group\":null,\"ticker\":null},\"id\":\"15547\",\"type\":\"Grid\"},{\"attributes\":{\"axis\":{\"id\":\"15878\"},\"coordinates\":null,\"dimension\":1,\"grid_line_color\":null,\"group\":null,\"ticker\":null},\"id\":\"15881\",\"type\":\"Grid\"},{\"attributes\":{\"line_alpha\":0.2,\"line_color\":\"#30a2da\",\"line_width\":2,\"x\":{\"field\":\"index\"},\"y\":{\"field\":\"value\"}},\"id\":\"15906\",\"type\":\"Line\"},{\"attributes\":{},\"id\":\"15737\",\"type\":\"Selection\"},{\"attributes\":{\"line_alpha\":0.2,\"line_color\":\"#fc4f30\",\"line_width\":2,\"x\":{\"field\":\"index\"},\"y\":{\"field\":\"value\"}},\"id\":\"15762\",\"type\":\"Line\"},{\"attributes\":{\"line_alpha\":0.2,\"line_color\":\"#fc4f30\",\"line_width\":2,\"x\":{\"field\":\"index\"},\"y\":{\"field\":\"value\"}},\"id\":\"15927\",\"type\":\"Line\"},{\"attributes\":{},\"id\":\"15542\",\"type\":\"LinearScale\"},{\"attributes\":{\"source\":{\"id\":\"15757\"}},\"id\":\"15764\",\"type\":\"CDSView\"},{\"attributes\":{},\"id\":\"15900\",\"type\":\"AllLabels\"},{\"attributes\":{\"axis_label\":\"Annual Percent Change\",\"coordinates\":null,\"formatter\":{\"id\":\"15569\"},\"group\":null,\"major_label_policy\":{\"id\":\"15570\"},\"ticker\":{\"id\":\"15549\"}},\"id\":\"15548\",\"type\":\"LinearAxis\"},{\"attributes\":{\"margin\":[5,5,5,5],\"name\":\"HSpacer23756\",\"sizing_mode\":\"stretch_width\"},\"id\":\"15530\",\"type\":\"Spacer\"},{\"attributes\":{\"axis_label\":\"Year\",\"coordinates\":null,\"formatter\":{\"id\":\"15566\"},\"group\":null,\"major_label_policy\":{\"id\":\"15567\"},\"ticker\":{\"id\":\"15545\"}},\"id\":\"15544\",\"type\":\"LinearAxis\"},{\"attributes\":{\"children\":[[{\"id\":\"15535\"},0,0],[{\"id\":\"15700\"},0,1],[{\"id\":\"15865\"},0,2]]},\"id\":\"16067\",\"type\":\"GridBox\"},{\"attributes\":{\"below\":[{\"id\":\"15874\"}],\"center\":[{\"id\":\"15877\"},{\"id\":\"15881\"}],\"height\":300,\"left\":[{\"id\":\"15878\"}],\"margin\":null,\"min_border_bottom\":10,\"min_border_left\":10,\"min_border_right\":10,\"min_border_top\":10,\"renderers\":[{\"id\":\"15907\"},{\"id\":\"15928\"}],\"right\":[{\"id\":\"15919\"}],\"sizing_mode\":\"fixed\",\"title\":{\"id\":\"15866\"},\"toolbar\":{\"id\":\"15888\"},\"toolbar_location\":null,\"width\":700,\"x_range\":{\"id\":\"15531\"},\"x_scale\":{\"id\":\"15870\"},\"y_range\":{\"id\":\"15532\"},\"y_scale\":{\"id\":\"15872\"}},\"id\":\"15865\",\"subtype\":\"Figure\",\"type\":\"Plot\"},{\"attributes\":{\"children\":[{\"id\":\"15530\"},{\"id\":\"16070\"},{\"id\":\"16395\"}],\"margin\":[0,0,0,0],\"name\":\"Row23752\",\"tags\":[\"embedded\"]},\"id\":\"15529\",\"type\":\"Row\"},{\"attributes\":{\"line_color\":\"#30a2da\",\"line_width\":2,\"x\":{\"field\":\"index\"},\"y\":{\"field\":\"value\"}},\"id\":\"15904\",\"type\":\"Line\"},{\"attributes\":{\"line_color\":\"#fc4f30\",\"line_width\":2,\"x\":{\"field\":\"index\"},\"y\":{\"field\":\"value\"}},\"id\":\"15925\",\"type\":\"Line\"},{\"attributes\":{},\"id\":\"15586\",\"type\":\"UnionRenderers\"},{\"attributes\":{\"tools\":[{\"id\":\"15863\"},{\"id\":\"15882\"},{\"id\":\"15883\"},{\"id\":\"15884\"},{\"id\":\"15885\"},{\"id\":\"15886\"}]},\"id\":\"15888\",\"type\":\"Toolbar\"},{\"attributes\":{\"axis\":{\"id\":\"15548\"},\"coordinates\":null,\"dimension\":1,\"grid_line_color\":null,\"group\":null,\"ticker\":null},\"id\":\"15551\",\"type\":\"Grid\"},{\"attributes\":{},\"id\":\"15569\",\"type\":\"BasicTickFormatter\"},{\"attributes\":{\"data\":{\"Variable\":[\"Apparel stocks\",\"Apparel stocks\",\"Apparel stocks\",\"Apparel stocks\",\"Apparel stocks\",\"Apparel stocks\"],\"index\":[2016,2017,2018,2019,2020,2021],\"value\":{\"__ndarray__\":\"QMIqQcWK0L+4NzSOVzvEv2jToq/HL9o/8CtndjPkyD/op/CiJLHSP/zuMbllYtY/\",\"dtype\":\"float64\",\"order\":\"little\",\"shape\":[6]}},\"selected\":{\"id\":\"15902\"},\"selection_policy\":{\"id\":\"15916\"}},\"id\":\"15901\",\"type\":\"ColumnDataSource\"},{\"attributes\":{},\"id\":\"15902\",\"type\":\"Selection\"},{\"attributes\":{},\"id\":\"15882\",\"type\":\"SaveTool\"},{\"attributes\":{},\"id\":\"15883\",\"type\":\"PanTool\"},{\"attributes\":{},\"id\":\"15570\",\"type\":\"AllLabels\"},{\"attributes\":{},\"id\":\"15886\",\"type\":\"ResetTool\"},{\"attributes\":{\"data\":{\"Variable\":[\"Philly Apparel CPI\",\"Philly Apparel CPI\",\"Philly Apparel CPI\",\"Philly Apparel CPI\",\"Philly Apparel CPI\",\"Philly Apparel CPI\"],\"index\":[2016,2017,2018,2019,2020,2021],\"value\":{\"__ndarray__\":\"AIHO4b3AoD8AOOw4v6V9P4CTa+1RMYi/EIrbqEuDob9gtAsu+0OQv8C6oWBY8aA/\",\"dtype\":\"float64\",\"order\":\"little\",\"shape\":[6]}},\"selected\":{\"id\":\"15923\"},\"selection_policy\":{\"id\":\"15939\"}},\"id\":\"15922\",\"type\":\"ColumnDataSource\"},{\"attributes\":{},\"id\":\"15884\",\"type\":\"WheelZoomTool\"},{\"attributes\":{\"overlay\":{\"id\":\"15887\"}},\"id\":\"15885\",\"type\":\"BoxZoomTool\"},{\"attributes\":{\"line_color\":\"#30a2da\",\"line_width\":2,\"x\":{\"field\":\"index\"},\"y\":{\"field\":\"value\"}},\"id\":\"15574\",\"type\":\"Line\"},{\"attributes\":{\"end\":0.6157932392664185,\"reset_end\":0.6157932392664185,\"reset_start\":-0.33794834616688085,\"start\":-0.33794834616688085,\"tags\":[[[\"value\",\"value\",null]]]},\"id\":\"15532\",\"type\":\"Range1d\"},{\"attributes\":{\"line_color\":\"#fc4f30\",\"line_width\":2,\"x\":{\"field\":\"index\"},\"y\":{\"field\":\"value\"}},\"id\":\"15778\",\"type\":\"Line\"},{\"attributes\":{},\"id\":\"15552\",\"type\":\"SaveTool\"},{\"attributes\":{},\"id\":\"15553\",\"type\":\"PanTool\"},{\"attributes\":{},\"id\":\"15554\",\"type\":\"WheelZoomTool\"},{\"attributes\":{\"coordinates\":null,\"data_source\":{\"id\":\"15736\"},\"glyph\":{\"id\":\"15739\"},\"group\":null,\"hover_glyph\":null,\"muted_glyph\":{\"id\":\"15741\"},\"nonselection_glyph\":{\"id\":\"15740\"},\"selection_glyph\":{\"id\":\"15756\"},\"view\":{\"id\":\"15743\"}},\"id\":\"15742\",\"type\":\"GlyphRenderer\"},{\"attributes\":{\"overlay\":{\"id\":\"15557\"}},\"id\":\"15555\",\"type\":\"BoxZoomTool\"},{\"attributes\":{},\"id\":\"15556\",\"type\":\"ResetTool\"},{\"attributes\":{\"bottom_units\":\"screen\",\"coordinates\":null,\"fill_alpha\":0.5,\"fill_color\":\"lightgrey\",\"group\":null,\"left_units\":\"screen\",\"level\":\"overlay\",\"line_alpha\":1.0,\"line_color\":\"black\",\"line_dash\":[4,4],\"line_width\":2,\"right_units\":\"screen\",\"syncable\":false,\"top_units\":\"screen\"},\"id\":\"15887\",\"type\":\"BoxAnnotation\"},{\"attributes\":{\"data\":{\"Variable\":[\"Commerical Food stocks\",\"Commerical Food stocks\",\"Commerical Food stocks\",\"Commerical Food stocks\",\"Commerical Food stocks\",\"Commerical Food stocks\"],\"index\":[2016,2017,2018,2019,2020,2021],\"value\":{\"__ndarray__\":\"kGmphkSDsD/YbFWbnO7HP0BbBoyvpMA/QNg9xMaQxz9Yvmpieq+4vySir5pBjdE/\",\"dtype\":\"float64\",\"order\":\"little\",\"shape\":[6]}},\"selected\":{\"id\":\"15572\"},\"selection_policy\":{\"id\":\"15586\"}},\"id\":\"15571\",\"type\":\"ColumnDataSource\"},{\"attributes\":{},\"id\":\"15939\",\"type\":\"UnionRenderers\"},{\"attributes\":{\"source\":{\"id\":\"15592\"}},\"id\":\"15599\",\"type\":\"CDSView\"},{\"attributes\":{\"tools\":[{\"id\":\"15533\"},{\"id\":\"15552\"},{\"id\":\"15553\"},{\"id\":\"15554\"},{\"id\":\"15555\"},{\"id\":\"15556\"}]},\"id\":\"15558\",\"type\":\"Toolbar\"},{\"attributes\":{},\"id\":\"15566\",\"type\":\"BasicTickFormatter\"},{\"attributes\":{\"click_policy\":\"mute\",\"coordinates\":null,\"group\":null,\"items\":[{\"id\":\"15590\"},{\"id\":\"15612\"}],\"location\":[0,0],\"title\":\"Variable\"},\"id\":\"15589\",\"type\":\"Legend\"},{\"attributes\":{\"bottom_units\":\"screen\",\"coordinates\":null,\"fill_alpha\":0.5,\"fill_color\":\"lightgrey\",\"group\":null,\"left_units\":\"screen\",\"level\":\"overlay\",\"line_alpha\":1.0,\"line_color\":\"black\",\"line_dash\":[4,4],\"line_width\":2,\"right_units\":\"screen\",\"syncable\":false,\"top_units\":\"screen\"},\"id\":\"15557\",\"type\":\"BoxAnnotation\"},{\"attributes\":{\"label\":{\"value\":\"Philly Commerical Food CPI\"},\"renderers\":[{\"id\":\"15598\"}]},\"id\":\"15612\",\"type\":\"LegendItem\"},{\"attributes\":{},\"id\":\"15572\",\"type\":\"Selection\"},{\"attributes\":{\"line_color\":\"#fc4f30\",\"line_width\":2,\"x\":{\"field\":\"index\"},\"y\":{\"field\":\"value\"}},\"id\":\"15760\",\"type\":\"Line\"},{\"attributes\":{\"below\":[{\"id\":\"15544\"}],\"center\":[{\"id\":\"15547\"},{\"id\":\"15551\"}],\"height\":300,\"left\":[{\"id\":\"15548\"}],\"margin\":null,\"min_border_bottom\":10,\"min_border_left\":10,\"min_border_right\":10,\"min_border_top\":10,\"renderers\":[{\"id\":\"15577\"},{\"id\":\"15598\"}],\"right\":[{\"id\":\"15589\"}],\"sizing_mode\":\"fixed\",\"title\":{\"id\":\"15536\"},\"toolbar\":{\"id\":\"15558\"},\"toolbar_location\":null,\"width\":700,\"x_range\":{\"id\":\"15531\"},\"x_scale\":{\"id\":\"15540\"},\"y_range\":{\"id\":\"15532\"},\"y_scale\":{\"id\":\"15542\"}},\"id\":\"15535\",\"subtype\":\"Figure\",\"type\":\"Plot\"},{\"attributes\":{\"coordinates\":null,\"data_source\":{\"id\":\"15922\"},\"glyph\":{\"id\":\"15925\"},\"group\":null,\"hover_glyph\":null,\"muted_glyph\":{\"id\":\"15927\"},\"nonselection_glyph\":{\"id\":\"15926\"},\"selection_glyph\":{\"id\":\"15943\"},\"view\":{\"id\":\"15929\"}},\"id\":\"15928\",\"type\":\"GlyphRenderer\"},{\"attributes\":{\"label\":{\"value\":\"Commerical Food stocks\"},\"renderers\":[{\"id\":\"15577\"}]},\"id\":\"15590\",\"type\":\"LegendItem\"},{\"attributes\":{},\"id\":\"15609\",\"type\":\"UnionRenderers\"},{\"attributes\":{\"coordinates\":null,\"data_source\":{\"id\":\"15592\"},\"glyph\":{\"id\":\"15595\"},\"group\":null,\"hover_glyph\":null,\"muted_glyph\":{\"id\":\"15597\"},\"nonselection_glyph\":{\"id\":\"15596\"},\"selection_glyph\":{\"id\":\"15613\"},\"view\":{\"id\":\"15599\"}},\"id\":\"15598\",\"type\":\"GlyphRenderer\"},{\"attributes\":{\"line_alpha\":0.2,\"line_color\":\"#30a2da\",\"line_width\":2,\"x\":{\"field\":\"index\"},\"y\":{\"field\":\"value\"}},\"id\":\"15576\",\"type\":\"Line\"},{\"attributes\":{\"data\":{\"Variable\":[\"Philly housing CPI\",\"Philly housing CPI\",\"Philly housing CPI\",\"Philly housing CPI\",\"Philly housing CPI\",\"Philly housing CPI\"],\"index\":[2016,2017,2018,2019,2020,2021],\"value\":{\"__ndarray__\":\"gCC2iamCiz/AkxzGcZuSPwBfE665+pA/AGHj/siynT/AZWW0OYKbP4BwEc3d3Iw/\",\"dtype\":\"float64\",\"order\":\"little\",\"shape\":[6]}},\"selected\":{\"id\":\"15758\"},\"selection_policy\":{\"id\":\"15774\"}},\"id\":\"15757\",\"type\":\"ColumnDataSource\"},{\"attributes\":{\"coordinates\":null,\"data_source\":{\"id\":\"15571\"},\"glyph\":{\"id\":\"15574\"},\"group\":null,\"hover_glyph\":null,\"muted_glyph\":{\"id\":\"15576\"},\"nonselection_glyph\":{\"id\":\"15575\"},\"selection_glyph\":{\"id\":\"15591\"},\"view\":{\"id\":\"15578\"}},\"id\":\"15577\",\"type\":\"GlyphRenderer\"},{\"attributes\":{\"source\":{\"id\":\"15922\"}},\"id\":\"15929\",\"type\":\"CDSView\"},{\"attributes\":{\"line_color\":\"#30a2da\",\"line_width\":2,\"x\":{\"field\":\"index\"},\"y\":{\"field\":\"value\"}},\"id\":\"15591\",\"type\":\"Line\"},{\"attributes\":{\"children\":[{\"id\":\"16069\"},{\"id\":\"16067\"}]},\"id\":\"16070\",\"type\":\"Column\"},{\"attributes\":{},\"id\":\"15593\",\"type\":\"Selection\"},{\"attributes\":{\"source\":{\"id\":\"15571\"}},\"id\":\"15578\",\"type\":\"CDSView\"},{\"attributes\":{},\"id\":\"15732\",\"type\":\"AllLabels\"},{\"attributes\":{\"end\":2021.0,\"reset_end\":2021.0,\"reset_start\":2016.0,\"start\":2016.0,\"tags\":[[[\"index\",\"index\",null]]]},\"id\":\"15531\",\"type\":\"Range1d\"},{\"attributes\":{\"line_alpha\":0.1,\"line_color\":\"#fc4f30\",\"line_width\":2,\"x\":{\"field\":\"index\"},\"y\":{\"field\":\"value\"}},\"id\":\"15596\",\"type\":\"Line\"},{\"attributes\":{\"margin\":[5,5,5,5],\"name\":\"HSpacer23757\",\"sizing_mode\":\"stretch_width\"},\"id\":\"16395\",\"type\":\"Spacer\"},{\"attributes\":{\"line_alpha\":0.2,\"line_color\":\"#30a2da\",\"line_width\":2,\"x\":{\"field\":\"index\"},\"y\":{\"field\":\"value\"}},\"id\":\"15741\",\"type\":\"Line\"},{\"attributes\":{\"coordinates\":null,\"group\":null,\"text_color\":\"black\",\"text_font_size\":\"12pt\"},\"id\":\"15701\",\"type\":\"Title\"},{\"attributes\":{},\"id\":\"15751\",\"type\":\"UnionRenderers\"},{\"attributes\":{\"line_color\":\"#fc4f30\",\"line_width\":2,\"x\":{\"field\":\"index\"},\"y\":{\"field\":\"value\"}},\"id\":\"15613\",\"type\":\"Line\"},{\"attributes\":{\"data\":{\"Variable\":[\"Real Estate stocks\",\"Real Estate stocks\",\"Real Estate stocks\",\"Real Estate stocks\",\"Real Estate stocks\",\"Real Estate stocks\"],\"index\":[2016,2017,2018,2019,2020,2021],\"value\":{\"__ndarray__\":\"wLYWO4rllr9AKu3eB8KdP4j968DOn80/0OdAu3fbxT+ozzido5rRPwKFvJl9KeE/\",\"dtype\":\"float64\",\"order\":\"little\",\"shape\":[6]}},\"selected\":{\"id\":\"15737\"},\"selection_policy\":{\"id\":\"15751\"}},\"id\":\"15736\",\"type\":\"ColumnDataSource\"},{\"attributes\":{\"callback\":null,\"renderers\":[{\"id\":\"15742\"},{\"id\":\"15763\"}],\"tags\":[\"hv_created\"],\"tooltips\":[[\"Variable\",\"@{Variable}\"],[\"index\",\"@{index}\"],[\"value\",\"@{value}\"]]},\"id\":\"15698\",\"type\":\"HoverTool\"},{\"attributes\":{\"line_color\":\"#30a2da\",\"line_width\":2,\"x\":{\"field\":\"index\"},\"y\":{\"field\":\"value\"}},\"id\":\"15739\",\"type\":\"Line\"},{\"attributes\":{},\"id\":\"15731\",\"type\":\"BasicTickFormatter\"},{\"attributes\":{},\"id\":\"15705\",\"type\":\"LinearScale\"},{\"attributes\":{\"source\":{\"id\":\"15736\"}},\"id\":\"15743\",\"type\":\"CDSView\"},{\"attributes\":{\"line_alpha\":0.1,\"line_color\":\"#30a2da\",\"line_width\":2,\"x\":{\"field\":\"index\"},\"y\":{\"field\":\"value\"}},\"id\":\"15575\",\"type\":\"Line\"},{\"attributes\":{\"line_alpha\":0.1,\"line_color\":\"#fc4f30\",\"line_width\":2,\"x\":{\"field\":\"index\"},\"y\":{\"field\":\"value\"}},\"id\":\"15926\",\"type\":\"Line\"},{\"attributes\":{\"line_color\":\"#fc4f30\",\"line_width\":2,\"x\":{\"field\":\"index\"},\"y\":{\"field\":\"value\"}},\"id\":\"15943\",\"type\":\"Line\"},{\"attributes\":{},\"id\":\"15896\",\"type\":\"BasicTickFormatter\"},{\"attributes\":{},\"id\":\"15707\",\"type\":\"LinearScale\"},{\"attributes\":{\"line_alpha\":0.2,\"line_color\":\"#fc4f30\",\"line_width\":2,\"x\":{\"field\":\"index\"},\"y\":{\"field\":\"value\"}},\"id\":\"15597\",\"type\":\"Line\"},{\"attributes\":{\"toolbars\":[{\"id\":\"15558\"},{\"id\":\"15723\"},{\"id\":\"15888\"}],\"tools\":[{\"id\":\"15533\"},{\"id\":\"15552\"},{\"id\":\"15553\"},{\"id\":\"15554\"},{\"id\":\"15555\"},{\"id\":\"15556\"},{\"id\":\"15698\"},{\"id\":\"15717\"},{\"id\":\"15718\"},{\"id\":\"15719\"},{\"id\":\"15720\"},{\"id\":\"15721\"},{\"id\":\"15863\"},{\"id\":\"15882\"},{\"id\":\"15883\"},{\"id\":\"15884\"},{\"id\":\"15885\"},{\"id\":\"15886\"}]},\"id\":\"16068\",\"type\":\"ProxyToolbar\"},{\"attributes\":{\"line_alpha\":0.1,\"line_color\":\"#30a2da\",\"line_width\":2,\"x\":{\"field\":\"index\"},\"y\":{\"field\":\"value\"}},\"id\":\"15740\",\"type\":\"Line\"},{\"attributes\":{\"line_alpha\":0.1,\"line_color\":\"#fc4f30\",\"line_width\":2,\"x\":{\"field\":\"index\"},\"y\":{\"field\":\"value\"}},\"id\":\"15761\",\"type\":\"Line\"},{\"attributes\":{},\"id\":\"15758\",\"type\":\"Selection\"},{\"attributes\":{},\"id\":\"15735\",\"type\":\"AllLabels\"}],\"root_ids\":[\"15529\"]},\"title\":\"Bokeh Application\",\"version\":\"2.4.1\"}};\n",
       "    var render_items = [{\"docid\":\"eaa9bf64-2c46-461e-b997-de3075183304\",\"root_ids\":[\"15529\"],\"roots\":{\"15529\":\"aa5be805-d0a2-4a3f-b38e-d55e173c879e\"}}];\n",
       "    root.Bokeh.embed.embed_items_notebook(docs_json, render_items);\n",
       "  }\n",
       "  if (root.Bokeh !== undefined && root.Bokeh.Panel !== undefined) {\n",
       "    embed_document(root);\n",
       "  } else {\n",
       "    var attempts = 0;\n",
       "    var timer = setInterval(function(root) {\n",
       "      if (root.Bokeh !== undefined && root.Bokeh.Panel !== undefined) {\n",
       "        clearInterval(timer);\n",
       "        embed_document(root);\n",
       "      } else if (document.readyState == \"complete\") {\n",
       "        attempts++;\n",
       "        if (attempts > 200) {\n",
       "          clearInterval(timer);\n",
       "          console.log(\"Bokeh: ERROR: Unable to run BokehJS code because BokehJS library is missing\");\n",
       "        }\n",
       "      }\n",
       "    }, 25, root)\n",
       "  }\n",
       "})(window);</script>"
      ],
      "text/plain": [
       ":Layout\n",
       "   .NdOverlay.I   :NdOverlay   [Variable]\n",
       "      :Curve   [index]   (value)\n",
       "   .NdOverlay.II  :NdOverlay   [Variable]\n",
       "      :Curve   [index]   (value)\n",
       "   .NdOverlay.III :NdOverlay   [Variable]\n",
       "      :Curve   [index]   (value)"
      ]
     },
     "execution_count": 736,
     "metadata": {
      "application/vnd.holoviews_exec.v0+json": {
       "id": "15529"
      }
     },
     "output_type": "execute_result"
    }
   ],
   "source": [
    "combined_charts = food_plot + Housing_plot + apparel_plot\n",
    "combined_charts\n",
    "# create a dropdown menu"
   ]
  },
  {
   "cell_type": "code",
   "execution_count": 743,
   "metadata": {},
   "outputs": [
    {
     "data": {},
     "metadata": {},
     "output_type": "display_data"
    },
    {
     "data": {
      "application/vnd.holoviews_exec.v0+json": "",
      "text/html": [
       "<div id='17065'>\n",
       "\n",
       "\n",
       "\n",
       "\n",
       "\n",
       "  <div class=\"bk-root\" id=\"b65554f0-d33e-4298-b048-e3cfe7437024\" data-root-id=\"17065\"></div>\n",
       "</div>\n",
       "<script type=\"application/javascript\">(function(root) {\n",
       "  function embed_document(root) {\n",
       "    var docs_json = {\"0c62dd80-7c61-49c6-b2ea-65e51910cfea\":{\"defs\":[{\"extends\":null,\"module\":null,\"name\":\"ReactiveHTML1\",\"overrides\":[],\"properties\":[]},{\"extends\":null,\"module\":null,\"name\":\"FlexBox1\",\"overrides\":[],\"properties\":[{\"default\":\"flex-start\",\"kind\":null,\"name\":\"align_content\"},{\"default\":\"flex-start\",\"kind\":null,\"name\":\"align_items\"},{\"default\":\"row\",\"kind\":null,\"name\":\"flex_direction\"},{\"default\":\"wrap\",\"kind\":null,\"name\":\"flex_wrap\"},{\"default\":\"flex-start\",\"kind\":null,\"name\":\"justify_content\"}]},{\"extends\":null,\"module\":null,\"name\":\"TemplateActions1\",\"overrides\":[],\"properties\":[{\"default\":0,\"kind\":null,\"name\":\"open_modal\"},{\"default\":0,\"kind\":null,\"name\":\"close_modal\"}]},{\"extends\":null,\"module\":null,\"name\":\"MaterialTemplateActions1\",\"overrides\":[],\"properties\":[{\"default\":0,\"kind\":null,\"name\":\"open_modal\"},{\"default\":0,\"kind\":null,\"name\":\"close_modal\"}]}],\"roots\":{\"references\":[{\"attributes\":{},\"id\":\"17113\",\"type\":\"BasicTickFormatter\"},{\"attributes\":{\"coordinates\":null,\"group\":null,\"text\":\"CPI Best year and cooresponding stock data\",\"text_color\":\"black\",\"text_font_size\":\"12pt\"},\"id\":\"17071\",\"type\":\"Title\"},{\"attributes\":{\"tools\":[{\"id\":\"17069\"},{\"id\":\"17086\"},{\"id\":\"17087\"},{\"id\":\"17088\"},{\"id\":\"17089\"},{\"id\":\"17090\"}]},\"id\":\"17092\",\"type\":\"Toolbar\"},{\"attributes\":{},\"id\":\"17122\",\"type\":\"UnionRenderers\"},{\"attributes\":{\"factors\":[\"Commerical Food stocks\",\"Philly Commerical Food CPI\"],\"palette\":[\"#30a2da\",\"#fc4f30\"]},\"id\":\"17099\",\"type\":\"CategoricalColorMapper\"},{\"attributes\":{\"bottom_units\":\"screen\",\"coordinates\":null,\"fill_alpha\":0.5,\"fill_color\":\"lightgrey\",\"group\":null,\"left_units\":\"screen\",\"level\":\"overlay\",\"line_alpha\":1.0,\"line_color\":\"black\",\"line_dash\":[4,4],\"line_width\":2,\"right_units\":\"screen\",\"syncable\":false,\"top_units\":\"screen\"},\"id\":\"17091\",\"type\":\"BoxAnnotation\"},{\"attributes\":{},\"id\":\"17086\",\"type\":\"SaveTool\"},{\"attributes\":{},\"id\":\"17110\",\"type\":\"CategoricalTickFormatter\"},{\"attributes\":{\"axis\":{\"id\":\"17079\"},\"coordinates\":null,\"grid_line_color\":null,\"group\":null,\"ticker\":null},\"id\":\"17081\",\"type\":\"Grid\"},{\"attributes\":{\"fill_alpha\":{\"value\":0.2},\"fill_color\":{\"field\":\"Variable\",\"transform\":{\"id\":\"17099\"}},\"hatch_alpha\":{\"value\":0.2},\"hatch_color\":{\"field\":\"Variable\",\"transform\":{\"id\":\"17099\"}},\"line_alpha\":{\"value\":0.2},\"top\":{\"field\":\"value\"},\"width\":{\"value\":0.8},\"x\":{\"field\":\"xoffsets\"}},\"id\":\"17105\",\"type\":\"VBar\"},{\"attributes\":{},\"id\":\"17087\",\"type\":\"PanTool\"},{\"attributes\":{\"callback\":null,\"renderers\":[{\"id\":\"17106\"}],\"tags\":[\"hv_created\"],\"tooltips\":[[\"index\",\"@{index}\"],[\"Variable\",\"@{Variable}\"],[\"value\",\"@{value}\"]]},\"id\":\"17069\",\"type\":\"HoverTool\"},{\"attributes\":{},\"id\":\"17090\",\"type\":\"ResetTool\"},{\"attributes\":{\"margin\":[5,5,5,5],\"name\":\"HSpacer25811\",\"sizing_mode\":\"stretch_width\"},\"id\":\"17066\",\"type\":\"Spacer\"},{\"attributes\":{},\"id\":\"17088\",\"type\":\"WheelZoomTool\"},{\"attributes\":{\"source\":{\"id\":\"17100\"}},\"id\":\"17107\",\"type\":\"CDSView\"},{\"attributes\":{\"overlay\":{\"id\":\"17091\"}},\"id\":\"17089\",\"type\":\"BoxZoomTool\"},{\"attributes\":{\"children\":[{\"id\":\"17066\"},{\"id\":\"17070\"},{\"id\":\"17135\"}],\"margin\":[0,0,0,0],\"name\":\"Row25807\",\"tags\":[\"embedded\"]},\"id\":\"17065\",\"type\":\"Row\"},{\"attributes\":{\"end\":0.058069281229263525,\"reset_end\":0.058069281229263525,\"reset_start\":-0.11047275222129943,\"start\":-0.11047275222129943,\"tags\":[[[\"value\",\"value\",null]]]},\"id\":\"17068\",\"type\":\"Range1d\"},{\"attributes\":{\"margin\":[5,5,5,5],\"name\":\"HSpacer25812\",\"sizing_mode\":\"stretch_width\"},\"id\":\"17135\",\"type\":\"Spacer\"},{\"attributes\":{\"bottom\":{\"value\":0},\"fill_alpha\":{\"value\":1.0},\"fill_color\":{\"field\":\"Variable\",\"transform\":{\"id\":\"17099\"}},\"hatch_alpha\":{\"value\":1.0},\"hatch_color\":{\"field\":\"Variable\",\"transform\":{\"id\":\"17099\"}},\"hatch_scale\":{\"value\":12.0},\"hatch_weight\":{\"value\":1.0},\"line_alpha\":{\"value\":1.0},\"line_cap\":{\"value\":\"butt\"},\"line_color\":{\"value\":\"black\"},\"line_dash\":{\"value\":[]},\"line_dash_offset\":{\"value\":0},\"line_join\":{\"value\":\"bevel\"},\"line_width\":{\"value\":1},\"top\":{\"field\":\"value\"},\"width\":{\"value\":0.8},\"x\":{\"field\":\"xoffsets\"}},\"id\":\"17108\",\"type\":\"VBar\"},{\"attributes\":{\"factors\":[[\"2020\",\"Commerical Food stocks\"],[\"2020\",\"Philly Commerical Food CPI\"]],\"tags\":[[[\"index\",\"index\",null],[\"Variable\",\"Variable\",null]]]},\"id\":\"17067\",\"type\":\"FactorRange\"},{\"attributes\":{\"fill_color\":{\"field\":\"Variable\",\"transform\":{\"id\":\"17099\"}},\"hatch_color\":{\"field\":\"Variable\",\"transform\":{\"id\":\"17099\"}},\"top\":{\"field\":\"value\"},\"width\":{\"value\":0.8},\"x\":{\"field\":\"xoffsets\"}},\"id\":\"17103\",\"type\":\"VBar\"},{\"attributes\":{},\"id\":\"17075\",\"type\":\"CategoricalScale\"},{\"attributes\":{\"coordinates\":null,\"data_source\":{\"id\":\"17100\"},\"glyph\":{\"id\":\"17103\"},\"group\":null,\"hover_glyph\":null,\"muted_glyph\":{\"id\":\"17105\"},\"nonselection_glyph\":{\"id\":\"17104\"},\"selection_glyph\":{\"id\":\"17108\"},\"view\":{\"id\":\"17107\"}},\"id\":\"17106\",\"type\":\"GlyphRenderer\"},{\"attributes\":{\"axis_label\":\"Year\",\"coordinates\":null,\"formatter\":{\"id\":\"17110\"},\"group\":null,\"major_label_orientation\":1.5707963267948966,\"major_label_policy\":{\"id\":\"17111\"},\"ticker\":{\"id\":\"17080\"}},\"id\":\"17079\",\"type\":\"CategoricalAxis\"},{\"attributes\":{},\"id\":\"17111\",\"type\":\"AllLabels\"},{\"attributes\":{},\"id\":\"17077\",\"type\":\"LinearScale\"},{\"attributes\":{},\"id\":\"17083\",\"type\":\"BasicTicker\"},{\"attributes\":{},\"id\":\"17080\",\"type\":\"CategoricalTicker\"},{\"attributes\":{\"fill_alpha\":{\"value\":0.1},\"fill_color\":{\"field\":\"Variable\",\"transform\":{\"id\":\"17099\"}},\"hatch_alpha\":{\"value\":0.1},\"hatch_color\":{\"field\":\"Variable\",\"transform\":{\"id\":\"17099\"}},\"line_alpha\":{\"value\":0.1},\"top\":{\"field\":\"value\"},\"width\":{\"value\":0.8},\"x\":{\"field\":\"xoffsets\"}},\"id\":\"17104\",\"type\":\"VBar\"},{\"attributes\":{},\"id\":\"17114\",\"type\":\"AllLabels\"},{\"attributes\":{\"axis_label\":\"Percentage change\",\"coordinates\":null,\"formatter\":{\"id\":\"17113\"},\"group\":null,\"major_label_policy\":{\"id\":\"17114\"},\"ticker\":{\"id\":\"17083\"}},\"id\":\"17082\",\"type\":\"LinearAxis\"},{\"attributes\":{\"below\":[{\"id\":\"17079\"}],\"center\":[{\"id\":\"17081\"},{\"id\":\"17085\"}],\"height\":300,\"left\":[{\"id\":\"17082\"}],\"margin\":[5,5,5,5],\"min_border_bottom\":10,\"min_border_left\":10,\"min_border_right\":10,\"min_border_top\":10,\"renderers\":[{\"id\":\"17106\"}],\"sizing_mode\":\"fixed\",\"title\":{\"id\":\"17071\"},\"toolbar\":{\"id\":\"17092\"},\"width\":700,\"x_range\":{\"id\":\"17067\"},\"x_scale\":{\"id\":\"17075\"},\"y_range\":{\"id\":\"17068\"},\"y_scale\":{\"id\":\"17077\"}},\"id\":\"17070\",\"subtype\":\"Figure\",\"type\":\"Plot\"},{\"attributes\":{\"axis\":{\"id\":\"17082\"},\"coordinates\":null,\"dimension\":1,\"grid_line_color\":null,\"group\":null,\"ticker\":null},\"id\":\"17085\",\"type\":\"Grid\"},{\"attributes\":{\"data\":{\"Variable\":[\"Commerical Food stocks\",\"Philly Commerical Food CPI\"],\"index\":[\"2020\",\"2020\"],\"value\":{\"__ndarray__\":\"WL5qYnqvuL8AW54QVIqmPw==\",\"dtype\":\"float64\",\"order\":\"little\",\"shape\":[2]},\"xoffsets\":[[\"2020\",\"Commerical Food stocks\"],[\"2020\",\"Philly Commerical Food CPI\"]]},\"selected\":{\"id\":\"17101\"},\"selection_policy\":{\"id\":\"17122\"}},\"id\":\"17100\",\"type\":\"ColumnDataSource\"},{\"attributes\":{},\"id\":\"17101\",\"type\":\"Selection\"}],\"root_ids\":[\"17065\"]},\"title\":\"Bokeh Application\",\"version\":\"2.4.1\"}};\n",
       "    var render_items = [{\"docid\":\"0c62dd80-7c61-49c6-b2ea-65e51910cfea\",\"root_ids\":[\"17065\"],\"roots\":{\"17065\":\"b65554f0-d33e-4298-b048-e3cfe7437024\"}}];\n",
       "    root.Bokeh.embed.embed_items_notebook(docs_json, render_items);\n",
       "  }\n",
       "  if (root.Bokeh !== undefined && root.Bokeh.Panel !== undefined) {\n",
       "    embed_document(root);\n",
       "  } else {\n",
       "    var attempts = 0;\n",
       "    var timer = setInterval(function(root) {\n",
       "      if (root.Bokeh !== undefined && root.Bokeh.Panel !== undefined) {\n",
       "        clearInterval(timer);\n",
       "        embed_document(root);\n",
       "      } else if (document.readyState == \"complete\") {\n",
       "        attempts++;\n",
       "        if (attempts > 200) {\n",
       "          clearInterval(timer);\n",
       "          console.log(\"Bokeh: ERROR: Unable to run BokehJS code because BokehJS library is missing\");\n",
       "        }\n",
       "      }\n",
       "    }, 25, root)\n",
       "  }\n",
       "})(window);</script>"
      ],
      "text/plain": [
       ":Bars   [index,Variable]   (value)"
      ]
     },
     "execution_count": 743,
     "metadata": {
      "application/vnd.holoviews_exec.v0+json": {
       "id": "17065"
      }
     },
     "output_type": "execute_result"
    }
   ],
   "source": [
    "def extract_max(df):\n",
    "    return df[df.iloc[:, 1] == df.iloc[:, 1].max()]\n",
    "\n",
    "def extract_min(df):\n",
    "     return df[df.iloc[:, 1] == df.iloc[:, 1].min()]\n",
    "\n",
    "def graph_max(df):\n",
    "    bar = extract_max(df)\n",
    "    graph = bar.hvplot.bar(ylabel=\"Percentage change\", xlabel=\"Year\", title=\"CPI Best year and cooresponding stock data\", rot=90)\n",
    "    return graph\n",
    "\n",
    "def graph_min(df):\n",
    "    bar = extract_min(df)\n",
    "    graph = bar.hvplot.bar(ylabel=\"Percentage change\", xlabel=\"Year\", title=\"CPI Best year and cooresponding stock data\", rot=90)\n",
    "    return graph\n",
    "\n",
    "\n"
   ]
  },
  {
   "cell_type": "code",
   "execution_count": 738,
   "metadata": {},
   "outputs": [],
   "source": [
    "# Question 3, relationship between trade count and high periods of inflation\n",
    "\n",
    "def reformat_data_trade_count(dataframe):\n",
    "    dataframe = dataframe.resample(\"Y\").mean()\n",
    "\n",
    "    dataframe = dataframe[\"trade_count\"]\n",
    "    dataframe.index =dataframe.index.year\n",
    "    return dataframe\n",
    "\n",
    "def combine_cpi_trade_count(df_stocks, df_cpi):\n",
    "    reformed = reformat_data_trade_count(df_stocks)\n",
    "    trade = concat_stocks_cpi(reformed, df_cpi)\n",
    "    return trade\n",
    "\n",
    "def graph_max_trade_count(df_stocks, df_cpi,column_name):\n",
    "    data = combine_cpi_trade_count(df_stocks,df_cpi).sort_values(by=f\"{column_name}\")\n",
    "    highest_inflation = data.iloc[-3:]\n",
    "    plot = px.scatter(highest_inflation,x=f\"{column_name}\", y=\"trade_count\")\n",
    "    return plot\n",
    "\n",
    "\n",
    "\n",
    "\n",
    "\n",
    "\n",
    "Philly_real_estate_scatter = graph_max_trade_count(Real_Estate_stocks,Housing_pct_change,\"PHL Housing Annual\")\n",
    "Philly_apparel_scatter = graph_max_trade_count(Apparel_stocks, apparel_pct_change, \"PHL Apparel Annual\")\n",
    "Philly_food_scatter = graph_max_trade_count(Food_stocks, Food_pct_change, \"PHL Commercial Food Annual\")\n"
   ]
  }
 ],
 "metadata": {
  "interpreter": {
   "hash": "63c96a8b9f86f756cc212e6519dffd252f61935a26893506708a2a331cfe2774"
  },
  "kernelspec": {
   "display_name": "Python [conda env:pyvizenv] *",
   "language": "python",
   "name": "conda-env-pyvizenv-py"
  },
  "language_info": {
   "codemirror_mode": {
    "name": "ipython",
    "version": 3
   },
   "file_extension": ".py",
   "mimetype": "text/x-python",
   "name": "python",
   "nbconvert_exporter": "python",
   "pygments_lexer": "ipython3",
   "version": "3.7.11"
  }
 },
 "nbformat": 4,
 "nbformat_minor": 4
}
