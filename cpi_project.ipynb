{
 "cells": [
  {
   "cell_type": "code",
   "execution_count": 1,
   "metadata": {},
   "outputs": [],
   "source": [
    "# Initial imports\n",
    "import pandas as pd\n",
    "import numpy as np\n",
    "from pathlib import Path\n",
    "\n",
    "%matplotlib inline"
   ]
  },
  {
   "cell_type": "code",
   "execution_count": 15,
   "metadata": {},
   "outputs": [
    {
     "data": {
      "text/html": [
       "<div>\n",
       "<style scoped>\n",
       "    .dataframe tbody tr th:only-of-type {\n",
       "        vertical-align: middle;\n",
       "    }\n",
       "\n",
       "    .dataframe tbody tr th {\n",
       "        vertical-align: top;\n",
       "    }\n",
       "\n",
       "    .dataframe thead th {\n",
       "        text-align: right;\n",
       "    }\n",
       "</style>\n",
       "<table border=\"1\" class=\"dataframe\">\n",
       "  <thead>\n",
       "    <tr style=\"text-align: right;\">\n",
       "      <th></th>\n",
       "      <th>Jan</th>\n",
       "      <th>Feb</th>\n",
       "      <th>Mar</th>\n",
       "      <th>Apr</th>\n",
       "      <th>May</th>\n",
       "      <th>Jun</th>\n",
       "      <th>Jul</th>\n",
       "      <th>Aug</th>\n",
       "      <th>Sep</th>\n",
       "      <th>Oct</th>\n",
       "      <th>Nov</th>\n",
       "      <th>Dec</th>\n",
       "      <th>Annual</th>\n",
       "      <th>HALF1</th>\n",
       "      <th>HALF2</th>\n",
       "    </tr>\n",
       "    <tr>\n",
       "      <th>Year</th>\n",
       "      <th></th>\n",
       "      <th></th>\n",
       "      <th></th>\n",
       "      <th></th>\n",
       "      <th></th>\n",
       "      <th></th>\n",
       "      <th></th>\n",
       "      <th></th>\n",
       "      <th></th>\n",
       "      <th></th>\n",
       "      <th></th>\n",
       "      <th></th>\n",
       "      <th></th>\n",
       "      <th></th>\n",
       "      <th></th>\n",
       "    </tr>\n",
       "  </thead>\n",
       "  <tbody>\n",
       "    <tr>\n",
       "      <th>2012</th>\n",
       "      <td>288.915</td>\n",
       "      <td>289.660</td>\n",
       "      <td>290.936</td>\n",
       "      <td>291.511</td>\n",
       "      <td>292.280</td>\n",
       "      <td>292.729</td>\n",
       "      <td>293.165</td>\n",
       "      <td>293.548</td>\n",
       "      <td>293.979</td>\n",
       "      <td>294.332</td>\n",
       "      <td>294.580</td>\n",
       "      <td>295.019</td>\n",
       "      <td>292.554</td>\n",
       "      <td>291.005</td>\n",
       "      <td>294.104</td>\n",
       "    </tr>\n",
       "    <tr>\n",
       "      <th>2013</th>\n",
       "      <td>295.013</td>\n",
       "      <td>295.468</td>\n",
       "      <td>295.811</td>\n",
       "      <td>296.433</td>\n",
       "      <td>297.487</td>\n",
       "      <td>297.973</td>\n",
       "      <td>298.280</td>\n",
       "      <td>298.911</td>\n",
       "      <td>299.477</td>\n",
       "      <td>299.905</td>\n",
       "      <td>300.434</td>\n",
       "      <td>300.730</td>\n",
       "      <td>297.994</td>\n",
       "      <td>296.364</td>\n",
       "      <td>299.623</td>\n",
       "    </tr>\n",
       "    <tr>\n",
       "      <th>2014</th>\n",
       "      <td>301.367</td>\n",
       "      <td>302.079</td>\n",
       "      <td>301.907</td>\n",
       "      <td>302.351</td>\n",
       "      <td>302.717</td>\n",
       "      <td>303.586</td>\n",
       "      <td>304.888</td>\n",
       "      <td>305.757</td>\n",
       "      <td>306.388</td>\n",
       "      <td>307.260</td>\n",
       "      <td>308.346</td>\n",
       "      <td>308.746</td>\n",
       "      <td>304.616</td>\n",
       "      <td>302.335</td>\n",
       "      <td>306.898</td>\n",
       "    </tr>\n",
       "    <tr>\n",
       "      <th>2015</th>\n",
       "      <td>309.380</td>\n",
       "      <td>310.319</td>\n",
       "      <td>311.712</td>\n",
       "      <td>312.195</td>\n",
       "      <td>313.094</td>\n",
       "      <td>314.217</td>\n",
       "      <td>315.232</td>\n",
       "      <td>316.270</td>\n",
       "      <td>316.513</td>\n",
       "      <td>317.756</td>\n",
       "      <td>318.482</td>\n",
       "      <td>320.054</td>\n",
       "      <td>314.602</td>\n",
       "      <td>311.820</td>\n",
       "      <td>317.385</td>\n",
       "    </tr>\n",
       "    <tr>\n",
       "      <th>2016</th>\n",
       "      <td>321.164</td>\n",
       "      <td>322.208</td>\n",
       "      <td>323.991</td>\n",
       "      <td>324.650</td>\n",
       "      <td>326.181</td>\n",
       "      <td>327.527</td>\n",
       "      <td>329.324</td>\n",
       "      <td>330.770</td>\n",
       "      <td>331.974</td>\n",
       "      <td>332.895</td>\n",
       "      <td>334.464</td>\n",
       "      <td>335.713</td>\n",
       "      <td>328.405</td>\n",
       "      <td>324.287</td>\n",
       "      <td>332.523</td>\n",
       "    </tr>\n",
       "    <tr>\n",
       "      <th>2017</th>\n",
       "      <td>337.578</td>\n",
       "      <td>338.948</td>\n",
       "      <td>339.298</td>\n",
       "      <td>340.053</td>\n",
       "      <td>340.212</td>\n",
       "      <td>341.127</td>\n",
       "      <td>343.367</td>\n",
       "      <td>345.138</td>\n",
       "      <td>346.393</td>\n",
       "      <td>347.782</td>\n",
       "      <td>349.168</td>\n",
       "      <td>350.535</td>\n",
       "      <td>343.300</td>\n",
       "      <td>339.536</td>\n",
       "      <td>347.064</td>\n",
       "    </tr>\n",
       "    <tr>\n",
       "      <th>2018</th>\n",
       "      <td>352.105</td>\n",
       "      <td>353.312</td>\n",
       "      <td>355.088</td>\n",
       "      <td>357.704</td>\n",
       "      <td>358.720</td>\n",
       "      <td>360.256</td>\n",
       "      <td>361.275</td>\n",
       "      <td>362.689</td>\n",
       "      <td>364.472</td>\n",
       "      <td>365.422</td>\n",
       "      <td>366.553</td>\n",
       "      <td>367.809</td>\n",
       "      <td>360.450</td>\n",
       "      <td>356.198</td>\n",
       "      <td>364.703</td>\n",
       "    </tr>\n",
       "    <tr>\n",
       "      <th>2019</th>\n",
       "      <td>369.273</td>\n",
       "      <td>371.721</td>\n",
       "      <td>373.243</td>\n",
       "      <td>375.044</td>\n",
       "      <td>375.847</td>\n",
       "      <td>378.219</td>\n",
       "      <td>379.309</td>\n",
       "      <td>380.646</td>\n",
       "      <td>381.810</td>\n",
       "      <td>382.502</td>\n",
       "      <td>383.988</td>\n",
       "      <td>384.936</td>\n",
       "      <td>378.045</td>\n",
       "      <td>373.891</td>\n",
       "      <td>382.199</td>\n",
       "    </tr>\n",
       "    <tr>\n",
       "      <th>2020</th>\n",
       "      <td>385.716</td>\n",
       "      <td>386.791</td>\n",
       "      <td>387.550</td>\n",
       "      <td>389.549</td>\n",
       "      <td>390.454</td>\n",
       "      <td>391.436</td>\n",
       "      <td>391.998</td>\n",
       "      <td>392.106</td>\n",
       "      <td>391.975</td>\n",
       "      <td>391.950</td>\n",
       "      <td>390.986</td>\n",
       "      <td>391.023</td>\n",
       "      <td>390.128</td>\n",
       "      <td>388.583</td>\n",
       "      <td>391.673</td>\n",
       "    </tr>\n",
       "    <tr>\n",
       "      <th>2021</th>\n",
       "      <td>391.579</td>\n",
       "      <td>392.349</td>\n",
       "      <td>392.204</td>\n",
       "      <td>391.592</td>\n",
       "      <td>392.612</td>\n",
       "      <td>394.211</td>\n",
       "      <td>395.208</td>\n",
       "      <td>395.784</td>\n",
       "      <td>396.108</td>\n",
       "      <td>397.148</td>\n",
       "      <td>399.284</td>\n",
       "      <td>400.484</td>\n",
       "      <td>394.880</td>\n",
       "      <td>392.425</td>\n",
       "      <td>397.336</td>\n",
       "    </tr>\n",
       "  </tbody>\n",
       "</table>\n",
       "</div>"
      ],
      "text/plain": [
       "          Jan      Feb      Mar      Apr      May      Jun      Jul      Aug  \\\n",
       "Year                                                                           \n",
       "2012  288.915  289.660  290.936  291.511  292.280  292.729  293.165  293.548   \n",
       "2013  295.013  295.468  295.811  296.433  297.487  297.973  298.280  298.911   \n",
       "2014  301.367  302.079  301.907  302.351  302.717  303.586  304.888  305.757   \n",
       "2015  309.380  310.319  311.712  312.195  313.094  314.217  315.232  316.270   \n",
       "2016  321.164  322.208  323.991  324.650  326.181  327.527  329.324  330.770   \n",
       "2017  337.578  338.948  339.298  340.053  340.212  341.127  343.367  345.138   \n",
       "2018  352.105  353.312  355.088  357.704  358.720  360.256  361.275  362.689   \n",
       "2019  369.273  371.721  373.243  375.044  375.847  378.219  379.309  380.646   \n",
       "2020  385.716  386.791  387.550  389.549  390.454  391.436  391.998  392.106   \n",
       "2021  391.579  392.349  392.204  391.592  392.612  394.211  395.208  395.784   \n",
       "\n",
       "          Sep      Oct      Nov      Dec   Annual    HALF1    HALF2  \n",
       "Year                                                                 \n",
       "2012  293.979  294.332  294.580  295.019  292.554  291.005  294.104  \n",
       "2013  299.477  299.905  300.434  300.730  297.994  296.364  299.623  \n",
       "2014  306.388  307.260  308.346  308.746  304.616  302.335  306.898  \n",
       "2015  316.513  317.756  318.482  320.054  314.602  311.820  317.385  \n",
       "2016  331.974  332.895  334.464  335.713  328.405  324.287  332.523  \n",
       "2017  346.393  347.782  349.168  350.535  343.300  339.536  347.064  \n",
       "2018  364.472  365.422  366.553  367.809  360.450  356.198  364.703  \n",
       "2019  381.810  382.502  383.988  384.936  378.045  373.891  382.199  \n",
       "2020  391.975  391.950  390.986  391.023  390.128  388.583  391.673  \n",
       "2021  396.108  397.148  399.284  400.484  394.880  392.425  397.336  "
      ]
     },
     "execution_count": 15,
     "metadata": {},
     "output_type": "execute_result"
    }
   ],
   "source": [
    "#Import data\n",
    "# set the file path\n",
    "file_path = Path(\"Data/LA_CPI_apparel.csv\")\n",
    "file_path_2= Path(\"Data/LA_CPI_foodaway.csv\")\n",
    "file_path_3= Path(\"Data/LA_CPI_housing.csv\")\n",
    "\n",
    "# create a Pandas dataframe from a csv file\n",
    "apparel_df = pd.read_csv(file_path, index_col='Year')\n",
    "foodaway_df = pd.read_csv(file_path_2, index_col='Year')\n",
    "housing_df = pd.read_csv(file_path_3, index_col='Year')\n",
    "housing_df"
   ]
  },
  {
   "cell_type": "code",
   "execution_count": 16,
   "metadata": {},
   "outputs": [],
   "source": [
    "#Select Annual Data for each dataframe\n",
    "apparel_df = apparel_df['Annual']\n",
    "foodaway_df = foodaway_df['Annual']\n",
    "housing_df = housing_df['Annual']\n"
   ]
  },
  {
   "cell_type": "code",
   "execution_count": 17,
   "metadata": {},
   "outputs": [
    {
     "data": {
      "text/html": [
       "<div>\n",
       "<style scoped>\n",
       "    .dataframe tbody tr th:only-of-type {\n",
       "        vertical-align: middle;\n",
       "    }\n",
       "\n",
       "    .dataframe tbody tr th {\n",
       "        vertical-align: top;\n",
       "    }\n",
       "\n",
       "    .dataframe thead th {\n",
       "        text-align: right;\n",
       "    }\n",
       "</style>\n",
       "<table border=\"1\" class=\"dataframe\">\n",
       "  <thead>\n",
       "    <tr style=\"text-align: right;\">\n",
       "      <th></th>\n",
       "      <th>Annual</th>\n",
       "      <th>Annual</th>\n",
       "      <th>Annual</th>\n",
       "    </tr>\n",
       "    <tr>\n",
       "      <th>Year</th>\n",
       "      <th></th>\n",
       "      <th></th>\n",
       "      <th></th>\n",
       "    </tr>\n",
       "  </thead>\n",
       "  <tbody>\n",
       "    <tr>\n",
       "      <th>2012</th>\n",
       "      <td>113.558</td>\n",
       "      <td>220.626</td>\n",
       "      <td>292.554</td>\n",
       "    </tr>\n",
       "    <tr>\n",
       "      <th>2013</th>\n",
       "      <td>111.437</td>\n",
       "      <td>222.293</td>\n",
       "      <td>297.994</td>\n",
       "    </tr>\n",
       "    <tr>\n",
       "      <th>2014</th>\n",
       "      <td>112.860</td>\n",
       "      <td>228.346</td>\n",
       "      <td>304.616</td>\n",
       "    </tr>\n",
       "    <tr>\n",
       "      <th>2015</th>\n",
       "      <td>109.845</td>\n",
       "      <td>234.689</td>\n",
       "      <td>314.602</td>\n",
       "    </tr>\n",
       "    <tr>\n",
       "      <th>2016</th>\n",
       "      <td>111.096</td>\n",
       "      <td>243.517</td>\n",
       "      <td>328.405</td>\n",
       "    </tr>\n",
       "    <tr>\n",
       "      <th>2017</th>\n",
       "      <td>106.918</td>\n",
       "      <td>252.992</td>\n",
       "      <td>343.300</td>\n",
       "    </tr>\n",
       "    <tr>\n",
       "      <th>2018</th>\n",
       "      <td>109.141</td>\n",
       "      <td>262.108</td>\n",
       "      <td>360.450</td>\n",
       "    </tr>\n",
       "    <tr>\n",
       "      <th>2019</th>\n",
       "      <td>108.453</td>\n",
       "      <td>275.222</td>\n",
       "      <td>378.045</td>\n",
       "    </tr>\n",
       "    <tr>\n",
       "      <th>2020</th>\n",
       "      <td>108.200</td>\n",
       "      <td>289.773</td>\n",
       "      <td>390.128</td>\n",
       "    </tr>\n",
       "    <tr>\n",
       "      <th>2021</th>\n",
       "      <td>110.066</td>\n",
       "      <td>302.717</td>\n",
       "      <td>394.880</td>\n",
       "    </tr>\n",
       "  </tbody>\n",
       "</table>\n",
       "</div>"
      ],
      "text/plain": [
       "       Annual   Annual   Annual\n",
       "Year                           \n",
       "2012  113.558  220.626  292.554\n",
       "2013  111.437  222.293  297.994\n",
       "2014  112.860  228.346  304.616\n",
       "2015  109.845  234.689  314.602\n",
       "2016  111.096  243.517  328.405\n",
       "2017  106.918  252.992  343.300\n",
       "2018  109.141  262.108  360.450\n",
       "2019  108.453  275.222  378.045\n",
       "2020  108.200  289.773  390.128\n",
       "2021  110.066  302.717  394.880"
      ]
     },
     "execution_count": 17,
     "metadata": {},
     "output_type": "execute_result"
    }
   ],
   "source": [
    "#Concatenate the dataframes from 2018-2021\n",
    "\n",
    "combined_df = pd.concat([apparel_df, foodaway_df, housing_df], axis='columns', join='inner')\n",
    "combined_df\n"
   ]
  },
  {
   "cell_type": "code",
   "execution_count": 20,
   "metadata": {},
   "outputs": [
    {
     "name": "stdout",
     "output_type": "stream",
     "text": [
      "      LA Apparel CPI  LA Food Away from home CPI  LA Housing CPI\n",
      "Year                                                            \n",
      "2012         113.558                     220.626         292.554\n",
      "2013         111.437                     222.293         297.994\n",
      "2014         112.860                     228.346         304.616\n",
      "2015         109.845                     234.689         314.602\n",
      "2016         111.096                     243.517         328.405\n",
      "2017         106.918                     252.992         343.300\n",
      "2018         109.141                     262.108         360.450\n",
      "2019         108.453                     275.222         378.045\n",
      "2020         108.200                     289.773         390.128\n",
      "2021         110.066                     302.717         394.880\n"
     ]
    }
   ],
   "source": [
    "\n",
    "#Assign the column names\n",
    "combined_df.columns=[\"LA Apparel CPI\", \"LA Food Away from home CPI\", \"LA Housing CPI\"]\n",
    "print(combined_df)"
   ]
  },
  {
   "cell_type": "code",
   "execution_count": 23,
   "metadata": {},
   "outputs": [
    {
     "data": {
      "text/html": [
       "<div>\n",
       "<style scoped>\n",
       "    .dataframe tbody tr th:only-of-type {\n",
       "        vertical-align: middle;\n",
       "    }\n",
       "\n",
       "    .dataframe tbody tr th {\n",
       "        vertical-align: top;\n",
       "    }\n",
       "\n",
       "    .dataframe thead th {\n",
       "        text-align: right;\n",
       "    }\n",
       "</style>\n",
       "<table border=\"1\" class=\"dataframe\">\n",
       "  <thead>\n",
       "    <tr style=\"text-align: right;\">\n",
       "      <th></th>\n",
       "      <th>LA Apparel CPI</th>\n",
       "      <th>LA Food Away from home CPI</th>\n",
       "      <th>LA Housing CPI</th>\n",
       "    </tr>\n",
       "    <tr>\n",
       "      <th>Year</th>\n",
       "      <th></th>\n",
       "      <th></th>\n",
       "      <th></th>\n",
       "    </tr>\n",
       "  </thead>\n",
       "  <tbody>\n",
       "    <tr>\n",
       "      <th>2012</th>\n",
       "      <td>NaN</td>\n",
       "      <td>NaN</td>\n",
       "      <td>NaN</td>\n",
       "    </tr>\n",
       "    <tr>\n",
       "      <th>2013</th>\n",
       "      <td>-0.018678</td>\n",
       "      <td>0.007556</td>\n",
       "      <td>0.018595</td>\n",
       "    </tr>\n",
       "    <tr>\n",
       "      <th>2014</th>\n",
       "      <td>0.012770</td>\n",
       "      <td>0.027230</td>\n",
       "      <td>0.022222</td>\n",
       "    </tr>\n",
       "    <tr>\n",
       "      <th>2015</th>\n",
       "      <td>-0.026715</td>\n",
       "      <td>0.027778</td>\n",
       "      <td>0.032782</td>\n",
       "    </tr>\n",
       "    <tr>\n",
       "      <th>2016</th>\n",
       "      <td>0.011389</td>\n",
       "      <td>0.037616</td>\n",
       "      <td>0.043874</td>\n",
       "    </tr>\n",
       "    <tr>\n",
       "      <th>2017</th>\n",
       "      <td>-0.037607</td>\n",
       "      <td>0.038909</td>\n",
       "      <td>0.045356</td>\n",
       "    </tr>\n",
       "    <tr>\n",
       "      <th>2018</th>\n",
       "      <td>0.020792</td>\n",
       "      <td>0.036033</td>\n",
       "      <td>0.049956</td>\n",
       "    </tr>\n",
       "    <tr>\n",
       "      <th>2019</th>\n",
       "      <td>-0.006304</td>\n",
       "      <td>0.050033</td>\n",
       "      <td>0.048814</td>\n",
       "    </tr>\n",
       "    <tr>\n",
       "      <th>2020</th>\n",
       "      <td>-0.002333</td>\n",
       "      <td>0.052870</td>\n",
       "      <td>0.031962</td>\n",
       "    </tr>\n",
       "    <tr>\n",
       "      <th>2021</th>\n",
       "      <td>0.017246</td>\n",
       "      <td>0.044669</td>\n",
       "      <td>0.012181</td>\n",
       "    </tr>\n",
       "  </tbody>\n",
       "</table>\n",
       "</div>"
      ],
      "text/plain": [
       "      LA Apparel CPI  LA Food Away from home CPI  LA Housing CPI\n",
       "Year                                                            \n",
       "2012             NaN                         NaN             NaN\n",
       "2013       -0.018678                    0.007556        0.018595\n",
       "2014        0.012770                    0.027230        0.022222\n",
       "2015       -0.026715                    0.027778        0.032782\n",
       "2016        0.011389                    0.037616        0.043874\n",
       "2017       -0.037607                    0.038909        0.045356\n",
       "2018        0.020792                    0.036033        0.049956\n",
       "2019       -0.006304                    0.050033        0.048814\n",
       "2020       -0.002333                    0.052870        0.031962\n",
       "2021        0.017246                    0.044669        0.012181"
      ]
     },
     "execution_count": 23,
     "metadata": {},
     "output_type": "execute_result"
    }
   ],
   "source": [
    "#Calculate the year over year percent change in CPI for each\n",
    "annual_change = combined_df.pct_change()\n",
    "annual_change\n"
   ]
  },
  {
   "cell_type": "code",
   "execution_count": 71,
   "metadata": {},
   "outputs": [
    {
     "data": {
      "text/plain": [
       "<AxesSubplot:title={'center':'CPI Year over Year percent change in LA'}, xlabel='Year', ylabel='YoY percent change'>"
      ]
     },
     "execution_count": 71,
     "metadata": {},
     "output_type": "execute_result"
    },
    {
     "data": {
      "image/png": "[encoded data removed]",
      "text/plain": [
       "<Figure size 432x288 with 1 Axes>"
      ]
     },
     "metadata": {
      "needs_background": "light"
     },
     "output_type": "display_data"
    }
   ],
   "source": [
    "annual_change.plot(title=\"CPI Year over Year percent change in LA\", ylabel= \"YoY percent change\")"
   ]
  },
  {
   "cell_type": "code",
   "execution_count": 72,
   "metadata": {},
   "outputs": [
    {
     "data": {
      "text/plain": [
       "<AxesSubplot:xlabel='Year'>"
      ]
     },
     "execution_count": 72,
     "metadata": {},
     "output_type": "execute_result"
    },
    {
     "data": {
      "image/png": "[encoded data removed]",
      "text/plain": [
       "<Figure size 432x288 with 1 Axes>"
      ]
     },
     "metadata": {
      "needs_background": "light"
     },
     "output_type": "display_data"
    }
   ],
   "source": [
    "combined_df.plot()"
   ]
  },
  {
   "cell_type": "code",
   "execution_count": 6,
   "metadata": {},
   "outputs": [
    {
     "data": {
      "text/plain": [
       "True"
      ]
     },
     "execution_count": 6,
     "metadata": {},
     "output_type": "execute_result"
    }
   ],
   "source": [
    "# Get stock data for comparisons with CPI\n",
    "#import api libraries and dependencies\n",
    "import alpaca_trade_api as tradeapi\n",
    "from alpaca_trade_api.rest import REST, TimeFrame\n",
    "import os\n",
    "# Load .env environment variables\n",
    "from dotenv import load_dotenv\n",
    "load_dotenv()"
   ]
  },
  {
   "cell_type": "code",
   "execution_count": 7,
   "metadata": {},
   "outputs": [
    {
     "data": {
      "text/plain": [
       "str"
      ]
     },
     "execution_count": 7,
     "metadata": {},
     "output_type": "execute_result"
    }
   ],
   "source": [
    "# Set Alpaca API key and secret\n",
    "alpaca_api_key = os.getenv(\"ALPACA_API_KEY\")\n",
    "alpaca_secret_key = os.getenv(\"ALPACA_SECRET_KEY\")\n",
    "\n",
    "# Create the Alpaca API object\n",
    "alpaca = tradeapi.REST(\n",
    "    alpaca_api_key,\n",
    "    alpaca_secret_key,\n",
    "    api_version=\"v2\"\n",
    ")\n",
    "type(alpaca_api_key)"
   ]
  },
  {
   "cell_type": "code",
   "execution_count": 8,
   "metadata": {},
   "outputs": [],
   "source": [
    "#Format current date as ISO format\n",
    "start = pd.Timestamp(\"2012-01-01\", tz=\"America/New_York\").isoformat()\n",
    "end = pd.Timestamp(\"2021-12-31\", tz=\"America/New_York\").isoformat()\n",
    "timeframe=\"1Day\""
   ]
  },
  {
   "cell_type": "code",
   "execution_count": 9,
   "metadata": {},
   "outputs": [],
   "source": [
    "#Fetch stock data for each industry of interest\n",
    "real_estate = [\"TSCO\",\"DHI\",\"LOW\",\"LGIH\"]\n",
    "apparel = [\"NKE\", \"UA\",\"GPS\", \"LULU\", \"JWN\"]\n",
    "food_away = [\"MCD\",\"YUM\", \"DRI\", \"QSR\"]\n",
    "\n",
    "def alpacas_api(symbols,timeframe, start,end):\n",
    "    dataframe = alpaca.get_bars(symbols, timeframe=timeframe, start=start, end=end).df\n",
    "    new_df = dataframe[['open','close','trade_count', 'symbol']]\n",
    "\n",
    "    return new_df\n",
    "\n",
    "Real_Estate_stocks = alpacas_api(real_estate, timeframe,start,end)\n",
    "Apparel_stocks = alpacas_api(apparel, timeframe,start,end)\n",
    "Food_stocks = alpacas_api(food_away, timeframe,start,end)"
   ]
  },
  {
   "cell_type": "code",
   "execution_count": 11,
   "metadata": {},
   "outputs": [
    {
     "data": {
      "text/html": [
       "<div>\n",
       "<style scoped>\n",
       "    .dataframe tbody tr th:only-of-type {\n",
       "        vertical-align: middle;\n",
       "    }\n",
       "\n",
       "    .dataframe tbody tr th {\n",
       "        vertical-align: top;\n",
       "    }\n",
       "\n",
       "    .dataframe thead th {\n",
       "        text-align: right;\n",
       "    }\n",
       "</style>\n",
       "<table border=\"1\" class=\"dataframe\">\n",
       "  <thead>\n",
       "    <tr style=\"text-align: right;\">\n",
       "      <th>symbol</th>\n",
       "      <th>DRI</th>\n",
       "      <th>MCD</th>\n",
       "      <th>QSR</th>\n",
       "      <th>YUM</th>\n",
       "    </tr>\n",
       "    <tr>\n",
       "      <th>timestamp</th>\n",
       "      <th></th>\n",
       "      <th></th>\n",
       "      <th></th>\n",
       "      <th></th>\n",
       "    </tr>\n",
       "  </thead>\n",
       "  <tbody>\n",
       "    <tr>\n",
       "      <th>2015-12-01 05:00:00+00:00</th>\n",
       "      <td>56.72</td>\n",
       "      <td>114.45</td>\n",
       "      <td>36.57</td>\n",
       "      <td>74.48</td>\n",
       "    </tr>\n",
       "    <tr>\n",
       "      <th>2015-12-02 05:00:00+00:00</th>\n",
       "      <td>56.30</td>\n",
       "      <td>113.72</td>\n",
       "      <td>36.48</td>\n",
       "      <td>74.95</td>\n",
       "    </tr>\n",
       "    <tr>\n",
       "      <th>2015-12-03 05:00:00+00:00</th>\n",
       "      <td>55.20</td>\n",
       "      <td>113.39</td>\n",
       "      <td>35.88</td>\n",
       "      <td>73.13</td>\n",
       "    </tr>\n",
       "    <tr>\n",
       "      <th>2015-12-04 05:00:00+00:00</th>\n",
       "      <td>57.43</td>\n",
       "      <td>116.20</td>\n",
       "      <td>36.01</td>\n",
       "      <td>76.14</td>\n",
       "    </tr>\n",
       "    <tr>\n",
       "      <th>2015-12-07 05:00:00+00:00</th>\n",
       "      <td>58.92</td>\n",
       "      <td>116.42</td>\n",
       "      <td>35.48</td>\n",
       "      <td>76.41</td>\n",
       "    </tr>\n",
       "    <tr>\n",
       "      <th>...</th>\n",
       "      <td>...</td>\n",
       "      <td>...</td>\n",
       "      <td>...</td>\n",
       "      <td>...</td>\n",
       "    </tr>\n",
       "    <tr>\n",
       "      <th>2021-12-27 05:00:00+00:00</th>\n",
       "      <td>150.23</td>\n",
       "      <td>268.24</td>\n",
       "      <td>60.08</td>\n",
       "      <td>138.01</td>\n",
       "    </tr>\n",
       "    <tr>\n",
       "      <th>2021-12-28 05:00:00+00:00</th>\n",
       "      <td>149.37</td>\n",
       "      <td>267.88</td>\n",
       "      <td>60.21</td>\n",
       "      <td>137.98</td>\n",
       "    </tr>\n",
       "    <tr>\n",
       "      <th>2021-12-29 05:00:00+00:00</th>\n",
       "      <td>149.02</td>\n",
       "      <td>268.49</td>\n",
       "      <td>60.39</td>\n",
       "      <td>138.66</td>\n",
       "    </tr>\n",
       "    <tr>\n",
       "      <th>2021-12-30 05:00:00+00:00</th>\n",
       "      <td>149.33</td>\n",
       "      <td>267.21</td>\n",
       "      <td>60.47</td>\n",
       "      <td>138.39</td>\n",
       "    </tr>\n",
       "    <tr>\n",
       "      <th>2021-12-31 05:00:00+00:00</th>\n",
       "      <td>150.64</td>\n",
       "      <td>268.07</td>\n",
       "      <td>60.68</td>\n",
       "      <td>138.86</td>\n",
       "    </tr>\n",
       "  </tbody>\n",
       "</table>\n",
       "<p>1533 rows × 4 columns</p>\n",
       "</div>"
      ],
      "text/plain": [
       "symbol                        DRI     MCD    QSR     YUM\n",
       "timestamp                                               \n",
       "2015-12-01 05:00:00+00:00   56.72  114.45  36.57   74.48\n",
       "2015-12-02 05:00:00+00:00   56.30  113.72  36.48   74.95\n",
       "2015-12-03 05:00:00+00:00   55.20  113.39  35.88   73.13\n",
       "2015-12-04 05:00:00+00:00   57.43  116.20  36.01   76.14\n",
       "2015-12-07 05:00:00+00:00   58.92  116.42  35.48   76.41\n",
       "...                           ...     ...    ...     ...\n",
       "2021-12-27 05:00:00+00:00  150.23  268.24  60.08  138.01\n",
       "2021-12-28 05:00:00+00:00  149.37  267.88  60.21  137.98\n",
       "2021-12-29 05:00:00+00:00  149.02  268.49  60.39  138.66\n",
       "2021-12-30 05:00:00+00:00  149.33  267.21  60.47  138.39\n",
       "2021-12-31 05:00:00+00:00  150.64  268.07  60.68  138.86\n",
       "\n",
       "[1533 rows x 4 columns]"
      ]
     },
     "execution_count": 11,
     "metadata": {},
     "output_type": "execute_result"
    }
   ],
   "source": [
    "# Create pivot tables for closing prices for each stock df\n",
    "Real_Estate_close = Real_Estate_stocks.pivot_table(values=\"close\", index=\"timestamp\",columns=\"symbol\")\n",
    "Apparel_close = Apparel_stocks.pivot_table(values=\"close\", index=\"timestamp\",columns=\"symbol\")\n",
    "Food_close = Food_stocks.pivot_table(values=\"close\", index=\"timestamp\",columns=\"symbol\")\n",
    "Food_close"
   ]
  },
  {
   "cell_type": "code",
   "execution_count": 32,
   "metadata": {},
   "outputs": [],
   "source": [
    "#Calculate annual percentage change for each stock dataframe\n",
    "# use resample to get annual data instead of daily\n",
    "Real_Estate_stocks = Real_Estate_stocks.resample(\"Y\").mean()\n",
    "Real_estate_stock_annual = Real_Estate_stocks[\"close\"].pct_change()\n",
    "Real_estate_stock_annual.index = Real_estate_stock_annual.index.year\n",
    "Real_estate_stock_annual\n",
    "\n",
    "Apparel_stocks= Apparel_stocks.resample(\"Y\").mean()\n",
    "Apparel_stocks_annual= Apparel_stocks[\"close\"].pct_change()\n",
    "Apparel_stocks_annual.index = Apparel_stocks_annual.index.year\n",
    "\n",
    "Food_stocks = Food_stocks.resample(\"Y\").mean()\n",
    "Food_stocks_annual = Food_stocks[\"close\"].pct_change()\n",
    "Food_stocks_annual.index = Food_stocks_annual.index.year"
   ]
  },
  {
   "cell_type": "code",
   "execution_count": 29,
   "metadata": {},
   "outputs": [
    {
     "data": {
      "text/plain": [
       "Year\n",
       "2013    0.018595\n",
       "2014    0.022222\n",
       "2015    0.032782\n",
       "2016    0.043874\n",
       "2017    0.045356\n",
       "2018    0.049956\n",
       "2019    0.048814\n",
       "2020    0.031962\n",
       "2021    0.012181\n",
       "Name: LA Housing CPI, dtype: float64"
      ]
     },
     "execution_count": 29,
     "metadata": {},
     "output_type": "execute_result"
    }
   ],
   "source": [
    "#Fetch percent change for each CPI measure\n",
    "apparel_pct_change = annual_change[\"LA Apparel CPI\"]\n",
    "Food_pct_change = annual_change[\"LA Food Away from home CPI\"]\n",
    "Housing_pct_change = annual_change[ \"LA Housing CPI\"]\n",
    "Housing_pct_change.dropna()\n"
   ]
  },
  {
   "cell_type": "code",
   "execution_count": 26,
   "metadata": {},
   "outputs": [],
   "source": [
    "#Create a function to concat CPI data and stock data\n",
    "def concat_stocks_cpi(stock, cpi):\n",
    "    df = pd.concat([stock,cpi], axis=1, join=\"inner\")\n",
    "    return df "
   ]
  },
  {
   "cell_type": "code",
   "execution_count": 30,
   "metadata": {},
   "outputs": [
    {
     "data": {
      "text/plain": [
       "<AxesSubplot:>"
      ]
     },
     "execution_count": 30,
     "metadata": {},
     "output_type": "execute_result"
    },
    {
     "data": {
      "image/png": "[encoded data removed]",
      "text/plain": [
       "<Figure size 432x288 with 1 Axes>"
      ]
     },
     "metadata": {
      "needs_background": "light"
     },
     "output_type": "display_data"
    }
   ],
   "source": [
    "#Combine housing CPI and housing stocks\n",
    "Housing_combined = concat_stocks_cpi(Real_estate_stock_annual, Housing_pct_change)\n",
    "Housing_combined.columns = ['Real Estate stocks', \"LA housing CPI\"]\n",
    "Housing_combined.plot()"
   ]
  },
  {
   "cell_type": "code",
   "execution_count": 34,
   "metadata": {},
   "outputs": [
    {
     "data": {
      "text/plain": [
       "<AxesSubplot:>"
      ]
     },
     "execution_count": 34,
     "metadata": {},
     "output_type": "execute_result"
    },
    {
     "data": {
      "image/png": "[encoded data removed]",
      "text/plain": [
       "<Figure size 432x288 with 1 Axes>"
      ]
     },
     "metadata": {
      "needs_background": "light"
     },
     "output_type": "display_data"
    }
   ],
   "source": [
    "#Combine and plot Apparel CPI and stock data\n",
    "Food_combined = concat_stocks_cpi(Apparel_stocks_annual, apparel_pct_change)\n",
    "Food_combined.columns = ['Food stocks', \"LA Apparel CPI\"]\n",
    "Food_combined.plot()\n"
   ]
  },
  {
   "cell_type": "code",
   "execution_count": 36,
   "metadata": {},
   "outputs": [
    {
     "data": {
      "text/plain": [
       "<AxesSubplot:>"
      ]
     },
     "execution_count": 36,
     "metadata": {},
     "output_type": "execute_result"
    },
    {
     "data": {
      "image/png": "[encoded data removed]",
      "text/plain": [
       "<Figure size 432x288 with 1 Axes>"
      ]
     },
     "metadata": {
      "needs_background": "light"
     },
     "output_type": "display_data"
    }
   ],
   "source": [
    "#Combine and plot Food away from home CPI and stock data\n",
    "Food_combined = concat_stocks_cpi(Food_stocks_annual, Food_pct_change)\n",
    "Food_combined.columns = ['Food stocks', \"LA Food Away from home CPI\"]\n",
    "Food_combined.plot()"
   ]
  }
 ],
 "metadata": {
  "interpreter": {
   "hash": "aaf7bf85590c9aef3700adcd94f684314154a65308172caea197fb03dcdff88b"
  },
  "kernelspec": {
   "display_name": "Python 3.9.7 ('base')",
   "language": "python",
   "name": "python3"
  },
  "language_info": {
   "codemirror_mode": {
    "name": "ipython",
    "version": 3
   },
   "file_extension": ".py",
   "mimetype": "text/x-python",
   "name": "python",
   "nbconvert_exporter": "python",
   "pygments_lexer": "ipython3",
   "version": "3.9.7"
  },
  "orig_nbformat": 4
 },
 "nbformat": 4,
 "nbformat_minor": 2
}
