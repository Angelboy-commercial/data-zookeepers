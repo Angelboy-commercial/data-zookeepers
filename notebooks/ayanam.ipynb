{
 "cells": [
  {
   "cell_type": "code",
   "execution_count": 185,
   "metadata": {},
   "outputs": [],
   "source": [
    "# Initial imports\n",
    "import os\n",
    "import requests\n",
    "import pandas as pd\n",
    "from pathlib import Path\n",
    "from dotenv import load_dotenv\n",
    "import alpaca_trade_api as tradeapi\n",
    "import json\n",
    "import hvplot.pandas\n",
    "import plotly.express as px\n",
    "%matplotlib inline"
   ]
  },
  {
   "cell_type": "code",
   "execution_count": 186,
   "metadata": {},
   "outputs": [
    {
     "data": {
      "text/plain": [
       "True"
      ]
     },
     "execution_count": 186,
     "metadata": {},
     "output_type": "execute_result"
    }
   ],
   "source": [
    "# Load .env enviroment variables\n",
    "load_dotenv()"
   ]
  },
  {
   "cell_type": "code",
   "execution_count": 187,
   "metadata": {},
   "outputs": [],
   "source": [
    "#Pull in and read CSV files\n",
    "csvpath = Path(\"..\\seattle_data\\Seattle_Apparel_CPI.csv\")\n",
    "seattleCPI_apparel_df = pd.read_csv(csvpath)\n",
    "\n",
    "csvpath1 = Path(\"..\\seattle_data\\Seattle_FoodAwayFromHome_CPI.csv\")\n",
    "seattleCPI_FoodAway_df = pd.read_csv(csvpath1)\n",
    "\n",
    "csvpath3 = Path(\"..\\seattle_data\\Seattle_RentalEquivalent_CPI.csv\")\n",
    "seattleCPI_RentalEquivalent_df = pd.read_csv(csvpath3)\n",
    "\n",
    "# seattleCPI_RentalEquivalent_df\n",
    "# seattleCPI_apparel_df\n",
    "# seattleCPI_FoodAway_df"
   ]
  },
  {
   "cell_type": "code",
   "execution_count": 188,
   "metadata": {},
   "outputs": [
    {
     "data": {
      "text/html": [
       "<div>\n",
       "<style scoped>\n",
       "    .dataframe tbody tr th:only-of-type {\n",
       "        vertical-align: middle;\n",
       "    }\n",
       "\n",
       "    .dataframe tbody tr th {\n",
       "        vertical-align: top;\n",
       "    }\n",
       "\n",
       "    .dataframe thead th {\n",
       "        text-align: right;\n",
       "    }\n",
       "</style>\n",
       "<table border=\"1\" class=\"dataframe\">\n",
       "  <thead>\n",
       "    <tr style=\"text-align: right;\">\n",
       "      <th></th>\n",
       "      <th>Annual</th>\n",
       "    </tr>\n",
       "    <tr>\n",
       "      <th>Year</th>\n",
       "      <th></th>\n",
       "    </tr>\n",
       "  </thead>\n",
       "  <tbody>\n",
       "    <tr>\n",
       "      <th>2012</th>\n",
       "      <td>259.603</td>\n",
       "    </tr>\n",
       "    <tr>\n",
       "      <th>2013</th>\n",
       "      <td>266.493</td>\n",
       "    </tr>\n",
       "    <tr>\n",
       "      <th>2014</th>\n",
       "      <td>271.982</td>\n",
       "    </tr>\n",
       "    <tr>\n",
       "      <th>2015</th>\n",
       "      <td>278.738</td>\n",
       "    </tr>\n",
       "    <tr>\n",
       "      <th>2016</th>\n",
       "      <td>287.958</td>\n",
       "    </tr>\n",
       "    <tr>\n",
       "      <th>2017</th>\n",
       "      <td>296.622</td>\n",
       "    </tr>\n",
       "    <tr>\n",
       "      <th>2018</th>\n",
       "      <td>305.532</td>\n",
       "    </tr>\n",
       "    <tr>\n",
       "      <th>2019</th>\n",
       "      <td>314.927</td>\n",
       "    </tr>\n",
       "    <tr>\n",
       "      <th>2020</th>\n",
       "      <td>329.670</td>\n",
       "    </tr>\n",
       "    <tr>\n",
       "      <th>2021</th>\n",
       "      <td>351.230</td>\n",
       "    </tr>\n",
       "  </tbody>\n",
       "</table>\n",
       "</div>"
      ],
      "text/plain": [
       "       Annual\n",
       "Year         \n",
       "2012  259.603\n",
       "2013  266.493\n",
       "2014  271.982\n",
       "2015  278.738\n",
       "2016  287.958\n",
       "2017  296.622\n",
       "2018  305.532\n",
       "2019  314.927\n",
       "2020  329.670\n",
       "2021  351.230"
      ]
     },
     "execution_count": 188,
     "metadata": {},
     "output_type": "execute_result"
    }
   ],
   "source": [
    "# Reset the index and reset the top row as column names \n",
    "\n",
    "seattleCPI_apparel_df.reset_index(drop=True, inplace=True)\n",
    "seattleCPI_apparel_df.set_index(\"Year\", inplace=True)\n",
    "\n",
    "seattleCPI_FoodAway_df.reset_index(drop=True, inplace=True)\n",
    "seattleCPI_FoodAway_df.set_index(\"Year\", inplace=True)\n",
    "\n",
    "seattleCPI_RentalEquivalent_df.reset_index(drop=True, inplace=True)\n",
    "seattleCPI_RentalEquivalent_df.set_index(\"Year\", inplace=True)\n",
    "\n",
    "\n",
    "\n",
    "seattleCPI_FoodAway_df"
   ]
  },
  {
   "cell_type": "code",
   "execution_count": 189,
   "metadata": {},
   "outputs": [],
   "source": [
    "# Rename the columns\n",
    "seattleCPI_apparel_df.rename(columns= {'Annual': 'Seattle Apparel CPI'}, inplace= True)\n",
    "\n",
    "seattleCPI_FoodAway_df.rename(columns= {'Annual': 'Seattle Food Away from Home CPI'}, inplace= True)\n",
    "\n",
    "seattleCPI_RentalEquivalent_df.rename(columns= {'Annual': 'Seattle Housing CPI'}, inplace= True)\n"
   ]
  },
  {
   "cell_type": "code",
   "execution_count": 190,
   "metadata": {},
   "outputs": [
    {
     "data": {
      "text/html": [
       "<div>\n",
       "<style scoped>\n",
       "    .dataframe tbody tr th:only-of-type {\n",
       "        vertical-align: middle;\n",
       "    }\n",
       "\n",
       "    .dataframe tbody tr th {\n",
       "        vertical-align: top;\n",
       "    }\n",
       "\n",
       "    .dataframe thead th {\n",
       "        text-align: right;\n",
       "    }\n",
       "</style>\n",
       "<table border=\"1\" class=\"dataframe\">\n",
       "  <thead>\n",
       "    <tr style=\"text-align: right;\">\n",
       "      <th></th>\n",
       "      <th>Seattle Housing CPI</th>\n",
       "    </tr>\n",
       "    <tr>\n",
       "      <th>Year</th>\n",
       "      <th></th>\n",
       "    </tr>\n",
       "  </thead>\n",
       "  <tbody>\n",
       "    <tr>\n",
       "      <th>2012</th>\n",
       "      <td>283.351</td>\n",
       "    </tr>\n",
       "    <tr>\n",
       "      <th>2013</th>\n",
       "      <td>291.631</td>\n",
       "    </tr>\n",
       "    <tr>\n",
       "      <th>2014</th>\n",
       "      <td>305.272</td>\n",
       "    </tr>\n",
       "    <tr>\n",
       "      <th>2015</th>\n",
       "      <td>320.433</td>\n",
       "    </tr>\n",
       "    <tr>\n",
       "      <th>2016</th>\n",
       "      <td>339.302</td>\n",
       "    </tr>\n",
       "    <tr>\n",
       "      <th>2017</th>\n",
       "      <td>360.153</td>\n",
       "    </tr>\n",
       "    <tr>\n",
       "      <th>2018</th>\n",
       "      <td>382.350</td>\n",
       "    </tr>\n",
       "    <tr>\n",
       "      <th>2019</th>\n",
       "      <td>400.300</td>\n",
       "    </tr>\n",
       "    <tr>\n",
       "      <th>2020</th>\n",
       "      <td>414.762</td>\n",
       "    </tr>\n",
       "    <tr>\n",
       "      <th>2021</th>\n",
       "      <td>420.217</td>\n",
       "    </tr>\n",
       "  </tbody>\n",
       "</table>\n",
       "</div>"
      ],
      "text/plain": [
       "      Seattle Housing CPI\n",
       "Year                     \n",
       "2012              283.351\n",
       "2013              291.631\n",
       "2014              305.272\n",
       "2015              320.433\n",
       "2016              339.302\n",
       "2017              360.153\n",
       "2018              382.350\n",
       "2019              400.300\n",
       "2020              414.762\n",
       "2021              420.217"
      ]
     },
     "execution_count": 190,
     "metadata": {},
     "output_type": "execute_result"
    }
   ],
   "source": [
    "seattleCPI_RentalEquivalent_df"
   ]
  },
  {
   "cell_type": "code",
   "execution_count": 191,
   "metadata": {},
   "outputs": [],
   "source": [
    "#The dataframe types were set to object, so reset the column datatypes to numeric to enable plots and calculations\n",
    "seattleCPI_apparel_df[\"Seattle Apparel CPI\"]= pd.to_numeric(seattleCPI_apparel_df[\"Seattle Apparel CPI\"])\n",
    "\n",
    "seattleCPI_FoodAway_df[\"Seattle Food Away from Home CPI\"]= pd.to_numeric(seattleCPI_FoodAway_df[\"Seattle Food Away from Home CPI\"])\n",
    "\n",
    "seattleCPI_RentalEquivalent_df[\"Seattle Housing CPI\"]= pd.to_numeric(seattleCPI_RentalEquivalent_df[\"Seattle Housing CPI\"])\n"
   ]
  },
  {
   "cell_type": "code",
   "execution_count": 192,
   "metadata": {},
   "outputs": [],
   "source": [
    "# Calculate percent change for each df\n",
    "seattleCPI_apparel_pctchange = seattleCPI_apparel_df.pct_change()\n",
    "\n",
    "seattleCPI_FoodAway_pctchange = seattleCPI_FoodAway_df.pct_change()\n",
    "\n",
    "seattleCPI_RentalEquivalent_pctchange = seattleCPI_RentalEquivalent_df.pct_change()\n"
   ]
  },
  {
   "cell_type": "code",
   "execution_count": 193,
   "metadata": {},
   "outputs": [
    {
     "data": {
      "text/html": [
       "<div>\n",
       "<style scoped>\n",
       "    .dataframe tbody tr th:only-of-type {\n",
       "        vertical-align: middle;\n",
       "    }\n",
       "\n",
       "    .dataframe tbody tr th {\n",
       "        vertical-align: top;\n",
       "    }\n",
       "\n",
       "    .dataframe thead th {\n",
       "        text-align: right;\n",
       "    }\n",
       "</style>\n",
       "<table border=\"1\" class=\"dataframe\">\n",
       "  <thead>\n",
       "    <tr style=\"text-align: right;\">\n",
       "      <th></th>\n",
       "      <th>Seattle Apparel CPI</th>\n",
       "      <th>Seattle Food Away from Home CPI</th>\n",
       "      <th>Seattle Housing CPI</th>\n",
       "    </tr>\n",
       "    <tr>\n",
       "      <th>Year</th>\n",
       "      <th></th>\n",
       "      <th></th>\n",
       "      <th></th>\n",
       "    </tr>\n",
       "  </thead>\n",
       "  <tbody>\n",
       "    <tr>\n",
       "      <th>2012</th>\n",
       "      <td>136.170</td>\n",
       "      <td>259.603</td>\n",
       "      <td>283.351</td>\n",
       "    </tr>\n",
       "    <tr>\n",
       "      <th>2013</th>\n",
       "      <td>133.148</td>\n",
       "      <td>266.493</td>\n",
       "      <td>291.631</td>\n",
       "    </tr>\n",
       "    <tr>\n",
       "      <th>2014</th>\n",
       "      <td>130.279</td>\n",
       "      <td>271.982</td>\n",
       "      <td>305.272</td>\n",
       "    </tr>\n",
       "    <tr>\n",
       "      <th>2015</th>\n",
       "      <td>129.292</td>\n",
       "      <td>278.738</td>\n",
       "      <td>320.433</td>\n",
       "    </tr>\n",
       "    <tr>\n",
       "      <th>2016</th>\n",
       "      <td>130.264</td>\n",
       "      <td>287.958</td>\n",
       "      <td>339.302</td>\n",
       "    </tr>\n",
       "    <tr>\n",
       "      <th>2017</th>\n",
       "      <td>130.814</td>\n",
       "      <td>296.622</td>\n",
       "      <td>360.153</td>\n",
       "    </tr>\n",
       "    <tr>\n",
       "      <th>2018</th>\n",
       "      <td>127.582</td>\n",
       "      <td>305.532</td>\n",
       "      <td>382.350</td>\n",
       "    </tr>\n",
       "    <tr>\n",
       "      <th>2019</th>\n",
       "      <td>128.442</td>\n",
       "      <td>314.927</td>\n",
       "      <td>400.300</td>\n",
       "    </tr>\n",
       "    <tr>\n",
       "      <th>2020</th>\n",
       "      <td>124.045</td>\n",
       "      <td>329.670</td>\n",
       "      <td>414.762</td>\n",
       "    </tr>\n",
       "    <tr>\n",
       "      <th>2021</th>\n",
       "      <td>128.658</td>\n",
       "      <td>351.230</td>\n",
       "      <td>420.217</td>\n",
       "    </tr>\n",
       "  </tbody>\n",
       "</table>\n",
       "</div>"
      ],
      "text/plain": [
       "      Seattle Apparel CPI  Seattle Food Away from Home CPI  \\\n",
       "Year                                                         \n",
       "2012              136.170                          259.603   \n",
       "2013              133.148                          266.493   \n",
       "2014              130.279                          271.982   \n",
       "2015              129.292                          278.738   \n",
       "2016              130.264                          287.958   \n",
       "2017              130.814                          296.622   \n",
       "2018              127.582                          305.532   \n",
       "2019              128.442                          314.927   \n",
       "2020              124.045                          329.670   \n",
       "2021              128.658                          351.230   \n",
       "\n",
       "      Seattle Housing CPI  \n",
       "Year                       \n",
       "2012              283.351  \n",
       "2013              291.631  \n",
       "2014              305.272  \n",
       "2015              320.433  \n",
       "2016              339.302  \n",
       "2017              360.153  \n",
       "2018              382.350  \n",
       "2019              400.300  \n",
       "2020              414.762  \n",
       "2021              420.217  "
      ]
     },
     "execution_count": 193,
     "metadata": {},
     "output_type": "execute_result"
    }
   ],
   "source": [
    "# Combine all dataframes together\n",
    "list_of_df = [seattleCPI_apparel_df, seattleCPI_FoodAway_df, seattleCPI_RentalEquivalent_df]\n",
    "seattle_CPI_data= pd.concat(list_of_df, join='inner', axis='columns')\n",
    "seattle_CPI_data"
   ]
  },
  {
   "cell_type": "code",
   "execution_count": 194,
   "metadata": {},
   "outputs": [
    {
     "data": {
      "text/plain": [
       "<matplotlib.axes._subplots.AxesSubplot at 0x1bed1ee1348>"
      ]
     },
     "execution_count": 194,
     "metadata": {},
     "output_type": "execute_result"
    },
    {
     "data": {
      "image/png": "[encoded data removed]",
      "text/plain": [
       "<Figure size 432x288 with 1 Axes>"
      ]
     },
     "metadata": {
      "needs_background": "light"
     },
     "output_type": "display_data"
    }
   ],
   "source": [
    "# Calculate the percent change for the data\n",
    "seattle_pct_chg = seattle_CPI_data.pct_change()\n",
    "\n",
    "# Sample plot\n",
    "seattle_pct_chg.plot()"
   ]
  },
  {
   "cell_type": "code",
   "execution_count": 195,
   "metadata": {},
   "outputs": [
    {
     "data": {
      "text/plain": [
       "str"
      ]
     },
     "execution_count": 195,
     "metadata": {},
     "output_type": "execute_result"
    }
   ],
   "source": [
    "# Retreive API keys\n",
    "public_key = os.getenv(\"ALPACA_API_KEY\")\n",
    "private_key = os.getenv(\"ALPACA_SECRET_KEY\")\n",
    "type(private_key)"
   ]
  },
  {
   "cell_type": "code",
   "execution_count": 196,
   "metadata": {},
   "outputs": [],
   "source": [
    "# Create alpacas connection object\n",
    "alpacas = tradeapi.REST(public_key, private_key, api_version=\"v2\")"
   ]
  },
  {
   "cell_type": "code",
   "execution_count": 197,
   "metadata": {},
   "outputs": [],
   "source": [
    "# Set timeframe for data\n",
    "start = pd.Timestamp(\"2012-01-01\", tz=\"America/New_York\").isoformat()\n",
    "end = pd.Timestamp(\"2021-12-31\", tz=\"America/New_York\").isoformat()\n",
    "timeframe=\"1Day\""
   ]
  },
  {
   "cell_type": "code",
   "execution_count": 198,
   "metadata": {},
   "outputs": [],
   "source": [
    "# Create lists for tickers\n",
    "real_estate = [\"TSCO\",\"DHI\",\"LOW\",\"LGIH\"]\n",
    "apparel = [\"NKE\", \"UA\",\"GPS\", \"LULU\", \"JWN\"]\n",
    "pleasure_food = [\"MCD\",\"YUM\", \"DRI\", \"QSR\"]\n",
    "\n",
    "#Create a function to get stock data\n",
    "def alpacas_api(symbols,timeframe, start,end):\n",
    "    dataframe = alpacas.get_bars(symbols, timeframe=timeframe, start=start, end=end).df\n",
    "    new_df = dataframe[['open','close','trade_count', 'symbol']]\n",
    "\n",
    "    return new_df\n",
    "\n",
    "# Run function to grab stocks from each industry we are researching\n",
    "Real_Estate_stocks = alpacas_api(real_estate, timeframe,start,end)\n",
    "Apparel_stocks = alpacas_api(apparel, timeframe,start,end)\n",
    "Food_stocks = alpacas_api(pleasure_food, timeframe,start,end)"
   ]
  },
  {
   "cell_type": "code",
   "execution_count": 199,
   "metadata": {},
   "outputs": [],
   "source": [
    "# Create pivot tables for closing prices\n",
    "Real_Estate_close = Real_Estate_stocks.pivot_table(values=\"close\", index=\"timestamp\",columns=\"symbol\")\n",
    "Apparel_close = Apparel_stocks.pivot_table(values=\"close\", index=\"timestamp\",columns=\"symbol\")\n",
    "Food_close = Food_stocks.pivot_table(values=\"close\", index=\"timestamp\",columns=\"symbol\")"
   ]
  },
  {
   "cell_type": "code",
   "execution_count": 200,
   "metadata": {},
   "outputs": [
    {
     "data": {
      "text/html": [
       "<div>\n",
       "<style scoped>\n",
       "    .dataframe tbody tr th:only-of-type {\n",
       "        vertical-align: middle;\n",
       "    }\n",
       "\n",
       "    .dataframe tbody tr th {\n",
       "        vertical-align: top;\n",
       "    }\n",
       "\n",
       "    .dataframe thead th {\n",
       "        text-align: right;\n",
       "    }\n",
       "</style>\n",
       "<table border=\"1\" class=\"dataframe\">\n",
       "  <thead>\n",
       "    <tr style=\"text-align: right;\">\n",
       "      <th></th>\n",
       "      <th>close</th>\n",
       "    </tr>\n",
       "    <tr>\n",
       "      <th>timestamp</th>\n",
       "      <th></th>\n",
       "    </tr>\n",
       "  </thead>\n",
       "  <tbody>\n",
       "    <tr>\n",
       "      <th>2016</th>\n",
       "      <td>-0.022360</td>\n",
       "    </tr>\n",
       "    <tr>\n",
       "      <th>2017</th>\n",
       "      <td>0.029060</td>\n",
       "    </tr>\n",
       "    <tr>\n",
       "      <th>2018</th>\n",
       "      <td>0.231439</td>\n",
       "    </tr>\n",
       "    <tr>\n",
       "      <th>2019</th>\n",
       "      <td>0.170760</td>\n",
       "    </tr>\n",
       "    <tr>\n",
       "      <th>2020</th>\n",
       "      <td>0.275063</td>\n",
       "    </tr>\n",
       "    <tr>\n",
       "      <th>2021</th>\n",
       "      <td>0.536315</td>\n",
       "    </tr>\n",
       "  </tbody>\n",
       "</table>\n",
       "</div>"
      ],
      "text/plain": [
       "              close\n",
       "timestamp          \n",
       "2016      -0.022360\n",
       "2017       0.029060\n",
       "2018       0.231439\n",
       "2019       0.170760\n",
       "2020       0.275063\n",
       "2021       0.536315"
      ]
     },
     "execution_count": 200,
     "metadata": {},
     "output_type": "execute_result"
    }
   ],
   "source": [
    "\n",
    "# Create function to reformat data to annual timeframe + percent change + reset index to year\n",
    "def reformat_data(dataframe):\n",
    "    dataframe = dataframe.resample(\"Y\").mean()\n",
    "\n",
    "    dataframe = dataframe[\"close\"].pct_change()\n",
    "    dataframe.index =dataframe.index.year\n",
    "    return dataframe\n",
    "\n",
    "# Run the function through stock dataframes and create new variables\n",
    "Real_estate_stock_annual = reformat_data(Real_Estate_stocks)\n",
    "Apparel_stock_annual = reformat_data(Apparel_stocks)\n",
    "Food_stock_annual = reformat_data(Food_stocks)\n",
    "\n",
    "Real_estate_stock_annual = pd.DataFrame(Real_estate_stock_annual).dropna()\n",
    "Apparel_stock_annual = pd.DataFrame(Apparel_stock_annual).dropna()\n",
    "Food_stock_annual = pd.DataFrame(Food_stock_annual).dropna()\n",
    "\n",
    "# Real_estate_stock_annual.index.names = [\"Year\"]\n",
    "# seattleCPI_RentalEquivalent_df.reset_index(drop=True, inplace=True)\n",
    "\n",
    "\n",
    "Real_estate_stock_annual\n",
    "\n",
    "\n"
   ]
  },
  {
   "cell_type": "code",
   "execution_count": 201,
   "metadata": {},
   "outputs": [
    {
     "data": {},
     "metadata": {},
     "output_type": "display_data"
    },
    {
     "data": {
      "application/vnd.holoviews_exec.v0+json": "",
      "text/html": [
       "<div id='5554'>\n",
       "\n",
       "\n",
       "\n",
       "\n",
       "\n",
       "  <div class=\"bk-root\" id=\"6e088dbc-82a4-47a6-b53b-178df0f10f54\" data-root-id=\"5554\"></div>\n",
       "</div>\n",
       "<script type=\"application/javascript\">(function(root) {\n",
       "  function embed_document(root) {\n",
       "    var docs_json = {\"d8e5cf01-33f0-43c8-b86b-7d6f1ea0e5d9\":{\"defs\":[{\"extends\":null,\"module\":null,\"name\":\"ReactiveHTML1\",\"overrides\":[],\"properties\":[]},{\"extends\":null,\"module\":null,\"name\":\"FlexBox1\",\"overrides\":[],\"properties\":[{\"default\":\"flex-start\",\"kind\":null,\"name\":\"align_content\"},{\"default\":\"flex-start\",\"kind\":null,\"name\":\"align_items\"},{\"default\":\"row\",\"kind\":null,\"name\":\"flex_direction\"},{\"default\":\"wrap\",\"kind\":null,\"name\":\"flex_wrap\"},{\"default\":\"flex-start\",\"kind\":null,\"name\":\"justify_content\"}]},{\"extends\":null,\"module\":null,\"name\":\"TemplateActions1\",\"overrides\":[],\"properties\":[{\"default\":0,\"kind\":null,\"name\":\"open_modal\"},{\"default\":0,\"kind\":null,\"name\":\"close_modal\"}]},{\"extends\":null,\"module\":null,\"name\":\"MaterialTemplateActions1\",\"overrides\":[],\"properties\":[{\"default\":0,\"kind\":null,\"name\":\"open_modal\"},{\"default\":0,\"kind\":null,\"name\":\"close_modal\"}]}],\"roots\":{\"references\":[{\"attributes\":{\"line_alpha\":0.2,\"line_color\":\"#fc4f30\",\"line_width\":2,\"x\":{\"field\":\"index\"},\"y\":{\"field\":\"value\"}},\"id\":\"5622\",\"type\":\"Line\"},{\"attributes\":{\"callback\":null,\"renderers\":[{\"id\":\"5602\"},{\"id\":\"5623\"}],\"tags\":[\"hv_created\"],\"tooltips\":[[\"Variable\",\"@{Variable}\"],[\"index\",\"@{index}\"],[\"value\",\"@{value}\"]]},\"id\":\"5558\",\"type\":\"HoverTool\"},{\"attributes\":{\"coordinates\":null,\"group\":null,\"text_color\":\"black\",\"text_font_size\":\"12pt\"},\"id\":\"5561\",\"type\":\"Title\"},{\"attributes\":{\"click_policy\":\"mute\",\"coordinates\":null,\"group\":null,\"items\":[{\"id\":\"5615\"},{\"id\":\"5637\"}],\"location\":[0,0],\"title\":\"Variable\"},\"id\":\"5614\",\"type\":\"Legend\"},{\"attributes\":{\"axis\":{\"id\":\"5569\"},\"coordinates\":null,\"grid_line_color\":null,\"group\":null,\"ticker\":null},\"id\":\"5572\",\"type\":\"Grid\"},{\"attributes\":{\"line_color\":\"#fc4f30\",\"line_width\":2,\"x\":{\"field\":\"index\"},\"y\":{\"field\":\"value\"}},\"id\":\"5638\",\"type\":\"Line\"},{\"attributes\":{},\"id\":\"5574\",\"type\":\"BasicTicker\"},{\"attributes\":{\"axis_label\":\"Annual Percent Change\",\"coordinates\":null,\"formatter\":{\"id\":\"5594\"},\"group\":null,\"major_label_policy\":{\"id\":\"5595\"},\"ticker\":{\"id\":\"5574\"}},\"id\":\"5573\",\"type\":\"LinearAxis\"},{\"attributes\":{},\"id\":\"5594\",\"type\":\"BasicTickFormatter\"},{\"attributes\":{},\"id\":\"5565\",\"type\":\"LinearScale\"},{\"attributes\":{},\"id\":\"5570\",\"type\":\"BasicTicker\"},{\"attributes\":{},\"id\":\"5611\",\"type\":\"UnionRenderers\"},{\"attributes\":{\"below\":[{\"id\":\"5569\"}],\"center\":[{\"id\":\"5572\"},{\"id\":\"5576\"}],\"height\":300,\"left\":[{\"id\":\"5573\"}],\"margin\":[5,5,5,5],\"min_border_bottom\":10,\"min_border_left\":10,\"min_border_right\":10,\"min_border_top\":10,\"renderers\":[{\"id\":\"5602\"},{\"id\":\"5623\"}],\"right\":[{\"id\":\"5614\"}],\"sizing_mode\":\"fixed\",\"title\":{\"id\":\"5561\"},\"toolbar\":{\"id\":\"5583\"},\"width\":700,\"x_range\":{\"id\":\"5556\"},\"x_scale\":{\"id\":\"5565\"},\"y_range\":{\"id\":\"5557\"},\"y_scale\":{\"id\":\"5567\"}},\"id\":\"5560\",\"subtype\":\"Figure\",\"type\":\"Plot\"},{\"attributes\":{\"line_alpha\":0.2,\"line_color\":\"#30a2da\",\"line_width\":2,\"x\":{\"field\":\"index\"},\"y\":{\"field\":\"value\"}},\"id\":\"5601\",\"type\":\"Line\"},{\"attributes\":{\"axis_label\":\"Year\",\"coordinates\":null,\"formatter\":{\"id\":\"5591\"},\"group\":null,\"major_label_policy\":{\"id\":\"5592\"},\"ticker\":{\"id\":\"5570\"}},\"id\":\"5569\",\"type\":\"LinearAxis\"},{\"attributes\":{\"line_color\":\"#30a2da\",\"line_width\":2,\"x\":{\"field\":\"index\"},\"y\":{\"field\":\"value\"}},\"id\":\"5616\",\"type\":\"Line\"},{\"attributes\":{\"line_color\":\"#fc4f30\",\"line_width\":2,\"x\":{\"field\":\"index\"},\"y\":{\"field\":\"value\"}},\"id\":\"5620\",\"type\":\"Line\"},{\"attributes\":{},\"id\":\"5567\",\"type\":\"LinearScale\"},{\"attributes\":{\"axis\":{\"id\":\"5573\"},\"coordinates\":null,\"dimension\":1,\"grid_line_color\":null,\"group\":null,\"ticker\":null},\"id\":\"5576\",\"type\":\"Grid\"},{\"attributes\":{\"line_alpha\":0.1,\"line_color\":\"#30a2da\",\"line_width\":2,\"x\":{\"field\":\"index\"},\"y\":{\"field\":\"value\"}},\"id\":\"5600\",\"type\":\"Line\"},{\"attributes\":{\"margin\":[5,5,5,5],\"name\":\"HSpacer10143\",\"sizing_mode\":\"stretch_width\"},\"id\":\"5555\",\"type\":\"Spacer\"},{\"attributes\":{},\"id\":\"5597\",\"type\":\"Selection\"},{\"attributes\":{\"coordinates\":null,\"data_source\":{\"id\":\"5617\"},\"glyph\":{\"id\":\"5620\"},\"group\":null,\"hover_glyph\":null,\"muted_glyph\":{\"id\":\"5622\"},\"nonselection_glyph\":{\"id\":\"5621\"},\"selection_glyph\":{\"id\":\"5638\"},\"view\":{\"id\":\"5624\"}},\"id\":\"5623\",\"type\":\"GlyphRenderer\"},{\"attributes\":{\"label\":{\"value\":\"Commerical Food stocks\"},\"renderers\":[{\"id\":\"5602\"}]},\"id\":\"5615\",\"type\":\"LegendItem\"},{\"attributes\":{\"end\":2021.0,\"reset_end\":2021.0,\"reset_start\":2016.0,\"start\":2016.0,\"tags\":[[[\"index\",\"index\",null]]]},\"id\":\"5556\",\"type\":\"Range1d\"},{\"attributes\":{\"margin\":[5,5,5,5],\"name\":\"HSpacer10144\",\"sizing_mode\":\"stretch_width\"},\"id\":\"5747\",\"type\":\"Spacer\"},{\"attributes\":{\"label\":{\"value\":\"Seattle Commerical Food CPI\"},\"renderers\":[{\"id\":\"5623\"}]},\"id\":\"5637\",\"type\":\"LegendItem\"},{\"attributes\":{},\"id\":\"5618\",\"type\":\"Selection\"},{\"attributes\":{\"source\":{\"id\":\"5596\"}},\"id\":\"5603\",\"type\":\"CDSView\"},{\"attributes\":{},\"id\":\"5595\",\"type\":\"AllLabels\"},{\"attributes\":{\"line_color\":\"#30a2da\",\"line_width\":2,\"x\":{\"field\":\"index\"},\"y\":{\"field\":\"value\"}},\"id\":\"5599\",\"type\":\"Line\"},{\"attributes\":{},\"id\":\"5592\",\"type\":\"AllLabels\"},{\"attributes\":{\"tools\":[{\"id\":\"5558\"},{\"id\":\"5577\"},{\"id\":\"5578\"},{\"id\":\"5579\"},{\"id\":\"5580\"},{\"id\":\"5581\"}]},\"id\":\"5583\",\"type\":\"Toolbar\"},{\"attributes\":{\"coordinates\":null,\"data_source\":{\"id\":\"5596\"},\"glyph\":{\"id\":\"5599\"},\"group\":null,\"hover_glyph\":null,\"muted_glyph\":{\"id\":\"5601\"},\"nonselection_glyph\":{\"id\":\"5600\"},\"selection_glyph\":{\"id\":\"5616\"},\"view\":{\"id\":\"5603\"}},\"id\":\"5602\",\"type\":\"GlyphRenderer\"},{\"attributes\":{\"data\":{\"Variable\":[\"Seattle Commerical Food CPI\",\"Seattle Commerical Food CPI\",\"Seattle Commerical Food CPI\",\"Seattle Commerical Food CPI\",\"Seattle Commerical Food CPI\",\"Seattle Commerical Food CPI\"],\"index\":[2016,2017,2018,2019,2020,2021],\"value\":{\"__ndarray__\":\"QHdq/43voD+AQ/3IUM+eP8D4FIZXwp4/gFpooNV8nz8gmW74AfinP5C2a6f4vbA/\",\"dtype\":\"float64\",\"order\":\"little\",\"shape\":[6]}},\"selected\":{\"id\":\"5618\"},\"selection_policy\":{\"id\":\"5634\"}},\"id\":\"5617\",\"type\":\"ColumnDataSource\"},{\"attributes\":{\"bottom_units\":\"screen\",\"coordinates\":null,\"fill_alpha\":0.5,\"fill_color\":\"lightgrey\",\"group\":null,\"left_units\":\"screen\",\"level\":\"overlay\",\"line_alpha\":1.0,\"line_color\":\"black\",\"line_dash\":[4,4],\"line_width\":2,\"right_units\":\"screen\",\"syncable\":false,\"top_units\":\"screen\"},\"id\":\"5582\",\"type\":\"BoxAnnotation\"},{\"attributes\":{},\"id\":\"5577\",\"type\":\"SaveTool\"},{\"attributes\":{\"end\":0.31131401640837897,\"reset_end\":0.31131401640837897,\"reset_start\":-0.13349500087394628,\"start\":-0.13349500087394628,\"tags\":[[[\"value\",\"value\",null]]]},\"id\":\"5557\",\"type\":\"Range1d\"},{\"attributes\":{},\"id\":\"5578\",\"type\":\"PanTool\"},{\"attributes\":{},\"id\":\"5581\",\"type\":\"ResetTool\"},{\"attributes\":{\"data\":{\"Variable\":[\"Commerical Food stocks\",\"Commerical Food stocks\",\"Commerical Food stocks\",\"Commerical Food stocks\",\"Commerical Food stocks\",\"Commerical Food stocks\"],\"index\":[2016,2017,2018,2019,2020,2021],\"value\":{\"__ndarray__\":\"kGmphkSDsD/YbFWbnO7HP0BbBoyvpMA/QNg9xMaQxz9Yvmpieq+4vySir5pBjdE/\",\"dtype\":\"float64\",\"order\":\"little\",\"shape\":[6]}},\"selected\":{\"id\":\"5597\"},\"selection_policy\":{\"id\":\"5611\"}},\"id\":\"5596\",\"type\":\"ColumnDataSource\"},{\"attributes\":{},\"id\":\"5579\",\"type\":\"WheelZoomTool\"},{\"attributes\":{\"line_alpha\":0.1,\"line_color\":\"#fc4f30\",\"line_width\":2,\"x\":{\"field\":\"index\"},\"y\":{\"field\":\"value\"}},\"id\":\"5621\",\"type\":\"Line\"},{\"attributes\":{\"overlay\":{\"id\":\"5582\"}},\"id\":\"5580\",\"type\":\"BoxZoomTool\"},{\"attributes\":{},\"id\":\"5634\",\"type\":\"UnionRenderers\"},{\"attributes\":{},\"id\":\"5591\",\"type\":\"BasicTickFormatter\"},{\"attributes\":{\"children\":[{\"id\":\"5555\"},{\"id\":\"5560\"},{\"id\":\"5747\"}],\"margin\":[0,0,0,0],\"name\":\"Row10139\",\"tags\":[\"embedded\"]},\"id\":\"5554\",\"type\":\"Row\"},{\"attributes\":{\"source\":{\"id\":\"5617\"}},\"id\":\"5624\",\"type\":\"CDSView\"}],\"root_ids\":[\"5554\"]},\"title\":\"Bokeh Application\",\"version\":\"2.4.2\"}};\n",
       "    var render_items = [{\"docid\":\"d8e5cf01-33f0-43c8-b86b-7d6f1ea0e5d9\",\"root_ids\":[\"5554\"],\"roots\":{\"5554\":\"6e088dbc-82a4-47a6-b53b-178df0f10f54\"}}];\n",
       "    root.Bokeh.embed.embed_items_notebook(docs_json, render_items);\n",
       "  }\n",
       "  if (root.Bokeh !== undefined && root.Bokeh.Panel !== undefined) {\n",
       "    embed_document(root);\n",
       "  } else {\n",
       "    var attempts = 0;\n",
       "    var timer = setInterval(function(root) {\n",
       "      if (root.Bokeh !== undefined && root.Bokeh.Panel !== undefined) {\n",
       "        clearInterval(timer);\n",
       "        embed_document(root);\n",
       "      } else if (document.readyState == \"complete\") {\n",
       "        attempts++;\n",
       "        if (attempts > 200) {\n",
       "          clearInterval(timer);\n",
       "          console.log(\"Bokeh: ERROR: Unable to run BokehJS code because BokehJS library is missing\");\n",
       "        }\n",
       "      }\n",
       "    }, 25, root)\n",
       "  }\n",
       "})(window);</script>"
      ],
      "text/plain": [
       ":NdOverlay   [Variable]\n",
       "   :Curve   [index]   (value)"
      ]
     },
     "execution_count": 201,
     "metadata": {
      "application/vnd.holoviews_exec.v0+json": {
       "id": "5554"
      }
     },
     "output_type": "execute_result"
    }
   ],
   "source": [
    "# Create function to combine stock data with CPI data\n",
    "def concat_stocks_cpi(stock, cpi):\n",
    "    df = pd.concat([stock,cpi], axis=1, join= \"inner\")\n",
    "    return df \n",
    "\n",
    "# Run function for CPI and stock dataframes to combine corresponding data into dataframes\n",
    "Housing_combined = concat_stocks_cpi(Real_estate_stock_annual, seattleCPI_RentalEquivalent_pctchange)\n",
    "Housing_combined.columns = ['Real Estate stocks', 'Seattle Housing CPI']\n",
    "Housing_plot = Housing_combined.hvplot.line(xlabel='Year', ylabel=\"Annual Percent Change\")\n",
    "\n",
    "apparel_combined = concat_stocks_cpi(Apparel_stock_annual, seattleCPI_apparel_pctchange)\n",
    "apparel_combined.columns = ['Apparel stocks', \"Seattle Apparel CPI\"]\n",
    "apparel_plot = apparel_combined.hvplot.line(xlabel='Year', ylabel=\"Annual Percent Change\")\n",
    "\n",
    "food_combined = concat_stocks_cpi(Food_stock_annual, seattleCPI_FoodAway_pctchange)\n",
    "food_combined.columns = ['Commerical Food stocks', \"Seattle Commerical Food CPI\"]\n",
    "food_plot = food_combined.hvplot.line(xlabel='Year', ylabel=\"Annual Percent Change\")\n",
    "\n",
    "food_plot\n"
   ]
  },
  {
   "cell_type": "code",
   "execution_count": 206,
   "metadata": {},
   "outputs": [
    {
     "data": {},
     "metadata": {},
     "output_type": "display_data"
    },
    {
     "data": {
      "application/vnd.holoviews_exec.v0+json": "",
      "text/html": [
       "<div id='5931'>\n",
       "\n",
       "\n",
       "\n",
       "\n",
       "\n",
       "  <div class=\"bk-root\" id=\"af4d606a-e008-46a2-aa1e-69aadd1da03c\" data-root-id=\"5931\"></div>\n",
       "</div>\n",
       "<script type=\"application/javascript\">(function(root) {\n",
       "  function embed_document(root) {\n",
       "    var docs_json = {\"5b46fcae-2b9e-426b-918f-a6a10236b6a9\":{\"defs\":[{\"extends\":null,\"module\":null,\"name\":\"ReactiveHTML1\",\"overrides\":[],\"properties\":[]},{\"extends\":null,\"module\":null,\"name\":\"FlexBox1\",\"overrides\":[],\"properties\":[{\"default\":\"flex-start\",\"kind\":null,\"name\":\"align_content\"},{\"default\":\"flex-start\",\"kind\":null,\"name\":\"align_items\"},{\"default\":\"row\",\"kind\":null,\"name\":\"flex_direction\"},{\"default\":\"wrap\",\"kind\":null,\"name\":\"flex_wrap\"},{\"default\":\"flex-start\",\"kind\":null,\"name\":\"justify_content\"}]},{\"extends\":null,\"module\":null,\"name\":\"TemplateActions1\",\"overrides\":[],\"properties\":[{\"default\":0,\"kind\":null,\"name\":\"open_modal\"},{\"default\":0,\"kind\":null,\"name\":\"close_modal\"}]},{\"extends\":null,\"module\":null,\"name\":\"MaterialTemplateActions1\",\"overrides\":[],\"properties\":[{\"default\":0,\"kind\":null,\"name\":\"open_modal\"},{\"default\":0,\"kind\":null,\"name\":\"close_modal\"}]}],\"roots\":{\"references\":[{\"attributes\":{\"data\":{\"Variable\":[\"Commerical Food stocks\",\"Commerical Food stocks\",\"Commerical Food stocks\",\"Commerical Food stocks\",\"Commerical Food stocks\",\"Commerical Food stocks\"],\"index\":[2016,2017,2018,2019,2020,2021],\"value\":{\"__ndarray__\":\"kGmphkSDsD/YbFWbnO7HP0BbBoyvpMA/QNg9xMaQxz9Yvmpieq+4vySir5pBjdE/\",\"dtype\":\"float64\",\"order\":\"little\",\"shape\":[6]}},\"selected\":{\"id\":\"5978\"},\"selection_policy\":{\"id\":\"5992\"}},\"id\":\"5977\",\"type\":\"ColumnDataSource\"},{\"attributes\":{\"label\":{\"value\":\"Apparel stocks\"},\"renderers\":[{\"id\":\"6076\"}]},\"id\":\"6096\",\"type\":\"LegendItem\"},{\"attributes\":{\"margin\":[5,5,5,5],\"name\":\"HSpacer11007\",\"sizing_mode\":\"stretch_width\"},\"id\":\"6308\",\"type\":\"Spacer\"},{\"attributes\":{\"axis_label\":\"\",\"coordinates\":null,\"formatter\":{\"id\":\"5975\"},\"group\":null,\"major_label_policy\":{\"id\":\"5976\"},\"ticker\":{\"id\":\"5955\"}},\"id\":\"5954\",\"type\":\"LinearAxis\"},{\"attributes\":{\"coordinates\":null,\"data_source\":{\"id\":\"6098\"},\"glyph\":{\"id\":\"6101\"},\"group\":null,\"hover_glyph\":null,\"muted_glyph\":{\"id\":\"6103\"},\"nonselection_glyph\":{\"id\":\"6102\"},\"selection_glyph\":{\"id\":\"6127\"},\"view\":{\"id\":\"6105\"}},\"id\":\"6104\",\"type\":\"GlyphRenderer\"},{\"attributes\":{\"label\":{\"value\":\"Commerical Food stocks\"},\"renderers\":[{\"id\":\"5983\"}]},\"id\":\"5996\",\"type\":\"LegendItem\"},{\"attributes\":{},\"id\":\"5955\",\"type\":\"BasicTicker\"},{\"attributes\":{\"line_alpha\":0.2,\"line_color\":\"#8b8b8b\",\"line_width\":2,\"x\":{\"field\":\"index\"},\"y\":{\"field\":\"value\"}},\"id\":\"6075\",\"type\":\"Line\"},{\"attributes\":{\"axis\":{\"id\":\"5954\"},\"coordinates\":null,\"dimension\":1,\"grid_line_color\":null,\"group\":null,\"ticker\":null},\"id\":\"5957\",\"type\":\"Grid\"},{\"attributes\":{\"line_color\":\"#e5ae38\",\"line_width\":2,\"x\":{\"field\":\"index\"},\"y\":{\"field\":\"value\"}},\"id\":\"6043\",\"type\":\"Line\"},{\"attributes\":{\"source\":{\"id\":\"5998\"}},\"id\":\"6005\",\"type\":\"CDSView\"},{\"attributes\":{\"source\":{\"id\":\"6044\"}},\"id\":\"6051\",\"type\":\"CDSView\"},{\"attributes\":{\"line_alpha\":0.1,\"line_color\":\"#e5ae38\",\"line_width\":2,\"x\":{\"field\":\"index\"},\"y\":{\"field\":\"value\"}},\"id\":\"6024\",\"type\":\"Line\"},{\"attributes\":{\"line_alpha\":0.1,\"line_color\":\"#17becf\",\"line_width\":2,\"x\":{\"field\":\"index\"},\"y\":{\"field\":\"value\"}},\"id\":\"6102\",\"type\":\"Line\"},{\"attributes\":{\"click_policy\":\"mute\",\"coordinates\":null,\"group\":null,\"items\":[{\"id\":\"5996\"},{\"id\":\"6018\"},{\"id\":\"6042\"},{\"id\":\"6068\"},{\"id\":\"6096\"},{\"id\":\"6126\"}],\"location\":[0,0],\"title\":\"Variable\"},\"id\":\"5995\",\"type\":\"Legend\"},{\"attributes\":{},\"id\":\"5951\",\"type\":\"BasicTicker\"},{\"attributes\":{},\"id\":\"6065\",\"type\":\"UnionRenderers\"},{\"attributes\":{\"tools\":[{\"id\":\"5935\"},{\"id\":\"5958\"},{\"id\":\"5959\"},{\"id\":\"5960\"},{\"id\":\"5961\"},{\"id\":\"5962\"}]},\"id\":\"5964\",\"type\":\"Toolbar\"},{\"attributes\":{\"source\":{\"id\":\"6020\"}},\"id\":\"6027\",\"type\":\"CDSView\"},{\"attributes\":{\"bottom_units\":\"screen\",\"coordinates\":null,\"fill_alpha\":0.5,\"fill_color\":\"lightgrey\",\"group\":null,\"left_units\":\"screen\",\"level\":\"overlay\",\"line_alpha\":1.0,\"line_color\":\"black\",\"line_dash\":[4,4],\"line_width\":2,\"right_units\":\"screen\",\"syncable\":false,\"top_units\":\"screen\"},\"id\":\"5963\",\"type\":\"BoxAnnotation\"},{\"attributes\":{\"line_color\":\"#30a2da\",\"line_width\":2,\"x\":{\"field\":\"index\"},\"y\":{\"field\":\"value\"}},\"id\":\"5997\",\"type\":\"Line\"},{\"attributes\":{\"label\":{\"value\":\"Seattle Apparel CPI\"},\"renderers\":[{\"id\":\"6104\"}]},\"id\":\"6126\",\"type\":\"LegendItem\"},{\"attributes\":{},\"id\":\"5958\",\"type\":\"SaveTool\"},{\"attributes\":{\"line_color\":\"#fc4f30\",\"line_width\":2,\"x\":{\"field\":\"index\"},\"y\":{\"field\":\"value\"}},\"id\":\"6001\",\"type\":\"Line\"},{\"attributes\":{\"line_color\":\"#17becf\",\"line_width\":2,\"x\":{\"field\":\"index\"},\"y\":{\"field\":\"value\"}},\"id\":\"6127\",\"type\":\"Line\"},{\"attributes\":{},\"id\":\"5959\",\"type\":\"PanTool\"},{\"attributes\":{},\"id\":\"6021\",\"type\":\"Selection\"},{\"attributes\":{},\"id\":\"5962\",\"type\":\"ResetTool\"},{\"attributes\":{\"below\":[{\"id\":\"5950\"}],\"center\":[{\"id\":\"5953\"},{\"id\":\"5957\"}],\"height\":300,\"left\":[{\"id\":\"5954\"}],\"margin\":[5,5,5,5],\"min_border_bottom\":10,\"min_border_left\":10,\"min_border_right\":10,\"min_border_top\":10,\"renderers\":[{\"id\":\"5983\"},{\"id\":\"6004\"},{\"id\":\"6026\"},{\"id\":\"6050\"},{\"id\":\"6076\"},{\"id\":\"6104\"}],\"right\":[{\"id\":\"5995\"}],\"sizing_mode\":\"fixed\",\"title\":{\"id\":\"5942\"},\"toolbar\":{\"id\":\"5964\"},\"width\":700,\"x_range\":{\"id\":\"5933\"},\"x_scale\":{\"id\":\"5946\"},\"y_range\":{\"id\":\"5934\"},\"y_scale\":{\"id\":\"5948\"}},\"id\":\"5941\",\"subtype\":\"Figure\",\"type\":\"Plot\"},{\"attributes\":{\"line_color\":\"#8b8b8b\",\"line_width\":2,\"x\":{\"field\":\"index\"},\"y\":{\"field\":\"value\"}},\"id\":\"6073\",\"type\":\"Line\"},{\"attributes\":{},\"id\":\"6015\",\"type\":\"UnionRenderers\"},{\"attributes\":{},\"id\":\"5960\",\"type\":\"WheelZoomTool\"},{\"attributes\":{},\"id\":\"5999\",\"type\":\"Selection\"},{\"attributes\":{\"line_color\":\"#8b8b8b\",\"line_width\":2,\"x\":{\"field\":\"index\"},\"y\":{\"field\":\"value\"}},\"id\":\"6097\",\"type\":\"Line\"},{\"attributes\":{\"overlay\":{\"id\":\"5963\"}},\"id\":\"5961\",\"type\":\"BoxZoomTool\"},{\"attributes\":{},\"id\":\"6045\",\"type\":\"Selection\"},{\"attributes\":{},\"id\":\"5992\",\"type\":\"UnionRenderers\"},{\"attributes\":{},\"id\":\"6099\",\"type\":\"Selection\"},{\"attributes\":{},\"id\":\"5948\",\"type\":\"LinearScale\"},{\"attributes\":{\"line_alpha\":0.2,\"line_color\":\"#fc4f30\",\"line_width\":2,\"x\":{\"field\":\"index\"},\"y\":{\"field\":\"value\"}},\"id\":\"6003\",\"type\":\"Line\"},{\"attributes\":{\"coordinates\":null,\"data_source\":{\"id\":\"6020\"},\"glyph\":{\"id\":\"6023\"},\"group\":null,\"hover_glyph\":null,\"muted_glyph\":{\"id\":\"6025\"},\"nonselection_glyph\":{\"id\":\"6024\"},\"selection_glyph\":{\"id\":\"6043\"},\"view\":{\"id\":\"6027\"}},\"id\":\"6026\",\"type\":\"GlyphRenderer\"},{\"attributes\":{\"line_alpha\":0.1,\"line_color\":\"#30a2da\",\"line_width\":2,\"x\":{\"field\":\"index\"},\"y\":{\"field\":\"value\"}},\"id\":\"5981\",\"type\":\"Line\"},{\"attributes\":{},\"id\":\"6093\",\"type\":\"UnionRenderers\"},{\"attributes\":{\"coordinates\":null,\"data_source\":{\"id\":\"5998\"},\"glyph\":{\"id\":\"6001\"},\"group\":null,\"hover_glyph\":null,\"muted_glyph\":{\"id\":\"6003\"},\"nonselection_glyph\":{\"id\":\"6002\"},\"selection_glyph\":{\"id\":\"6019\"},\"view\":{\"id\":\"6005\"}},\"id\":\"6004\",\"type\":\"GlyphRenderer\"},{\"attributes\":{},\"id\":\"5976\",\"type\":\"AllLabels\"},{\"attributes\":{\"data\":{\"Variable\":[\"Seattle Apparel CPI\",\"Seattle Apparel CPI\",\"Seattle Apparel CPI\",\"Seattle Apparel CPI\",\"Seattle Apparel CPI\",\"Seattle Apparel CPI\"],\"index\":[2016,2017,2018,2019,2020,2021],\"value\":{\"__ndarray__\":\"AO5u7g3Lfj8AhhPSSktxP6D3lay/TJm/APyovDOcez8wtlShCIehv+AieyZSCqM/\",\"dtype\":\"float64\",\"order\":\"little\",\"shape\":[6]}},\"selected\":{\"id\":\"6099\"},\"selection_policy\":{\"id\":\"6123\"}},\"id\":\"6098\",\"type\":\"ColumnDataSource\"},{\"attributes\":{\"data\":{\"Variable\":[\"Seattle Housing CPI\",\"Seattle Housing CPI\",\"Seattle Housing CPI\",\"Seattle Housing CPI\",\"Seattle Housing CPI\",\"Seattle Housing CPI\"],\"index\":[2016,2017,2018,2019,2020,2021],\"value\":{\"__ndarray__\":\"QM+Ob0wmrj+AKIQRuHavP0B+kHA/jq8/YCvxpF8JqD+gj+xMW3+iP4D5sst/74o/\",\"dtype\":\"float64\",\"order\":\"little\",\"shape\":[6]}},\"selected\":{\"id\":\"6045\"},\"selection_policy\":{\"id\":\"6065\"}},\"id\":\"6044\",\"type\":\"ColumnDataSource\"},{\"attributes\":{},\"id\":\"5973\",\"type\":\"AllLabels\"},{\"attributes\":{\"coordinates\":null,\"data_source\":{\"id\":\"6070\"},\"glyph\":{\"id\":\"6073\"},\"group\":null,\"hover_glyph\":null,\"muted_glyph\":{\"id\":\"6075\"},\"nonselection_glyph\":{\"id\":\"6074\"},\"selection_glyph\":{\"id\":\"6097\"},\"view\":{\"id\":\"6077\"}},\"id\":\"6076\",\"type\":\"GlyphRenderer\"},{\"attributes\":{\"line_alpha\":0.2,\"line_color\":\"#17becf\",\"line_width\":2,\"x\":{\"field\":\"index\"},\"y\":{\"field\":\"value\"}},\"id\":\"6103\",\"type\":\"Line\"},{\"attributes\":{\"source\":{\"id\":\"5977\"}},\"id\":\"5984\",\"type\":\"CDSView\"},{\"attributes\":{\"source\":{\"id\":\"6098\"}},\"id\":\"6105\",\"type\":\"CDSView\"},{\"attributes\":{\"callback\":null,\"renderers\":[{\"id\":\"5983\"},{\"id\":\"6004\"},{\"id\":\"6026\"},{\"id\":\"6050\"},{\"id\":\"6076\"},{\"id\":\"6104\"}],\"tags\":[\"hv_created\"],\"tooltips\":[[\"Variable\",\"@{Variable}\"],[\"index\",\"@{index}\"],[\"value\",\"@{value}\"]]},\"id\":\"5935\",\"type\":\"HoverTool\"},{\"attributes\":{\"coordinates\":null,\"data_source\":{\"id\":\"6044\"},\"glyph\":{\"id\":\"6047\"},\"group\":null,\"hover_glyph\":null,\"muted_glyph\":{\"id\":\"6049\"},\"nonselection_glyph\":{\"id\":\"6048\"},\"selection_glyph\":{\"id\":\"6069\"},\"view\":{\"id\":\"6051\"}},\"id\":\"6050\",\"type\":\"GlyphRenderer\"},{\"attributes\":{\"line_alpha\":0.1,\"line_color\":\"#8b8b8b\",\"line_width\":2,\"x\":{\"field\":\"index\"},\"y\":{\"field\":\"value\"}},\"id\":\"6074\",\"type\":\"Line\"},{\"attributes\":{\"line_alpha\":0.2,\"line_color\":\"#30a2da\",\"line_width\":2,\"x\":{\"field\":\"index\"},\"y\":{\"field\":\"value\"}},\"id\":\"5982\",\"type\":\"Line\"},{\"attributes\":{\"line_alpha\":0.1,\"line_color\":\"#6d904f\",\"line_width\":2,\"x\":{\"field\":\"index\"},\"y\":{\"field\":\"value\"}},\"id\":\"6048\",\"type\":\"Line\"},{\"attributes\":{},\"id\":\"6071\",\"type\":\"Selection\"},{\"attributes\":{\"label\":{\"value\":\"Seattle Housing CPI\"},\"renderers\":[{\"id\":\"6050\"}]},\"id\":\"6068\",\"type\":\"LegendItem\"},{\"attributes\":{\"source\":{\"id\":\"6070\"}},\"id\":\"6077\",\"type\":\"CDSView\"},{\"attributes\":{},\"id\":\"6123\",\"type\":\"UnionRenderers\"},{\"attributes\":{\"label\":{\"value\":\"Real Estate stocks\"},\"renderers\":[{\"id\":\"6026\"}]},\"id\":\"6042\",\"type\":\"LegendItem\"},{\"attributes\":{\"children\":[{\"id\":\"5932\"},{\"id\":\"5941\"},{\"id\":\"6308\"}],\"margin\":[0,0,0,0],\"name\":\"Row11002\",\"tags\":[\"embedded\"]},\"id\":\"5931\",\"type\":\"Row\"},{\"attributes\":{\"coordinates\":null,\"group\":null,\"text_color\":\"black\",\"text_font_size\":\"12pt\"},\"id\":\"5942\",\"type\":\"Title\"},{\"attributes\":{\"coordinates\":null,\"data_source\":{\"id\":\"5977\"},\"glyph\":{\"id\":\"5980\"},\"group\":null,\"hover_glyph\":null,\"muted_glyph\":{\"id\":\"5982\"},\"nonselection_glyph\":{\"id\":\"5981\"},\"selection_glyph\":{\"id\":\"5997\"},\"view\":{\"id\":\"5984\"}},\"id\":\"5983\",\"type\":\"GlyphRenderer\"},{\"attributes\":{\"line_color\":\"#30a2da\",\"line_width\":2,\"x\":{\"field\":\"index\"},\"y\":{\"field\":\"value\"}},\"id\":\"5980\",\"type\":\"Line\"},{\"attributes\":{},\"id\":\"5975\",\"type\":\"BasicTickFormatter\"},{\"attributes\":{\"line_color\":\"#17becf\",\"line_width\":2,\"x\":{\"field\":\"index\"},\"y\":{\"field\":\"value\"}},\"id\":\"6101\",\"type\":\"Line\"},{\"attributes\":{\"line_color\":\"#6d904f\",\"line_width\":2,\"x\":{\"field\":\"index\"},\"y\":{\"field\":\"value\"}},\"id\":\"6047\",\"type\":\"Line\"},{\"attributes\":{\"line_alpha\":0.1,\"line_color\":\"#fc4f30\",\"line_width\":2,\"x\":{\"field\":\"index\"},\"y\":{\"field\":\"value\"}},\"id\":\"6002\",\"type\":\"Line\"},{\"attributes\":{\"axis_label\":\"\",\"coordinates\":null,\"formatter\":{\"id\":\"5972\"},\"group\":null,\"major_label_policy\":{\"id\":\"5973\"},\"ticker\":{\"id\":\"5951\"}},\"id\":\"5950\",\"type\":\"LinearAxis\"},{\"attributes\":{\"label\":{\"value\":\"Seattle Commerical Food CPI\"},\"renderers\":[{\"id\":\"6004\"}]},\"id\":\"6018\",\"type\":\"LegendItem\"},{\"attributes\":{},\"id\":\"6039\",\"type\":\"UnionRenderers\"},{\"attributes\":{\"line_alpha\":0.2,\"line_color\":\"#6d904f\",\"line_width\":2,\"x\":{\"field\":\"index\"},\"y\":{\"field\":\"value\"}},\"id\":\"6049\",\"type\":\"Line\"},{\"attributes\":{\"end\":0.6157932392664185,\"reset_end\":0.6157932392664185,\"reset_start\":-0.33794834616688085,\"start\":-0.33794834616688085,\"tags\":[[[\"value\",\"value\",null]]]},\"id\":\"5934\",\"type\":\"Range1d\"},{\"attributes\":{\"line_color\":\"#fc4f30\",\"line_width\":2,\"x\":{\"field\":\"index\"},\"y\":{\"field\":\"value\"}},\"id\":\"6019\",\"type\":\"Line\"},{\"attributes\":{\"margin\":[5,5,5,5],\"name\":\"HSpacer11006\",\"sizing_mode\":\"stretch_width\"},\"id\":\"5932\",\"type\":\"Spacer\"},{\"attributes\":{},\"id\":\"5946\",\"type\":\"LinearScale\"},{\"attributes\":{\"line_color\":\"#e5ae38\",\"line_width\":2,\"x\":{\"field\":\"index\"},\"y\":{\"field\":\"value\"}},\"id\":\"6023\",\"type\":\"Line\"},{\"attributes\":{\"axis\":{\"id\":\"5950\"},\"coordinates\":null,\"grid_line_color\":null,\"group\":null,\"ticker\":null},\"id\":\"5953\",\"type\":\"Grid\"},{\"attributes\":{\"data\":{\"Variable\":[\"Seattle Commerical Food CPI\",\"Seattle Commerical Food CPI\",\"Seattle Commerical Food CPI\",\"Seattle Commerical Food CPI\",\"Seattle Commerical Food CPI\",\"Seattle Commerical Food CPI\"],\"index\":[2016,2017,2018,2019,2020,2021],\"value\":{\"__ndarray__\":\"QHdq/43voD+AQ/3IUM+eP8D4FIZXwp4/gFpooNV8nz8gmW74AfinP5C2a6f4vbA/\",\"dtype\":\"float64\",\"order\":\"little\",\"shape\":[6]}},\"selected\":{\"id\":\"5999\"},\"selection_policy\":{\"id\":\"6015\"}},\"id\":\"5998\",\"type\":\"ColumnDataSource\"},{\"attributes\":{\"data\":{\"Variable\":[\"Real Estate stocks\",\"Real Estate stocks\",\"Real Estate stocks\",\"Real Estate stocks\",\"Real Estate stocks\",\"Real Estate stocks\"],\"index\":[2016,2017,2018,2019,2020,2021],\"value\":{\"__ndarray__\":\"wLYWO4rllr9AKu3eB8KdP4j968DOn80/0OdAu3fbxT+ozzido5rRPwKFvJl9KeE/\",\"dtype\":\"float64\",\"order\":\"little\",\"shape\":[6]}},\"selected\":{\"id\":\"6021\"},\"selection_policy\":{\"id\":\"6039\"}},\"id\":\"6020\",\"type\":\"ColumnDataSource\"},{\"attributes\":{\"end\":2021.0,\"reset_end\":2021.0,\"reset_start\":2016.0,\"start\":2016.0,\"tags\":[[[\"index\",\"index\",null]]]},\"id\":\"5933\",\"type\":\"Range1d\"},{\"attributes\":{},\"id\":\"5972\",\"type\":\"BasicTickFormatter\"},{\"attributes\":{\"line_alpha\":0.2,\"line_color\":\"#e5ae38\",\"line_width\":2,\"x\":{\"field\":\"index\"},\"y\":{\"field\":\"value\"}},\"id\":\"6025\",\"type\":\"Line\"},{\"attributes\":{},\"id\":\"5978\",\"type\":\"Selection\"},{\"attributes\":{\"data\":{\"Variable\":[\"Apparel stocks\",\"Apparel stocks\",\"Apparel stocks\",\"Apparel stocks\",\"Apparel stocks\",\"Apparel stocks\"],\"index\":[2016,2017,2018,2019,2020,2021],\"value\":{\"__ndarray__\":\"QMIqQcWK0L+4NzSOVzvEv2jToq/HL9o/8CtndjPkyD/op/CiJLHSP/zuMbllYtY/\",\"dtype\":\"float64\",\"order\":\"little\",\"shape\":[6]}},\"selected\":{\"id\":\"6071\"},\"selection_policy\":{\"id\":\"6093\"}},\"id\":\"6070\",\"type\":\"ColumnDataSource\"},{\"attributes\":{\"line_color\":\"#6d904f\",\"line_width\":2,\"x\":{\"field\":\"index\"},\"y\":{\"field\":\"value\"}},\"id\":\"6069\",\"type\":\"Line\"}],\"root_ids\":[\"5931\"]},\"title\":\"Bokeh Application\",\"version\":\"2.4.2\"}};\n",
       "    var render_items = [{\"docid\":\"5b46fcae-2b9e-426b-918f-a6a10236b6a9\",\"root_ids\":[\"5931\"],\"roots\":{\"5931\":\"af4d606a-e008-46a2-aa1e-69aadd1da03c\"}}];\n",
       "    root.Bokeh.embed.embed_items_notebook(docs_json, render_items);\n",
       "  }\n",
       "  if (root.Bokeh !== undefined && root.Bokeh.Panel !== undefined) {\n",
       "    embed_document(root);\n",
       "  } else {\n",
       "    var attempts = 0;\n",
       "    var timer = setInterval(function(root) {\n",
       "      if (root.Bokeh !== undefined && root.Bokeh.Panel !== undefined) {\n",
       "        clearInterval(timer);\n",
       "        embed_document(root);\n",
       "      } else if (document.readyState == \"complete\") {\n",
       "        attempts++;\n",
       "        if (attempts > 200) {\n",
       "          clearInterval(timer);\n",
       "          console.log(\"Bokeh: ERROR: Unable to run BokehJS code because BokehJS library is missing\");\n",
       "        }\n",
       "      }\n",
       "    }, 25, root)\n",
       "  }\n",
       "})(window);</script>"
      ],
      "text/plain": [
       ":NdOverlay   [Variable]\n",
       "   :Curve   [index]   (value)"
      ]
     },
     "execution_count": 206,
     "metadata": {
      "application/vnd.holoviews_exec.v0+json": {
       "id": "5931"
      }
     },
     "output_type": "execute_result"
    }
   ],
   "source": [
    "all_data_combined = pd.concat([food_combined, Housing_combined, apparel_combined], axis=1, join= \"inner\")\n",
    "\n",
    "all_data_combined.hvplot.line()"
   ]
  },
  {
   "cell_type": "code",
   "execution_count": 203,
   "metadata": {},
   "outputs": [],
   "source": [
    "seattle_apparel_industry_bar = apparel_combined.hvplot.bar(rot=90, xlabel= \"Years\", ylabel= \"Percent Change\", title= \" Apparel Industry Comparison\")\n",
    "seattle_housing_industry_bar = Housing_combined.hvplot.bar(rot=90, xlabel= \"Years\", ylabel= \"Percent Change\", title= \" Housing Industry Comparison\")\n",
    "seattle_food_industry_bar = food_combined.hvplot.bar(rot=90, xlabel= \"Years\", ylabel= \"Percent Change\", title= \" Food Industry Comparison\")"
   ]
  },
  {
   "cell_type": "code",
   "execution_count": 204,
   "metadata": {},
   "outputs": [
    {
     "data": {},
     "metadata": {},
     "output_type": "display_data"
    },
    {
     "data": {
      "application/vnd.holoviews_exec.v0+json": "",
      "text/html": [
       "<div id='5809'>\n",
       "\n",
       "\n",
       "\n",
       "\n",
       "\n",
       "  <div class=\"bk-root\" id=\"7cff2212-ac0c-4f85-b0fa-efa0fef428ab\" data-root-id=\"5809\"></div>\n",
       "</div>\n",
       "<script type=\"application/javascript\">(function(root) {\n",
       "  function embed_document(root) {\n",
       "    var docs_json = {\"6647da8b-5a4e-4b3c-8164-36a5a9d797b3\":{\"defs\":[{\"extends\":null,\"module\":null,\"name\":\"ReactiveHTML1\",\"overrides\":[],\"properties\":[]},{\"extends\":null,\"module\":null,\"name\":\"FlexBox1\",\"overrides\":[],\"properties\":[{\"default\":\"flex-start\",\"kind\":null,\"name\":\"align_content\"},{\"default\":\"flex-start\",\"kind\":null,\"name\":\"align_items\"},{\"default\":\"row\",\"kind\":null,\"name\":\"flex_direction\"},{\"default\":\"wrap\",\"kind\":null,\"name\":\"flex_wrap\"},{\"default\":\"flex-start\",\"kind\":null,\"name\":\"justify_content\"}]},{\"extends\":null,\"module\":null,\"name\":\"TemplateActions1\",\"overrides\":[],\"properties\":[{\"default\":0,\"kind\":null,\"name\":\"open_modal\"},{\"default\":0,\"kind\":null,\"name\":\"close_modal\"}]},{\"extends\":null,\"module\":null,\"name\":\"MaterialTemplateActions1\",\"overrides\":[],\"properties\":[{\"default\":0,\"kind\":null,\"name\":\"open_modal\"},{\"default\":0,\"kind\":null,\"name\":\"close_modal\"}]}],\"roots\":{\"references\":[{\"attributes\":{\"factors\":[[\"2016\",\"Commerical Food stocks\"],[\"2016\",\"Seattle Commerical Food CPI\"],[\"2017\",\"Commerical Food stocks\"],[\"2017\",\"Seattle Commerical Food CPI\"],[\"2018\",\"Commerical Food stocks\"],[\"2018\",\"Seattle Commerical Food CPI\"],[\"2019\",\"Commerical Food stocks\"],[\"2019\",\"Seattle Commerical Food CPI\"],[\"2020\",\"Commerical Food stocks\"],[\"2020\",\"Seattle Commerical Food CPI\"],[\"2021\",\"Commerical Food stocks\"],[\"2021\",\"Seattle Commerical Food CPI\"]],\"tags\":[[[\"index\",\"index\",null],[\"Variable\",\"Variable\",null]]]},\"id\":\"5811\",\"type\":\"FactorRange\"},{\"attributes\":{\"axis_label\":\"Percent Change\",\"coordinates\":null,\"formatter\":{\"id\":\"5857\"},\"group\":null,\"major_label_policy\":{\"id\":\"5858\"},\"ticker\":{\"id\":\"5827\"}},\"id\":\"5826\",\"type\":\"LinearAxis\"},{\"attributes\":{},\"id\":\"5866\",\"type\":\"UnionRenderers\"},{\"attributes\":{\"end\":0.31131401640837897,\"reset_end\":0.31131401640837897,\"reset_start\":-0.13349500087394628,\"start\":-0.13349500087394628,\"tags\":[[[\"value\",\"value\",null]]]},\"id\":\"5812\",\"type\":\"Range1d\"},{\"attributes\":{\"axis\":{\"id\":\"5826\"},\"coordinates\":null,\"dimension\":1,\"grid_line_color\":null,\"group\":null,\"ticker\":null},\"id\":\"5829\",\"type\":\"Grid\"},{\"attributes\":{},\"id\":\"5857\",\"type\":\"BasicTickFormatter\"},{\"attributes\":{},\"id\":\"5845\",\"type\":\"Selection\"},{\"attributes\":{\"callback\":null,\"renderers\":[{\"id\":\"5850\"}],\"tags\":[\"hv_created\"],\"tooltips\":[[\"index\",\"@{index}\"],[\"Variable\",\"@{Variable}\"],[\"value\",\"@{value}\"]]},\"id\":\"5813\",\"type\":\"HoverTool\"},{\"attributes\":{},\"id\":\"5855\",\"type\":\"AllLabels\"},{\"attributes\":{},\"id\":\"5854\",\"type\":\"CategoricalTickFormatter\"},{\"attributes\":{\"below\":[{\"id\":\"5823\"}],\"center\":[{\"id\":\"5825\"},{\"id\":\"5829\"}],\"height\":300,\"left\":[{\"id\":\"5826\"}],\"margin\":[5,5,5,5],\"min_border_bottom\":10,\"min_border_left\":10,\"min_border_right\":10,\"min_border_top\":10,\"renderers\":[{\"id\":\"5850\"}],\"sizing_mode\":\"fixed\",\"title\":{\"id\":\"5815\"},\"toolbar\":{\"id\":\"5836\"},\"width\":700,\"x_range\":{\"id\":\"5811\"},\"x_scale\":{\"id\":\"5819\"},\"y_range\":{\"id\":\"5812\"},\"y_scale\":{\"id\":\"5821\"}},\"id\":\"5814\",\"subtype\":\"Figure\",\"type\":\"Plot\"},{\"attributes\":{\"tools\":[{\"id\":\"5813\"},{\"id\":\"5830\"},{\"id\":\"5831\"},{\"id\":\"5832\"},{\"id\":\"5833\"},{\"id\":\"5834\"}]},\"id\":\"5836\",\"type\":\"Toolbar\"},{\"attributes\":{\"bottom_units\":\"screen\",\"coordinates\":null,\"fill_alpha\":0.5,\"fill_color\":\"lightgrey\",\"group\":null,\"left_units\":\"screen\",\"level\":\"overlay\",\"line_alpha\":1.0,\"line_color\":\"black\",\"line_dash\":[4,4],\"line_width\":2,\"right_units\":\"screen\",\"syncable\":false,\"top_units\":\"screen\"},\"id\":\"5835\",\"type\":\"BoxAnnotation\"},{\"attributes\":{},\"id\":\"5830\",\"type\":\"SaveTool\"},{\"attributes\":{},\"id\":\"5831\",\"type\":\"PanTool\"},{\"attributes\":{\"data\":{\"Variable\":[\"Commerical Food stocks\",\"Commerical Food stocks\",\"Commerical Food stocks\",\"Commerical Food stocks\",\"Commerical Food stocks\",\"Commerical Food stocks\",\"Seattle Commerical Food CPI\",\"Seattle Commerical Food CPI\",\"Seattle Commerical Food CPI\",\"Seattle Commerical Food CPI\",\"Seattle Commerical Food CPI\",\"Seattle Commerical Food CPI\"],\"index\":[\"2016\",\"2017\",\"2018\",\"2019\",\"2020\",\"2021\",\"2016\",\"2017\",\"2018\",\"2019\",\"2020\",\"2021\"],\"value\":{\"__ndarray__\":\"kGmphkSDsD/YbFWbnO7HP0BbBoyvpMA/QNg9xMaQxz9Yvmpieq+4vySir5pBjdE/QHdq/43voD+AQ/3IUM+eP8D4FIZXwp4/gFpooNV8nz8gmW74AfinP5C2a6f4vbA/\",\"dtype\":\"float64\",\"order\":\"little\",\"shape\":[12]},\"xoffsets\":[[\"2016\",\"Commerical Food stocks\"],[\"2017\",\"Commerical Food stocks\"],[\"2018\",\"Commerical Food stocks\"],[\"2019\",\"Commerical Food stocks\"],[\"2020\",\"Commerical Food stocks\"],[\"2021\",\"Commerical Food stocks\"],[\"2016\",\"Seattle Commerical Food CPI\"],[\"2017\",\"Seattle Commerical Food CPI\"],[\"2018\",\"Seattle Commerical Food CPI\"],[\"2019\",\"Seattle Commerical Food CPI\"],[\"2020\",\"Seattle Commerical Food CPI\"],[\"2021\",\"Seattle Commerical Food CPI\"]]},\"selected\":{\"id\":\"5845\"},\"selection_policy\":{\"id\":\"5866\"}},\"id\":\"5844\",\"type\":\"ColumnDataSource\"},{\"attributes\":{\"source\":{\"id\":\"5844\"}},\"id\":\"5851\",\"type\":\"CDSView\"},{\"attributes\":{\"axis_label\":\"Years\",\"coordinates\":null,\"formatter\":{\"id\":\"5854\"},\"group\":null,\"major_label_orientation\":1.5707963267948966,\"major_label_policy\":{\"id\":\"5855\"},\"ticker\":{\"id\":\"5824\"}},\"id\":\"5823\",\"type\":\"CategoricalAxis\"},{\"attributes\":{},\"id\":\"5834\",\"type\":\"ResetTool\"},{\"attributes\":{},\"id\":\"5832\",\"type\":\"WheelZoomTool\"},{\"attributes\":{\"margin\":[5,5,5,5],\"name\":\"HSpacer10676\",\"sizing_mode\":\"stretch_width\"},\"id\":\"5879\",\"type\":\"Spacer\"},{\"attributes\":{\"overlay\":{\"id\":\"5835\"}},\"id\":\"5833\",\"type\":\"BoxZoomTool\"},{\"attributes\":{\"fill_alpha\":{\"value\":0.1},\"fill_color\":{\"field\":\"Variable\",\"transform\":{\"id\":\"5843\"}},\"hatch_alpha\":{\"value\":0.1},\"hatch_color\":{\"field\":\"Variable\",\"transform\":{\"id\":\"5843\"}},\"line_alpha\":{\"value\":0.1},\"top\":{\"field\":\"value\"},\"width\":{\"value\":0.8},\"x\":{\"field\":\"xoffsets\"}},\"id\":\"5848\",\"type\":\"VBar\"},{\"attributes\":{\"axis\":{\"id\":\"5823\"},\"coordinates\":null,\"grid_line_color\":null,\"group\":null,\"ticker\":null},\"id\":\"5825\",\"type\":\"Grid\"},{\"attributes\":{\"coordinates\":null,\"group\":null,\"text\":\"Food Industry Comparison\",\"text_color\":\"black\",\"text_font_size\":\"12pt\"},\"id\":\"5815\",\"type\":\"Title\"},{\"attributes\":{\"factors\":[\"Commerical Food stocks\",\"Seattle Commerical Food CPI\"],\"palette\":[\"#30a2da\",\"#fc4f30\"]},\"id\":\"5843\",\"type\":\"CategoricalColorMapper\"},{\"attributes\":{\"bottom\":{\"value\":0},\"fill_alpha\":{\"value\":1.0},\"fill_color\":{\"field\":\"Variable\",\"transform\":{\"id\":\"5843\"}},\"hatch_alpha\":{\"value\":1.0},\"hatch_color\":{\"field\":\"Variable\",\"transform\":{\"id\":\"5843\"}},\"hatch_scale\":{\"value\":12.0},\"hatch_weight\":{\"value\":1.0},\"line_alpha\":{\"value\":1.0},\"line_cap\":{\"value\":\"butt\"},\"line_color\":{\"value\":\"black\"},\"line_dash\":{\"value\":[]},\"line_dash_offset\":{\"value\":0},\"line_join\":{\"value\":\"bevel\"},\"line_width\":{\"value\":1},\"top\":{\"field\":\"value\"},\"width\":{\"value\":0.8},\"x\":{\"field\":\"xoffsets\"}},\"id\":\"5852\",\"type\":\"VBar\"},{\"attributes\":{\"children\":[{\"id\":\"5810\"},{\"id\":\"5814\"},{\"id\":\"5879\"}],\"margin\":[0,0,0,0],\"name\":\"Row10671\",\"tags\":[\"embedded\"]},\"id\":\"5809\",\"type\":\"Row\"},{\"attributes\":{},\"id\":\"5819\",\"type\":\"CategoricalScale\"},{\"attributes\":{\"coordinates\":null,\"data_source\":{\"id\":\"5844\"},\"glyph\":{\"id\":\"5847\"},\"group\":null,\"hover_glyph\":null,\"muted_glyph\":{\"id\":\"5849\"},\"nonselection_glyph\":{\"id\":\"5848\"},\"selection_glyph\":{\"id\":\"5852\"},\"view\":{\"id\":\"5851\"}},\"id\":\"5850\",\"type\":\"GlyphRenderer\"},{\"attributes\":{},\"id\":\"5858\",\"type\":\"AllLabels\"},{\"attributes\":{\"margin\":[5,5,5,5],\"name\":\"HSpacer10675\",\"sizing_mode\":\"stretch_width\"},\"id\":\"5810\",\"type\":\"Spacer\"},{\"attributes\":{\"fill_color\":{\"field\":\"Variable\",\"transform\":{\"id\":\"5843\"}},\"hatch_color\":{\"field\":\"Variable\",\"transform\":{\"id\":\"5843\"}},\"top\":{\"field\":\"value\"},\"width\":{\"value\":0.8},\"x\":{\"field\":\"xoffsets\"}},\"id\":\"5847\",\"type\":\"VBar\"},{\"attributes\":{},\"id\":\"5824\",\"type\":\"CategoricalTicker\"},{\"attributes\":{},\"id\":\"5821\",\"type\":\"LinearScale\"},{\"attributes\":{},\"id\":\"5827\",\"type\":\"BasicTicker\"},{\"attributes\":{\"fill_alpha\":{\"value\":0.2},\"fill_color\":{\"field\":\"Variable\",\"transform\":{\"id\":\"5843\"}},\"hatch_alpha\":{\"value\":0.2},\"hatch_color\":{\"field\":\"Variable\",\"transform\":{\"id\":\"5843\"}},\"line_alpha\":{\"value\":0.2},\"top\":{\"field\":\"value\"},\"width\":{\"value\":0.8},\"x\":{\"field\":\"xoffsets\"}},\"id\":\"5849\",\"type\":\"VBar\"}],\"root_ids\":[\"5809\"]},\"title\":\"Bokeh Application\",\"version\":\"2.4.2\"}};\n",
       "    var render_items = [{\"docid\":\"6647da8b-5a4e-4b3c-8164-36a5a9d797b3\",\"root_ids\":[\"5809\"],\"roots\":{\"5809\":\"7cff2212-ac0c-4f85-b0fa-efa0fef428ab\"}}];\n",
       "    root.Bokeh.embed.embed_items_notebook(docs_json, render_items);\n",
       "  }\n",
       "  if (root.Bokeh !== undefined && root.Bokeh.Panel !== undefined) {\n",
       "    embed_document(root);\n",
       "  } else {\n",
       "    var attempts = 0;\n",
       "    var timer = setInterval(function(root) {\n",
       "      if (root.Bokeh !== undefined && root.Bokeh.Panel !== undefined) {\n",
       "        clearInterval(timer);\n",
       "        embed_document(root);\n",
       "      } else if (document.readyState == \"complete\") {\n",
       "        attempts++;\n",
       "        if (attempts > 200) {\n",
       "          clearInterval(timer);\n",
       "          console.log(\"Bokeh: ERROR: Unable to run BokehJS code because BokehJS library is missing\");\n",
       "        }\n",
       "      }\n",
       "    }, 25, root)\n",
       "  }\n",
       "})(window);</script>"
      ],
      "text/plain": [
       ":Bars   [index,Variable]   (value)"
      ]
     },
     "execution_count": 204,
     "metadata": {
      "application/vnd.holoviews_exec.v0+json": {
       "id": "5809"
      }
     },
     "output_type": "execute_result"
    }
   ],
   "source": [
    "# combined_industry_bar = seattle_apparel_industry_bar + seattle_housing_industry_bar + seattle_food_industry_bar\n",
    "# combined_industry_bar\n",
    "\n",
    "seattle_food_industry_bar"
   ]
  }
 ],
 "metadata": {
  "interpreter": {
   "hash": "c261771a7ae6b4c23385bf5def5723b059bff1cba888db407d45894bc68c4fa0"
  },
  "kernelspec": {
   "display_name": "Python [conda env:dev] *",
   "language": "python",
   "name": "conda-env-dev-py"
  },
  "language_info": {
   "codemirror_mode": {
    "name": "ipython",
    "version": 3
   },
   "file_extension": ".py",
   "mimetype": "text/x-python",
   "name": "python",
   "nbconvert_exporter": "python",
   "pygments_lexer": "ipython3",
   "version": "3.7.11"
  }
 },
 "nbformat": 4,
 "nbformat_minor": 4
}
